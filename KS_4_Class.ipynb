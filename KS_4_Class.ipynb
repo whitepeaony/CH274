{
 "cells": [
  {
   "cell_type": "code",
   "execution_count": 1,
   "metadata": {},
   "outputs": [
    {
     "data": {
      "text/html": [
       "<script>\n",
       "code_show=true; \n",
       "function code_toggle() {\n",
       "    if (code_show){\n",
       "        $('div.cell.code_cell.rendered.selected div.input').hide();\n",
       "    } else {\n",
       "        $('div.cell.code_cell.rendered.selected div.input').show();\n",
       "    }\n",
       "    code_show = !code_show\n",
       "} \n",
       "$( document ).ready(code_toggle);\n",
       "</script>\n",
       "Some hidden code... to show/hide this cell's raw code input, click (or double click if stubborn!) <a href=\"javascript:code_toggle()\">here</a>."
      ],
      "text/plain": [
       "<IPython.core.display.HTML object>"
      ]
     },
     "metadata": {},
     "output_type": "display_data"
    },
    {
     "data": {
      "text/html": [
       "<style>\n",
       "div.warn {    \n",
       "    background-color: #b3b3ff;\n",
       "    border-color: #0000b3;\n",
       "    border-left: 5px solid #0000b3;\n",
       "    padding: 0.5em;\n",
       "    }\n",
       " </style>\n"
      ],
      "text/plain": [
       "<IPython.core.display.HTML object>"
      ]
     },
     "execution_count": 1,
     "metadata": {},
     "output_type": "execute_result"
    }
   ],
   "source": [
    "from IPython.display import HTML\n",
    "from IPython.display import display\n",
    "\n",
    "# Taken from https://stackoverflow.com/questions/31517194/how-to-hide-one-specific-cell-input-or-output-in-ipython-notebook\n",
    "tag = HTML('''<script>\n",
    "code_show=true; \n",
    "function code_toggle() {\n",
    "    if (code_show){\n",
    "        $('div.cell.code_cell.rendered.selected div.input').hide();\n",
    "    } else {\n",
    "        $('div.cell.code_cell.rendered.selected div.input').show();\n",
    "    }\n",
    "    code_show = !code_show\n",
    "} \n",
    "$( document ).ready(code_toggle);\n",
    "</script>\n",
    "Some hidden code... to show/hide this cell's raw code input, click (or double click if stubborn!) <a href=\"javascript:code_toggle()\">here</a>.''')\n",
    "display(tag)\n",
    "\n",
    "############### Write code below ##################\n",
    "from IPython.core.display import HTML\n",
    "def css_styling():\n",
    "    styles = open(\"./STUFF/colors.css\", \"r\").read()\n",
    "    return HTML(styles)\n",
    "css_styling()"
   ]
  },
  {
   "cell_type": "markdown",
   "metadata": {},
   "source": [
    "<div class=warn>\n",
    "These blue boxes contain instructions for you to follow, or stuff for you to do\n",
    "<h2>How to access this Jupyter notebook</h2>\n",
    "\n",
    "* <b>Step 1</b>: Open a web browser, go to [this page](https://warwick.ac.uk/fac/sci/chemistry/research/maurer/maurergroup/software/iatl_strategic_project/), scroll down, download the Login App (the Windows exacutable if using ITS machines) and double click on the executable (usually ended up into the Download folder) <br>\n",
    "* <b>Step 2</b>: The Notebook Launcher pops up: select the CH274 module and fill in the boxes using your SCRTP username and password <br>\n",
    "* <b>Step 3</b>: Open the Jupyter notebook you are interested in, e.g. KS_3_Class.ipynb <br>\n",
    "* <b>Step 4</b>: Make a copy of the orginal notebook (which is read only). In the toolbar on top of the notebook: File - Make a Copy <br>\n",
    "* <b>Step 5</b>: You're all set! <br><br>\n",
    "<b> Remember: </b> You can access this notebook at home at any time by going through the same steps on e.g. your laptop - all the changes you have made will be saved and synced!<br>\n",
    "<div/>"
   ]
  },
  {
   "cell_type": "markdown",
   "metadata": {},
   "source": [
    "# Plotting With Matplotlib"
   ]
  },
  {
   "cell_type": "markdown",
   "metadata": {},
   "source": [
    "# 0.1. Introduction.\n",
    "Many Python packages can be used for plotting data (including, but not limited to, Bokeh, Seaborn, ggplot, Plotly, $etc.$), but [Matplotlib](https://matplotlib.org) is probably the most popular. It is a hugely versatile package, allowing users to produce high-quality figures suitable for publication in journals, books, and theses. This key skills workshop will introduce some of the functionality of the Matplotlib module, and builds upon your existing knowledge of the NumPy module,loop structures, and file input/output syntax within Python.\n",
    "\n",
    "Section 1. and the first part of section 2. introduce the core concepts of Matplotlib plotting, and you should aim to complete as much of this material as possible today. Section 2.1 onwards is useful to know, but not essential. It is unlikely that you will get onto this material today, but you should still attempt it in your own time."
   ]
  },
  {
   "cell_type": "markdown",
   "metadata": {},
   "source": [
    "## 0.1. Loading the required packages\n",
    "As with all Python programming, the first step is load all of the optional modules we will need. For this workshop we will use both the Matplotlib module, and NumPy (the fundamental Python package for scientific computing). In order to display Matplotlib plots within a Jupyter notebook we also need to include a \"Magic command\"."
   ]
  },
  {
   "cell_type": "code",
   "execution_count": null,
   "metadata": {},
   "outputs": [],
   "source": [
    "#this 'magic command' is needed to display plots within a Jupyter notebook\n",
    "%matplotlib inline \n",
    "\n",
    "#import Numpy (np) and Matplotlib (plt)\n",
    "import matplotlib.pyplot as plt\n",
    "import numpy as np"
   ]
  },
  {
   "cell_type": "markdown",
   "metadata": {},
   "source": [
    "# 1. Basic Plotting\n",
    "## 1.1 Pylab interface\n",
    "Simple plots can be created very quickly using the MATLAB-like commands supported by pylab: "
   ]
  },
  {
   "cell_type": "code",
   "execution_count": null,
   "metadata": {},
   "outputs": [],
   "source": [
    "#create some simple data\n",
    "x=np.array([0,1,2,3,4]) #defining x as a NumPy array allows us to manipulate it mathematically\n",
    "y=2*x \n",
    "\n",
    "#plot data as a line graph\n",
    "plt.plot(x,y)\n",
    "\n",
    "#add axis labels\n",
    "plt.xlabel(\"x\")\n",
    "plt.ylabel(\"y\")\n",
    "\n",
    "#display the graph\n",
    "plt.show()"
   ]
  },
  {
   "cell_type": "markdown",
   "metadata": {},
   "source": [
    "To plot multiple lines on the same graph, we can use mulitple plot commands. The lines are automatically given different colours."
   ]
  },
  {
   "cell_type": "code",
   "execution_count": null,
   "metadata": {},
   "outputs": [],
   "source": [
    "y1=x**2 #'x' and 'y' were defined above\n",
    "\n",
    "plt.plot(x,y,label=\"$y=x$\") #'label=\"...\"' used to create a plot legend. Enclosing the label text between a pair\n",
    "plt.plot(x,y1,label=\"$y=x^2$\") #of '$' symbols allows us to use the mathematical typesetting capabilities of LaTeX\n",
    "\n",
    "plt.xlabel('x')\n",
    "plt.ylabel('y')\n",
    "\n",
    "#add a plot legend\n",
    "plt.legend()\n",
    "\n",
    "plt.show()"
   ]
  },
  {
   "cell_type": "markdown",
   "metadata": {},
   "source": [
    "We can manually change the appearance of plots (colour, symbol, $etc.$) through optional instructions:"
   ]
  },
  {
   "cell_type": "code",
   "execution_count": null,
   "metadata": {},
   "outputs": [],
   "source": [
    "#series of plots with differing line styles\n",
    "plt.plot(x,x) #i.e. a plot of y=x with default styling\n",
    "plt.plot(x,x+1,'go') # y=x+1, g=green, o=round points\n",
    "plt.plot(x,x+2,'c-.') #c= cyan, -.= dash-dot line\n",
    "plt.plot(x,x+3,'r-o') #r=red, -o= solid line with round points\n",
    "plt.plot(x,x+4,'k-*') #k=black, -*=solid line with star-shaped points\n",
    "plt.plot(x,x+5,'--') #--=dashed line\n",
    "\n",
    "plt.xlabel(\"x\")\n",
    "plt.ylabel(\"y\")\n",
    "plt.show()"
   ]
  },
  {
   "cell_type": "markdown",
   "metadata": {},
   "source": [
    "<div class=warn>\n",
    "\n",
    "### <font>Task 1:</font>\n",
    "Produce a line plot of the function $y(x)=x^3$, with $x=-10, -9,8,\\ldots,8,9,10$ in the code cell below. Remember to label your axes and include a plot legend.\n",
    "\n",
    "<b> Helpful tip:</b> ```x=np.arange(start,stop,step)``` can automatically create your x-data for you.\n",
    "<a href=\"https://docs.scipy.org/doc/numpy-1.15.0/reference/generated/numpy.arange.html#numpy.arange\">Click here</a> to read the help file (note especially the information about the stop parameter). "
   ]
  },
  {
   "cell_type": "code",
   "execution_count": null,
   "metadata": {},
   "outputs": [],
   "source": [
    "#Task 1 answer:\n"
   ]
  },
  {
   "cell_type": "markdown",
   "metadata": {},
   "source": [
    "<div class=warn>\n",
    "\n",
    "### <font >Task 2:</font>\n",
    "Repeat the above, but superimpose the data points on the line. Make the data points red, and the line cyan. Include a legend and axis labels on your plot"
   ]
  },
  {
   "cell_type": "code",
   "execution_count": null,
   "metadata": {},
   "outputs": [],
   "source": [
    "#Task 2 answer:\n"
   ]
  },
  {
   "cell_type": "markdown",
   "metadata": {},
   "source": [
    "## 1.1. Importing data\n",
    "Oftentimes we want to graph the data produced during an experiment, rather than plot mathematical functions. This often requires that we are able to read in data from a text file (```.txt```, ```.csv```, and ```.dat``` are common text filetypes). Numpy provides us with several options for reading data from such files.\n",
    "\n",
    "The easiest method is to use ```np.loadtxt('filename')```. This command will load the file specified by the ```'filename'``` argument. If the file to be read is in a different directory from your Jupyter notebook, then you need to include the directory path in this argument. By default, ```np.loadtxt``` looks for whitespace (spaces, tabs) to signify the separation between columns in the data. To read a comma-separated (```.csv```) file we need to include the optional argument ```delimiter=','```."
   ]
  },
  {
   "cell_type": "code",
   "execution_count": null,
   "metadata": {},
   "outputs": [],
   "source": [
    "#File input example:\n",
    "#Read in 'IRdata.csv' from 'STUFF' folder (in the same directory as python notebook)\n",
    "#when reading a .csv file we need to inculde the delimiter=',' argument\n",
    "data=np.loadtxt('./STUFF/IRdata.csv',delimiter=',') \n",
    "\n",
    "#(Optional) print array to check it has read in correctly\n",
    "print(data)"
   ]
  },
  {
   "cell_type": "markdown",
   "metadata": {},
   "source": [
    "Once we have loaded the data, we need to select the individual columns by <i>slicing</i> the array:"
   ]
  },
  {
   "cell_type": "code",
   "execution_count": null,
   "metadata": {},
   "outputs": [],
   "source": [
    "#Slice the array 'data' to create our x- ('wavenumber') and y- ('Intensity') values for plotting:\n",
    "wavenumber=data[:,0] #[:,0] selects everything in the first column\n",
    "Intensity=data[:,1] #everything in the second column\n",
    "\n",
    "#(Optional) Print the first three elements of 'wavenumber' and 'Intensity' to check things have worked as expected\n",
    "print(wavenumber[:3],Intensity[:3])"
   ]
  },
  {
   "cell_type": "markdown",
   "metadata": {},
   "source": [
    "<div class=warn>\n",
    "    \n",
    "### <font >Task 3:</font>\n",
    "Create a plot of Intensity <i>vs.</i> wavenumber. Remember to label the axes."
   ]
  },
  {
   "cell_type": "code",
   "execution_count": null,
   "metadata": {},
   "outputs": [],
   "source": [
    "#Task 3 answer:\n"
   ]
  },
  {
   "cell_type": "markdown",
   "metadata": {},
   "source": [
    "One of the major drawbacks of the ```np.loadtxt()``` approach is that numpy throws a major wobbler if your file contains non-numerical entries (<i>e.g.</i> column headers). If you know that your file has column headers you can include the optional argument ```skiprows=n``` which tells numpy not to import the first <i>n</i> rows of the input file (section 3. details another - probably better - method of dealing with column headers)."
   ]
  },
  {
   "cell_type": "markdown",
   "metadata": {},
   "source": [
    "<div class=warn>\n",
    "    \n",
    "### <font >Task 4:</font>\n",
    "Attempt to read in the file 'deviousHeaders.csv' (located in the 'STUFF' folder) and see what happens..."
   ]
  },
  {
   "cell_type": "code",
   "execution_count": null,
   "metadata": {},
   "outputs": [],
   "source": [
    "#Task 4 answer:\n"
   ]
  },
  {
   "cell_type": "markdown",
   "metadata": {},
   "source": [
    "<div class=warn>\n",
    "    \n",
    "### <font >Task 5:</font>\n",
    "Repeat the above, but include the optional argument ```skiprows=1```.\n",
    "\n",
    "Plot the data as in task 3."
   ]
  },
  {
   "cell_type": "code",
   "execution_count": null,
   "metadata": {},
   "outputs": [],
   "source": [
    "#Task 5 answer:\n"
   ]
  },
  {
   "cell_type": "markdown",
   "metadata": {},
   "source": [
    "## 1.2. Exporting Plots\n",
    "Oftentimes you want to include a copy of your graph in a report or presentation. Thankfully this is simple to do in Matplotlib. All we need to do is include a single new command in our code:\n",
    "\n",
    "```plt.savefig('filename.extension')```\n",
    "\n",
    "The plot can be exported in several different formats by simply changing the ```.extension``` text. The two most common formats probably are PDF (```.pdf```) and PNG (```.png```). PDF files are vector (line) based, and as such can be manually scaled without loss of quality (and can also be extensively edited in programs such as Adobe Illustrator or Affinity Designer), while PNG files are pixel based and cannot have their size changed without reducing image quality - to test this, zoom in on pdf and png images and see what happens... \n",
    "\n",
    "### Important note:\n",
    "You must run ```plt.savefig(...)``` before a ```plt.show()``` command or your exported file will be empty picture. Once the image is printed to screen it is cleared from memory."
   ]
  },
  {
   "cell_type": "code",
   "execution_count": null,
   "metadata": {},
   "outputs": [],
   "source": [
    "#Exporting plot example\n",
    "\n",
    "#generate x data using numpy linspace command \n",
    "x=np.linspace(-3*np.pi,3*np.pi,200) #generate 200 evenly-spaced data points between -3 pi and 3 pi inclusive\n",
    "\n",
    "#Use a For loop to automatically generate labelled plots of x^n sin(x) for n=1,2,3, and 4\n",
    "\n",
    "for n in range(1,5): #the last value isn't included in the loop\n",
    "    y=x**n * np.sin(x)\n",
    "    y/=max(y) #Scales the graphs to a maximum of 1\n",
    "    plt.plot(x,y,label='$x^{}\\sin(x)$'.format(n)) #.format(n) sticks the current value for n into the space defined by the curly brace\n",
    "\n",
    "plt.legend()\n",
    "plt.xlabel(\"x\")\n",
    "plt.ylabel(\"y\")\n",
    "\n",
    "#Save the figure as both a pdf and png file, where we have manually defined the resolution of the png file\n",
    "plt.savefig('Export_example.pdf')\n",
    "plt.savefig('Export_example.png',dpi=400)\n",
    "plt.show()"
   ]
  },
  {
   "cell_type": "markdown",
   "metadata": {},
   "source": [
    "<div class=warn>\n",
    "\n",
    "### <font >Task 6:</font>\n",
    "    \n",
    "Using the code above as a guide (i.e. copy and paste the bits you need and modify where appropriate), prepare and export plots of $y=\\cos(nx)$ over the range $x=-\\pi/2$ to $x=\\pi/2$ and for n=1,2,3, and 4. Save your plots as a pdf file, and as png images with resolutions of 40 dpi and 400 dpi."
   ]
  },
  {
   "cell_type": "code",
   "execution_count": null,
   "metadata": {},
   "outputs": [],
   "source": [
    "#Task 6 answer:\n"
   ]
  },
  {
   "cell_type": "markdown",
   "metadata": {},
   "source": [
    "# 2. Advanced Plotting\n",
    "The basic plotting introduced above is excellent for rapidly producing graphs; however, it has limited functionality. To make our plots more customisable we need to use a slightly more complex set of instructions. This advanced plotting makes use of an <i>object-oriented approach</i>, and requires us to think about a plot in terms of a <i>figure object</i> to which we attach a series of <i>axes objects</i>. Modification of these axes objects (which include things like the plots themselves, axis labels, gridlines, <i>etc.</i>) then allows us to customise the figures to our liking.\n",
    "\n",
    "An example of what can be achieved using this object oriented approach is shown below (taken from C Hill, <i>Learning Scientific Programming With Python</i>, Cambridge University Press, Cambridge, 2015.)"
   ]
  },
  {
   "cell_type": "code",
   "execution_count": null,
   "metadata": {},
   "outputs": [],
   "source": [
    "# wavelength range, nm\n",
    "lmin,lmax=250,1000\n",
    "x=np.linspace(lmin,lmax,1000)\n",
    "#A wave with smoothly increasing wavelength\n",
    "wv=(np.sin(10*np.pi*x / (lmax+lmin-x)))[::-1]\n",
    "\n",
    "#Set up the plot elements\n",
    "fig,ax=plt.subplots(figsize=(12,8))\n",
    "\n",
    "ax.patch.set_facecolor('black')\n",
    "ax.plot(x,wv,c='w',lw=2)\n",
    "ax.set_xlim(250,1000)\n",
    "ax.set_ylim(-2,2)\n",
    "\n",
    "#Label and delimit the different regions of the electromagnetic spectrum\n",
    "ax.text(310,1.5,'UV',color='w',fontdict={'fontsize':20})\n",
    "ax.text(530,1.5,'Visible',color='k',fontdict={'fontsize':20})\n",
    "ax.annotate('',(400,1.3),(750,1.3),arrowprops={'arrowstyle':'<|-|>','color':'k','lw':2})\n",
    "ax.text(860,1.5,'IR',color='w',fontdict={'fontsize':20})\n",
    "ax.axvline(400,-2,2,c='w',ls='--')\n",
    "ax.axvline(750,-2,2,c='w',ls='--')\n",
    "\n",
    "#Horizontal \"axis\" across the centre of the wave\n",
    "ax.axhline(c='w')\n",
    "\n",
    "#Remove the y-axis ticks and labels; label the x-axis\n",
    "ax.yaxis.set_visible(False)\n",
    "ax.set_xlabel('$\\lambda\\;/\\mathrm{nm}$',fontsize=18)\n",
    "\n",
    "#Add a title to the figure\n",
    "ax.set_title('The Electromagnetic Spectrum',fontsize=24)\n",
    "\n",
    "#Finally, add some colourful rectangles representing a rainbow in\n",
    "#the visible region of the spectrum\n",
    "\n",
    "#Dictionary mapping of wavelength regions (nm) to approximate RGB values\n",
    "rainbow_rgb={(400,440):'#8b00ff',(440,460):'#4b0082',(460,500):'#0000ff',\n",
    "            (500,570):'#00ff00',(570,590):'#ffff00',(590,620):'#ff7f00',\n",
    "            (620,750):'#ff0000'}\n",
    "for wv_range, rgb in rainbow_rgb.items():\n",
    "    ax.axvspan(*wv_range,color=rgb,ec='none',alpha=0.8)\n",
    "\n",
    "plt.show()"
   ]
  },
  {
   "cell_type": "markdown",
   "metadata": {},
   "source": [
    "The above code box highlights several important points:\n",
    "* The command ```fig,ax=plt.subplots()``` simultaneously creates both a figure object and an axes object.\n",
    "* The figure object is our <i>top-level</i> object, to which all other elements of the plot are attached. We can add an optional argument ```figsize=(width, height)``` to specify the size of the plot (in inches unfortunately), very handy to create png figures of the correct size straight away rather than rescaling them later.\n",
    "* The axes object is the one we use to actually specify the elements of a plot, including the axes, tick-marks, figure labels, plot lines/markers, <i>etc.</i>\n",
    "* Plot elements are added to the axes object using the code ```ax.element```, <i>e.g.</i> ```ax.plot(xdata,ydata)``` is used to plot our data,```ax.text(x-position,y-position,'text')``` creates text in the plot.\n",
    "* Axis limits and labels, <i>etc.</i> can be changed using the ```ax.set_``` command, <i>e.g.</i> ```ax.set_xlim(min,max)``` sets the range of the x-axis, ```ax.set_xlabel('text')``` creates the label axes."
   ]
  },
  {
   "cell_type": "markdown",
   "metadata": {},
   "source": [
    "<div class=warn>\n",
    "    \n",
    "### <font >Task 7:</font>\n",
    "\n",
    "Use the advanced plotting method outlined above to create a plots of $y=\\sin^{2}(x)$ and $y=\\sin^{3}(x)$ with the settings outlined below:\n",
    "\n",
    "* Plot these functions over the range $0-4\\pi$. \n",
    "* Set the size of the figure to be 10 inches by 3 inches\n",
    "* Include axis labels and a legend (plot line legends are still defined by adding a ```label``` attribute to the ```plt.plot``` function call, but the legend itself will not appear unless ```legend``` is called on the plot ```Axes``` object - <i>e.g.</i> with an ```ax.legend()``` command).\n",
    "* Add a title to your plot using ```ax.set_title(YourTitle)```."
   ]
  },
  {
   "cell_type": "code",
   "execution_count": null,
   "metadata": {},
   "outputs": [],
   "source": [
    "#Task 7 answer:\n"
   ]
  },
  {
   "cell_type": "markdown",
   "metadata": {},
   "source": [
    "## 2.1. Multiple Subplots\n",
    "The advanced plotting approach allows us to create figures with more than one subplot (<i>i.e.</i> more than one ```Axes``` object). To do this, we need to add two new arguments, ```nrows``` and ```ncols``` to ```plt.subplots()```.  For example, a figure consisting of 2 rows of three columns (6 subplots in total) can be created using the following code:"
   ]
  },
  {
   "cell_type": "code",
   "execution_count": null,
   "metadata": {},
   "outputs": [],
   "source": [
    "#Multiple subplot example\n",
    "#Define our x-axis range\n",
    "x=np.linspace(0,np.pi,200)\n",
    "\n",
    "#create six plots\n",
    "y1=np.cos(x)\n",
    "y2=np.cos(2*x)\n",
    "y3=np.cos(3*x)\n",
    "y4=np.cos(4*x)\n",
    "y5=np.cos(5*x)\n",
    "y6=np.cos(6*x)\n",
    "\n",
    "#create six axes objects, and arrange them as a 3x2 array\n",
    "fig,axes=plt.subplots(nrows=2,ncols=3,figsize=(10,6))\n",
    "\n",
    "#Assign names to each of the axes objects\n",
    "ax1=axes[0,0] #top left subplot - remember that python always counts from 0\n",
    "ax2=axes[0,1] #top middle subplot\n",
    "ax3=axes[0,2] #top right subplot\n",
    "ax4=axes[1,0] #bottom left subplot\n",
    "ax5=axes[1,1] #bottom middle subplot\n",
    "ax6=axes[1,2] #bottom right subplot\n",
    "\n",
    "#Plot all the things!\n",
    "ax1.plot(x,y1,label='$\\cos(x)$') #generates a plot of x vs y1 within the object 'ax1'\n",
    "ax2.plot(x,y2,label='$\\cos(2x)$')\n",
    "ax3.plot(x,y3,label='$\\cos(3x)$')\n",
    "ax4.plot(x,y4,label='$\\cos(4x)$')\n",
    "ax5.plot(x,y5,label='$\\cos(5x)$')\n",
    "ax6.plot(x,y6,label='$\\cos(6x)$')\n",
    "\n",
    "#make space for the plot legends\n",
    "ax1.set_ylim(-1.5,1.5)\n",
    "ax2.set_ylim(-1.5,1.5)\n",
    "ax3.set_ylim(-1.5,1.5)\n",
    "ax4.set_ylim(-1.5,1.5)\n",
    "ax5.set_ylim(-1.5,1.5)\n",
    "ax6.set_ylim(-1.5,1.5)\n",
    "\n",
    "#Add legends to each of the plots. Optional argument 'frameon=False' removes the border (because it looks naff),\n",
    "#and 'loc=(xposition,yposition)' allows us to control where the legend goes.\n",
    "ax1.legend(frameon=False,loc=(0.05,0.85))\n",
    "ax2.legend(frameon=False,loc=(0.05,0.85))\n",
    "ax3.legend(frameon=False,loc=(0.05,0.85))\n",
    "ax4.legend(frameon=False,loc=(0.05,0.85))\n",
    "ax5.legend(frameon=False,loc=(0.05,0.85))\n",
    "ax6.legend(frameon=False,loc=(0.05,0.85))\n",
    "\n",
    "plt.show()"
   ]
  },
  {
   "cell_type": "markdown",
   "metadata": {},
   "source": [
    "Typing all of the above out is extremely tedious! We could, of course, have used loops to generate the above figure using far less code. Since all six plots have exactly the same plot ranges, we can further improve the appearance of this figure by allowing the x- and y-axes to be shared amongst the plots. This has the effect of only creating x-tick labels for the bottom row of subplots, and y-tick labels for the left hand column:"
   ]
  },
  {
   "cell_type": "code",
   "execution_count": null,
   "metadata": {},
   "outputs": [],
   "source": [
    "#Multiple subplot example 2 - Huzzah for loops\n",
    "\n",
    "#Define our x-axis range\n",
    "x=np.linspace(0,np.pi,200)\n",
    "\n",
    "#Create our 2x3 array of subplots\n",
    "nrows=2\n",
    "ncols=3\n",
    "fig,axes=plt.subplots(nrows,ncols,figsize=(10,6),sharex=True,sharey=True)\n",
    "\n",
    "#Loop over the columns of the first row, then the columns of the second row\n",
    "for i in range(nrows):\n",
    "    for j in range(ncols):\n",
    "        #1st row (defined by i=0) will contain the plots with n-values of 1-3 (=j+1)\n",
    "        if i==0:\n",
    "            n=j+1\n",
    "            \n",
    "        #2nd row defined by i=1, has n-values of 4-6 (=j+4)\n",
    "        elif i==1:\n",
    "            n=j+4\n",
    "            \n",
    "        #reference each axes object in turn within the loop, and plots the appropriate functions\n",
    "        ax=axes[i,j]\n",
    "        ax.plot(x,np.cos(n*x),label='$\\cos({}x)$'.format(n))\n",
    "        ax.set_ylim(-1.5,1.5)\n",
    "        ax.legend(frameon=False,loc=(0.05,0.85))\n",
    "       \n",
    "fig.tight_layout() #Stops the subplots running into each other\n",
    "\n",
    "plt.show()"
   ]
  },
  {
   "cell_type": "markdown",
   "metadata": {},
   "source": [
    "<div class=warn>\n",
    "    \n",
    "### <font >Task 8:</font>\n",
    "\n",
    "Create a 2$\\times$2 array of subplots, and plot the first four members of the series $y=x^{n}\\sin(x)$ over the range $x=-3\\pi$ to $x=3\\pi$. Make sure to include plot legends. See if you can incorporate the following features into your code:\n",
    "* Create the axes objects and plots using loop structures\n",
    "* Share the $x-$ and $y-$ axes amongst the plots. <b>Hint:</b> you will need to scale the plots to make this work properly."
   ]
  },
  {
   "cell_type": "code",
   "execution_count": null,
   "metadata": {},
   "outputs": [],
   "source": [
    "#Task 8 answer:\n"
   ]
  },
  {
   "cell_type": "markdown",
   "metadata": {},
   "source": [
    "So far we have focussed on the situation where each of the subplots have identical plot ranges. This does not have to be the case. We can use the ```axes.set_xlim()``` and ```axes.set_ylim()``` commands to independently scale the axis ranges. This can be useful if we want to focus on a region of interest. For example, we can easily 'zoom in' on the central peak of the sinc function (where $\\textrm{sinc}(x)=\\frac{\\sin(x)}{x}$):"
   ]
  },
  {
   "cell_type": "code",
   "execution_count": null,
   "metadata": {},
   "outputs": [],
   "source": [
    "#Different plot limits example:\n",
    "x=np.linspace(-10,10,200)\n",
    "y=np.sinc(x)\n",
    "\n",
    "#create a 2x1 array of plots and create two axes objects\n",
    "fig,axes=plt.subplots(nrows=2,ncols=1,figsize=(10,6))\n",
    "ax0=axes[0] #only one index array is required, since the column value has to be 0\n",
    "ax1=axes[1] #and attempting to specify one will generate an error - give it a go\n",
    "\n",
    "#plot the function over the full x-axis range\n",
    "ax0.plot(x,y,label=('$\\\\dfrac{\\sin(x)}{x}$'))\n",
    "\n",
    "#'zoom in' on the central peak\n",
    "ax1.plot(x,y,label=('$\\\\dfrac{\\sin(x)}{x}$'))\n",
    "ax1.set_xlim(-3,3)\n",
    "\n",
    "ax0.legend(frameon=False,loc=(0.7,0.7))\n",
    "ax1.legend(frameon=False,loc=(0.7,0.7))\n",
    "plt.show()"
   ]
  },
  {
   "cell_type": "markdown",
   "metadata": {},
   "source": [
    "<div class=warn>\n",
    "    \n",
    "### <font >Task 9:</font>\n",
    "Consider the following series of irreversible chemical reactions:\n",
    "$$[A]\\xrightarrow{k_{1}}[B]\\xrightarrow{k_{2}}[C]$$\n",
    "\n",
    "These rate equations can be solved analytically. If we assume that at time $t=0$, $[A]=[A]_{0}$, and $[B]=[C]=0$, then the time dependent concentrations of $A,\\,B$ and $C$ are given by:\n",
    "\n",
    "$$[A]=[A]_{0}\\exp\\left(-k_{1}t\\right)$$\n",
    "\n",
    "\n",
    "$$[B]=\\frac{k_{1}[A]_{0}}{k_{2}-k_{1}}\\left\\{\\exp\\left(-k_{1}t\\right)-\\exp\\left(-k_{2}t\\right)\\right\\}$$\n",
    "\n",
    "$$[C]=\\left\\{1+\\frac{k_{1}\\exp\\left(-k_{2}t\\right)-k_{2}\\exp\\left(-k_{1}t\\right)}{k_{2}-k_{1}}\\right\\}[A]_{0}$$\n",
    "\n",
    "When $k_{1}>>k_{2}$, all of $A$ present initally is rapidly converted to $B$, which in turn slowly converts to $C$. We say that the second step is rate-determining. \n",
    "\n",
    "Prepare plots of the time-dependent populations of $A,\\,B$ and $C$ over the range $t=0-10$ s. Use the following parameters:\n",
    "$$\\begin{align*}\n",
    "    [A]_{0}&=1\\,\\textrm{mol dm}^{-3}\\\\\n",
    "    k_{1}&=40\\,\\textrm{s}^{-1}\\\\\n",
    "    k_{2}&=0.5\\,\\textrm{s}^{-1}\n",
    "\\end{align*}$$\n",
    "Manually adjust the x-axis scale of the second plot to clearly highlight the rapid $A\\rightarrow B$ conversion (you may have to include more datapoints to get a smooth curve). As always, make sure you include plot legends, and label your axes. "
   ]
  },
  {
   "cell_type": "code",
   "execution_count": null,
   "metadata": {},
   "outputs": [],
   "source": [
    "#Task 9 answer:\n"
   ]
  },
  {
   "cell_type": "markdown",
   "metadata": {},
   "source": [
    "<div class=warn>\n",
    "    \n",
    "### <font >Task 10:</font>\n",
    "Repeat task 6, but set $k_{1}=0.5\\,\\textrm{s}^{-1}$ and $k_{2}=40\\,\\textrm{s}^{-1}$ (<i>i.e.</i> the first step is now rate determining). In this situation, $B$ is consumed almost as soon as it is produced, and its population remains very low. Adjust the scale of the second plot to highlight the time-dependent population of $B$."
   ]
  },
  {
   "cell_type": "code",
   "execution_count": null,
   "metadata": {},
   "outputs": [],
   "source": [
    "#Task 10 answer:\n"
   ]
  },
  {
   "cell_type": "markdown",
   "metadata": {},
   "source": [
    "# 3. A (very) brief introduction to Pandas\n",
    "In section 1.1 we ran into issues importing data using ```np.loadtxt()``` when the file had non-numerical values contained within it (<i>e.g.</i> column headers). We were able to work around this problem by including the additional argument ```skiprows=1```. Sometimes however it is nice to be able to view the imported data with these column labels intact - much like how Excel handles imported data.\n",
    "\n",
    "The [Pandas](https://pandas.pydata.org) module replicates much of Excels functionality, and interfaces very nicely with Matplotlib. As always, in order to use pandas we first have to import it:"
   ]
  },
  {
   "cell_type": "code",
   "execution_count": null,
   "metadata": {},
   "outputs": [],
   "source": [
    "import pandas as pd"
   ]
  },
  {
   "cell_type": "markdown",
   "metadata": {},
   "source": [
    "Once Pandas is imported we can use it to open one of our IR data files:"
   ]
  },
  {
   "cell_type": "code",
   "execution_count": null,
   "metadata": {},
   "outputs": [],
   "source": [
    "#Import the 'deviousHeaders.csv' file used in Tasks 4 and 5\n",
    "Data=pd.read_csv('./STUFF/deviousHeaders.csv')\n",
    "\n",
    "#View the first 5 lines of the file\n",
    "Data.head()"
   ]
  },
  {
   "cell_type": "markdown",
   "metadata": {},
   "source": [
    "Pandas automatically splits our data into columns, and we can view each column using the command ```Data['ColumnHeader']```:"
   ]
  },
  {
   "cell_type": "code",
   "execution_count": null,
   "metadata": {},
   "outputs": [],
   "source": [
    "#View columns of data in Pandas\n",
    "Data['Wavenumber']"
   ]
  },
  {
   "cell_type": "markdown",
   "metadata": {},
   "source": [
    "We can also plot the data in the same manner:"
   ]
  },
  {
   "cell_type": "code",
   "execution_count": null,
   "metadata": {},
   "outputs": [],
   "source": [
    "fig,ax=plt.subplots()\n",
    "\n",
    "#Plot Intensity vs. wavenumber\n",
    "ax.plot(Data['Wavenumber'],Data['Intensity'])\n",
    "ax.set_xlabel('Wavenumber / cm$^{-1}$')\n",
    "ax.set_ylabel('Intensity')\n",
    "\n",
    "plt.show()"
   ]
  },
  {
   "cell_type": "markdown",
   "metadata": {},
   "source": [
    "<div class=warn>\n",
    "    \n",
    "### <font >Task 11:</font>\n",
    "The file ```CaroteneData.csv``` (once again located in the STUFF folder) contains the UV/vis spectra of three carotenoid molecules, $\\beta$-carotene (from carrots), Lyopene (tomatoes), and lutein (spinach). Use Pandas to open this file and view the first five lines."
   ]
  },
  {
   "cell_type": "code",
   "execution_count": null,
   "metadata": {},
   "outputs": [],
   "source": [
    "#Task 11 answer:\n"
   ]
  },
  {
   "cell_type": "markdown",
   "metadata": {},
   "source": [
    "<div class=warn>\n",
    "    \n",
    "### <font >Task 12:</font>\n",
    "Plot the three absorption spectra over the wavelength range 350 nm $\\leq\\lambda\\leq$ 550 nm as seperate graphs (use the subplots capability of Matplotlib)."
   ]
  },
  {
   "cell_type": "code",
   "execution_count": null,
   "metadata": {},
   "outputs": [],
   "source": [
    "#Task 12 answer:\n",
    "\n"
   ]
  },
  {
   "cell_type": "markdown",
   "metadata": {},
   "source": [
    "# 4. Further information\n",
    "This notebook has barely scratched the surface of the full capabilities of Matplotlib. In addition to the simple plots highlighted above, we can also use matplotlib to generate several other types of graph. Further examples (and the code used to generate them) can be found in the [Matplotlib gallery](https://matplotlib.org/gallery.html).\n",
    "## 4.1. Scatter plots"
   ]
  },
  {
   "cell_type": "code",
   "execution_count": null,
   "metadata": {},
   "outputs": [],
   "source": [
    "#Scatter plot example\n",
    "#Generate random x and y data\n",
    "x = np.random.random(300)\n",
    "y = np.random.random(300)\n",
    "\n",
    "#randomise the size of the scatter points\n",
    "scale=np.random.random(300)*2000\n",
    "\n",
    "#create the plot\n",
    "fig,ax=plt.subplots(figsize=(8,8))\n",
    "colours=range(len(x)) #Give each point an arbitrary colour\n",
    "ax.scatter(x,y,s=scale,c=colours,alpha=0.4)\n",
    "ax.set_xlabel('x')\n",
    "ax.set_ylabel('y')\n",
    "\n",
    "plt.show()"
   ]
  },
  {
   "cell_type": "markdown",
   "metadata": {},
   "source": [
    "## 4.2. Contour plots"
   ]
  },
  {
   "cell_type": "code",
   "execution_count": null,
   "metadata": {},
   "outputs": [],
   "source": [
    "#Taken from C Hill, Learning Scientific Programming With Python, Cambridge University Press, Cambridge, 2015.\n",
    "\n",
    "#The electrostatic potential of a point dipole\n",
    "#Dipole charge (C), Permittivity of free space (F.m-1)\n",
    "q,eps0=1.602e-19,8.854e-12\n",
    "#Dipole +q, -q distance (m) and a convenient combination of parameters\n",
    "d=1.e-12\n",
    "k=1/4/np.pi/eps0*q*d\n",
    "\n",
    "#Cartesian axis system with origin at the dipole (m)\n",
    "X=np.linspace(-5e-11,5e-11,1000)\n",
    "Y=X.copy()\n",
    "X,Y=np.meshgrid(X,Y)\n",
    "\n",
    "#Dipole electrostatic potential (V), using point dipole approximation\n",
    "Phi=k*X/np.hypot(X,Y)**3\n",
    "\n",
    "fig,ax=plt.subplots(figsize=(8,8))\n",
    "#Draw contours at values of Phi given by levels\n",
    "levels=np.array([10**pw for pw in np.linspace(0,5,20)])\n",
    "levels=list(np.sort(-levels))+list(levels)\n",
    "#Monochrome plot of potential\n",
    "ax.contour(X,Y,Phi,levels=levels,colors='k',linewidths=2)\n",
    "plt.show()"
   ]
  },
  {
   "cell_type": "markdown",
   "metadata": {},
   "source": [
    "## 4.3. Heatmaps"
   ]
  },
  {
   "cell_type": "code",
   "execution_count": null,
   "metadata": {},
   "outputs": [],
   "source": [
    "#Heatmap of a two-dimensional Gaussian function exp(-(x^2+y^2))\n",
    "import matplotlib.cm as cm\n",
    "L,n=2,400\n",
    "x=np.linspace(-L,L,n)\n",
    "y=x.copy()\n",
    "X,Y=np.meshgrid(x,y)\n",
    "Z=np.exp(-(X**2+Y**2))\n",
    "\n",
    "fig,ax=plt.subplots(figsize=(8,8))\n",
    "im=ax.imshow(Z,cmap=cm.hot,extent=[-2,2,-2,2])\n",
    "plt.colorbar(im)\n",
    "plt.show()"
   ]
  },
  {
   "cell_type": "markdown",
   "metadata": {},
   "source": [
    "## 4.4. 3D plots\n",
    "Flashy, but probably of limited use for most applications"
   ]
  },
  {
   "cell_type": "code",
   "execution_count": null,
   "metadata": {},
   "outputs": [],
   "source": [
    "#3D plot of a two-dimensional Gaussian function exp(-(x^2+y^2))\n",
    "#We need to import some more packages for this to work...\n",
    "from mpl_toolkits.mplot3d import Axes3D\n",
    "import matplotlib.cm as cm\n",
    "\n",
    "L,n=2,400\n",
    "x=np.linspace(-L,L,n)\n",
    "y=x.copy()\n",
    "X,Y=np.meshgrid(x,y)\n",
    "Z=np.exp(-(X**2+Y**2))\n",
    "\n",
    "fig,ax=plt.subplots(subplot_kw={'projection':'3d'},figsize=(8,8))\n",
    "ax.plot_surface(X,Y,Z,rstride=12,cstride=12,cmap=cm.hot)\n",
    "ax.set_xticks([-2,-1,0,1,2])\n",
    "ax.set_yticks([-2,-1,0,1,2])\n",
    "ax.set_zticks([0,0.5,1])\n",
    "\n",
    "plt.show()"
   ]
  },
  {
   "cell_type": "code",
   "execution_count": null,
   "metadata": {},
   "outputs": [],
   "source": []
  }
 ],
 "metadata": {
  "kernelspec": {
   "display_name": "Python 3",
   "language": "python",
   "name": "python3"
  },
  "language_info": {
   "codemirror_mode": {
    "name": "ipython",
    "version": 3
   },
   "file_extension": ".py",
   "mimetype": "text/x-python",
   "name": "python",
   "nbconvert_exporter": "python",
   "pygments_lexer": "ipython3",
   "version": "3.6.7"
  }
 },
 "nbformat": 4,
 "nbformat_minor": 2
}
