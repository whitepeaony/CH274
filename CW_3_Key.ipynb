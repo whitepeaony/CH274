{
 "cells": [
  {
   "cell_type": "code",
   "execution_count": 25,
   "metadata": {},
   "outputs": [
    {
     "data": {
      "text/html": [
       "<script>\n",
       "code_show=true; \n",
       "function code_toggle() {\n",
       "    if (code_show){\n",
       "        $('div.cell.code_cell.rendered.selected div.input').hide();\n",
       "    } else {\n",
       "        $('div.cell.code_cell.rendered.selected div.input').show();\n",
       "    }\n",
       "    code_show = !code_show\n",
       "} \n",
       "$( document ).ready(code_toggle);\n",
       "</script>\n",
       "Some hidden code... to show/hide this cell's raw code input, click (or double click if stubborn!) <a href=\"javascript:code_toggle()\">here</a>."
      ],
      "text/plain": [
       "<IPython.core.display.HTML object>"
      ]
     },
     "metadata": {},
     "output_type": "display_data"
    },
    {
     "data": {
      "text/html": [
       "<style>\n",
       "div.warn {    \n",
       "    background-color: #b3b3ff;\n",
       "    border-color: #0000b3;\n",
       "    border-left: 5px solid #0000b3;\n",
       "    padding: 0.5em;\n",
       "    }\n",
       " </style>\n"
      ],
      "text/plain": [
       "<IPython.core.display.HTML object>"
      ]
     },
     "execution_count": 25,
     "metadata": {},
     "output_type": "execute_result"
    }
   ],
   "source": [
    "from IPython.display import HTML\n",
    "from IPython.display import display\n",
    "\n",
    "# Taken from https://stackoverflow.com/questions/31517194/how-to-hide-one-specific-cell-input-or-output-in-ipython-notebook\n",
    "tag = HTML('''<script>\n",
    "code_show=true; \n",
    "function code_toggle() {\n",
    "    if (code_show){\n",
    "        $('div.cell.code_cell.rendered.selected div.input').hide();\n",
    "    } else {\n",
    "        $('div.cell.code_cell.rendered.selected div.input').show();\n",
    "    }\n",
    "    code_show = !code_show\n",
    "} \n",
    "$( document ).ready(code_toggle);\n",
    "</script>\n",
    "Some hidden code... to show/hide this cell's raw code input, click (or double click if stubborn!) <a href=\"javascript:code_toggle()\">here</a>.''')\n",
    "display(tag)\n",
    "\n",
    "############### Write code below ##################\n",
    "from IPython.core.display import HTML\n",
    "def css_styling():\n",
    "    styles = open(\"./STUFF/colors.css\", \"r\").read()\n",
    "    return HTML(styles)\n",
    "css_styling()"
   ]
  },
  {
   "cell_type": "markdown",
   "metadata": {},
   "source": [
    "<div class=warn>\n",
    "These blue boxes contain instructions for you to follow, or stuff for you to do\n",
    "<h2>How to access this Jupyter notebook</h2>\n",
    "\n",
    "* <b>Step 1</b>: Open a web browser, go to [this page](https://warwick.ac.uk/fac/sci/chemistry/research/maurer/maurergroup/software/iatl_strategic_project/), scroll down, download the Login App (the Windows exacutable if using ITS machines) and double click on the executable (usually ended up into the Download folder) <br>\n",
    "* <b>Step 2</b>: The Notebook Launcher pops up: select the CH274 module and fill in the boxes using your SCRTP username and password <br>\n",
    "* <b>Step 3</b>: Open the Jupyter notebook you are interested in, e.g. KS_3_Class.ipynb <br>\n",
    "* <b>Step 4</b>: Make a copy of the orginal notebook (which is read only). In the toolbar on top of the notebook: File - Make a Copy <br>\n",
    "* <b>Step 5</b>: You're all set! <br><br>\n",
    "<b> Remember: </b> You can access this notebook at home at any time by going through the same steps on e.g. your laptop - all the changes you have made will be saved and synced! At the moment, though, you'll have to tunnel through the campus network via VPN (see [here](https://warwick.ac.uk/services/its/servicessupport/networkservices/vpn/))<br>\n",
    "<div/>"
   ]
  },
  {
   "cell_type": "markdown",
   "metadata": {},
   "source": [
    "# CH274: Computational Workshop 3\n",
    "## Using a Hückel MO code to study Polyaromatic Hydrocarbons (PAHs)\n",
    "\n",
    "In this workshop, we are going to\n",
    "* see how a Huckel/tight-binding Python code works\n",
    "* apply this code to study the stability and reactivity of three different polyaromatic hydrocarbons, namely:\n",
    "<img src=\"STUFF/3mols.png\">\n",
    "\n",
    "These three molecules are PAH molecules, which are created from incomplete combustion in cars, industrial exhaust, and soot. They are known potent carcinogens. All three have the same number of sp2 hybridised carbon atoms (22) and we can compare them directly with Hückel theory.\n",
    "\n",
    "\n"
   ]
  },
  {
   "cell_type": "markdown",
   "metadata": {},
   "source": [
    "\n",
    "Based on the contents of this workshop, you will be given a homework assignment.\n"
   ]
  },
  {
   "cell_type": "markdown",
   "metadata": {},
   "source": [
    "## Part 1: Setting up the input data\n",
    "\n",
    "We will first set up our input data for the three molecules. The code will require the respective Hückel matrices as input. We can use the connectivity matrix that defines the molecule, which is almost the same as the Hückel matrix. The connectivity matrix tells us which carbon atoms are connected to each other. If atoms are bonded, the matrix element is -1, if they are non-bonded, the matrix element has a 0.\n",
    "\n",
    "The following cell reads the required information for the three molecules from a database of more than 500 PAHs and then prints the connectivity matrices and the Lewis formulas."
   ]
  },
  {
   "cell_type": "code",
   "execution_count": 2,
   "metadata": {},
   "outputs": [
    {
     "data": {
      "image/svg+xml": [
       "<svg baseProfile=\"full\" height=\"300px\" version=\"1.1\" width=\"900px\" xml:space=\"preserve\" xmlns=\"http://www.w3.org/2000/svg\" xmlns:rdkit=\"http://www.rdkit.org/xml\" xmlns:xlink=\"http://www.w3.org/1999/xlink\">\n",
       "<rect height=\"300\" style=\"opacity:1.0;fill:#FFFFFF;stroke:none\" width=\"900\" x=\"0\" y=\"0\"> </rect>\n",
       "<path d=\"M 33.5146,179.602 24.7564,174.484\" style=\"fill:none;fill-rule:evenodd;stroke:#000000;stroke-width:2px;stroke-linecap:butt;stroke-linejoin:miter;stroke-opacity:1\"/>\n",
       "<path d=\"M 36.1362,172.101 30.0054,168.518\" style=\"fill:none;fill-rule:evenodd;stroke:#000000;stroke-width:2px;stroke-linecap:butt;stroke-linejoin:miter;stroke-opacity:1\"/>\n",
       "<path d=\"M 56.2668,179.602 64.5442,174.977\" style=\"fill:none;fill-rule:evenodd;stroke:#000000;stroke-width:2px;stroke-linecap:butt;stroke-linejoin:miter;stroke-opacity:1\"/>\n",
       "<path d=\"M 13.6364,161.485 13.6364,138.517\" style=\"fill:none;fill-rule:evenodd;stroke:#000000;stroke-width:2px;stroke-linecap:butt;stroke-linejoin:miter;stroke-opacity:1\"/>\n",
       "<path d=\"M 24.7564,125.519 33.5146,120.4\" style=\"fill:none;fill-rule:evenodd;stroke:#000000;stroke-width:2px;stroke-linecap:butt;stroke-linejoin:miter;stroke-opacity:1\"/>\n",
       "<path d=\"M 30.0054,131.485 36.1362,127.901\" style=\"fill:none;fill-rule:evenodd;stroke:#000000;stroke-width:2px;stroke-linecap:butt;stroke-linejoin:miter;stroke-opacity:1\"/>\n",
       "<path d=\"M 56.2675,120.4 64.5408,125.023\" style=\"fill:none;fill-rule:evenodd;stroke:#000000;stroke-width:2px;stroke-linecap:butt;stroke-linejoin:miter;stroke-opacity:1\"/>\n",
       "<path d=\"M 76.1741,138.021 76.1758,161.979\" style=\"fill:none;fill-rule:evenodd;stroke:#000000;stroke-width:2px;stroke-linecap:butt;stroke-linejoin:miter;stroke-opacity:1\"/>\n",
       "<path d=\"M 68.3754,141.615 68.3766,158.386\" style=\"fill:none;fill-rule:evenodd;stroke:#000000;stroke-width:2px;stroke-linecap:butt;stroke-linejoin:miter;stroke-opacity:1\"/>\n",
       "<path d=\"M 88.3137,127.482 96.1064,124.89\" style=\"fill:none;fill-rule:evenodd;stroke:#000000;stroke-width:2px;stroke-linecap:butt;stroke-linejoin:miter;stroke-opacity:1\"/>\n",
       "<path d=\"M 88.3163,172.518 100.444,176.553\" style=\"fill:none;fill-rule:evenodd;stroke:#000000;stroke-width:2px;stroke-linecap:butt;stroke-linejoin:miter;stroke-opacity:1\"/>\n",
       "<path d=\"M 116.675,187.092 127.669,204.562\" style=\"fill:none;fill-rule:evenodd;stroke:#000000;stroke-width:2px;stroke-linecap:butt;stroke-linejoin:miter;stroke-opacity:1\"/>\n",
       "<path d=\"M 124.924,185.558 132.621,197.787\" style=\"fill:none;fill-rule:evenodd;stroke:#000000;stroke-width:2px;stroke-linecap:butt;stroke-linejoin:miter;stroke-opacity:1\"/>\n",
       "<path d=\"M 116.765,174.094 128.081,156.499\" style=\"fill:none;fill-rule:evenodd;stroke:#000000;stroke-width:2px;stroke-linecap:butt;stroke-linejoin:miter;stroke-opacity:1\"/>\n",
       "<path d=\"M 143.9,211.062 156.095,211.062\" style=\"fill:none;fill-rule:evenodd;stroke:#000000;stroke-width:2px;stroke-linecap:butt;stroke-linejoin:miter;stroke-opacity:1\"/>\n",
       "<path d=\"M 172.325,204.564 183.32,187.092\" style=\"fill:none;fill-rule:evenodd;stroke:#000000;stroke-width:2px;stroke-linecap:butt;stroke-linejoin:miter;stroke-opacity:1\"/>\n",
       "<path d=\"M 167.374,197.79 175.07,185.559\" style=\"fill:none;fill-rule:evenodd;stroke:#000000;stroke-width:2px;stroke-linecap:butt;stroke-linejoin:miter;stroke-opacity:1\"/>\n",
       "<path d=\"M 199.55,176.554 207.343,173.961\" style=\"fill:none;fill-rule:evenodd;stroke:#000000;stroke-width:2px;stroke-linecap:butt;stroke-linejoin:miter;stroke-opacity:1\"/>\n",
       "<path d=\"M 183.23,174.094 171.914,156.499\" style=\"fill:none;fill-rule:evenodd;stroke:#000000;stroke-width:2px;stroke-linecap:butt;stroke-linejoin:miter;stroke-opacity:1\"/>\n",
       "<path d=\"M 235.452,174.977 243.734,179.605\" style=\"fill:none;fill-rule:evenodd;stroke:#000000;stroke-width:2px;stroke-linecap:butt;stroke-linejoin:miter;stroke-opacity:1\"/>\n",
       "<path d=\"M 240.499,168.863 246.296,172.103\" style=\"fill:none;fill-rule:evenodd;stroke:#000000;stroke-width:2px;stroke-linecap:butt;stroke-linejoin:miter;stroke-opacity:1\"/>\n",
       "<path d=\"M 223.822,161.979 223.823,138.021\" style=\"fill:none;fill-rule:evenodd;stroke:#000000;stroke-width:2px;stroke-linecap:butt;stroke-linejoin:miter;stroke-opacity:1\"/>\n",
       "<path d=\"M 266.484,179.605 275.245,174.484\" style=\"fill:none;fill-rule:evenodd;stroke:#000000;stroke-width:2px;stroke-linecap:butt;stroke-linejoin:miter;stroke-opacity:1\"/>\n",
       "<path d=\"M 286.364,161.485 286.364,138.517\" style=\"fill:none;fill-rule:evenodd;stroke:#000000;stroke-width:2px;stroke-linecap:butt;stroke-linejoin:miter;stroke-opacity:1\"/>\n",
       "<path d=\"M 278.565,158.04 278.565,141.963\" style=\"fill:none;fill-rule:evenodd;stroke:#000000;stroke-width:2px;stroke-linecap:butt;stroke-linejoin:miter;stroke-opacity:1\"/>\n",
       "<path d=\"M 275.247,125.519 266.482,120.395\" style=\"fill:none;fill-rule:evenodd;stroke:#000000;stroke-width:2px;stroke-linecap:butt;stroke-linejoin:miter;stroke-opacity:1\"/>\n",
       "<path d=\"M 243.735,120.395 235.454,125.023\" style=\"fill:none;fill-rule:evenodd;stroke:#000000;stroke-width:2px;stroke-linecap:butt;stroke-linejoin:miter;stroke-opacity:1\"/>\n",
       "<path d=\"M 246.297,127.897 240.501,131.137\" style=\"fill:none;fill-rule:evenodd;stroke:#000000;stroke-width:2px;stroke-linecap:butt;stroke-linejoin:miter;stroke-opacity:1\"/>\n",
       "<path d=\"M 207.346,126.04 203.888,124.889\" style=\"fill:none;fill-rule:evenodd;stroke:#000000;stroke-width:2px;stroke-linecap:butt;stroke-linejoin:miter;stroke-opacity:1\"/>\n",
       "<path d=\"M 183.321,112.908 172.327,95.4358\" style=\"fill:none;fill-rule:evenodd;stroke:#000000;stroke-width:2px;stroke-linecap:butt;stroke-linejoin:miter;stroke-opacity:1\"/>\n",
       "<path d=\"M 175.071,114.441 167.375,102.21\" style=\"fill:none;fill-rule:evenodd;stroke:#000000;stroke-width:2px;stroke-linecap:butt;stroke-linejoin:miter;stroke-opacity:1\"/>\n",
       "<path d=\"M 183.23,125.906 171.914,143.501\" style=\"fill:none;fill-rule:evenodd;stroke:#000000;stroke-width:2px;stroke-linecap:butt;stroke-linejoin:miter;stroke-opacity:1\"/>\n",
       "<path d=\"M 151.76,88.9379 148.238,88.9381\" style=\"fill:none;fill-rule:evenodd;stroke:#000000;stroke-width:2px;stroke-linecap:butt;stroke-linejoin:miter;stroke-opacity:1\"/>\n",
       "<path d=\"M 127.669,95.4384 116.675,112.908\" style=\"fill:none;fill-rule:evenodd;stroke:#000000;stroke-width:2px;stroke-linecap:butt;stroke-linejoin:miter;stroke-opacity:1\"/>\n",
       "<path d=\"M 132.621,102.213 124.924,114.442\" style=\"fill:none;fill-rule:evenodd;stroke:#000000;stroke-width:2px;stroke-linecap:butt;stroke-linejoin:miter;stroke-opacity:1\"/>\n",
       "<path d=\"M 116.765,125.906 128.081,143.501\" style=\"fill:none;fill-rule:evenodd;stroke:#000000;stroke-width:2px;stroke-linecap:butt;stroke-linejoin:miter;stroke-opacity:1\"/>\n",
       "<path d=\"M 148.739,150 151.256,150\" style=\"fill:none;fill-rule:evenodd;stroke:#000000;stroke-width:2px;stroke-linecap:butt;stroke-linejoin:miter;stroke-opacity:1\"/>\n",
       "<path d=\"M 149.117,142.201 150.878,142.201\" style=\"fill:none;fill-rule:evenodd;stroke:#000000;stroke-width:2px;stroke-linecap:butt;stroke-linejoin:miter;stroke-opacity:1\"/>\n",
       "<text style=\"font-size:12px;font-style:normal;font-weight:normal;fill-opacity:1;stroke:none;font-family:sans-serif;text-anchor:start;fill:#000000\" x=\"32.4946\" y=\"192.601\"><tspan>C:0</tspan></text>\n",
       "<text style=\"font-size:12px;font-style:normal;font-weight:normal;fill-opacity:1;stroke:none;font-family:sans-serif;text-anchor:start;fill:#000000\" x=\"1.49632\" y=\"174.484\"><tspan>C:1</tspan></text>\n",
       "<text style=\"font-size:12px;font-style:normal;font-weight:normal;fill-opacity:1;stroke:none;font-family:sans-serif;text-anchor:start;fill:#000000\" x=\"1.49632\" y=\"138.517\"><tspan>C:2</tspan></text>\n",
       "<text style=\"font-size:12px;font-style:normal;font-weight:normal;fill-opacity:1;stroke:none;font-family:sans-serif;text-anchor:start;fill:#000000\" x=\"32.4946\" y=\"120.4\"><tspan>C:3</tspan></text>\n",
       "<text style=\"font-size:12px;font-style:normal;font-weight:normal;fill-opacity:1;stroke:none;font-family:sans-serif;text-anchor:start;fill:#000000\" x=\"64.0336\" y=\"138.021\"><tspan>C:4</tspan></text>\n",
       "<text style=\"font-size:12px;font-style:normal;font-weight:normal;fill-opacity:1;stroke:none;font-family:sans-serif;text-anchor:start;fill:#000000\" x=\"64.0362\" y=\"174.977\"><tspan>C:5</tspan></text>\n",
       "<text style=\"font-size:12px;font-style:normal;font-weight:normal;fill-opacity:1;stroke:none;font-family:sans-serif;text-anchor:start;fill:#000000\" x=\"100.444\" y=\"187.092\"><tspan>C:6</tspan></text>\n",
       "<text style=\"font-size:12px;font-style:normal;font-weight:normal;fill-opacity:1;stroke:none;font-family:sans-serif;text-anchor:start;fill:#000000\" x=\"119.619\" y=\"217.56\"><tspan>C:7</tspan></text>\n",
       "<text style=\"font-size:12px;font-style:normal;font-weight:normal;fill-opacity:1;stroke:none;font-family:sans-serif;text-anchor:start;fill:#000000\" x=\"156.095\" y=\"217.562\"><tspan>C:8</tspan></text>\n",
       "<text style=\"font-size:12px;font-style:normal;font-weight:normal;fill-opacity:1;stroke:none;font-family:sans-serif;text-anchor:start;fill:#000000\" x=\"175.27\" y=\"187.092\"><tspan>C:9</tspan></text>\n",
       "<text style=\"font-size:12px;font-style:normal;font-weight:normal;fill-opacity:1;stroke:none;font-family:sans-serif;text-anchor:start;fill:#000000\" x=\"207.343\" y=\"174.977\"><tspan>C:10</tspan></text>\n",
       "<text style=\"font-size:12px;font-style:normal;font-weight:normal;fill-opacity:1;stroke:none;font-family:sans-serif;text-anchor:start;fill:#000000\" x=\"238.887\" y=\"192.603\"><tspan>C:11</tspan></text>\n",
       "<text style=\"font-size:12px;font-style:normal;font-weight:normal;fill-opacity:1;stroke:none;font-family:sans-serif;text-anchor:start;fill:#000000\" x=\"269.886\" y=\"174.484\"><tspan>C:12</tspan></text>\n",
       "<text style=\"font-size:12px;font-style:normal;font-weight:normal;fill-opacity:1;stroke:none;font-family:sans-serif;text-anchor:start;fill:#000000\" x=\"269.886\" y=\"138.517\"><tspan>C:13</tspan></text>\n",
       "<text style=\"font-size:12px;font-style:normal;font-weight:normal;fill-opacity:1;stroke:none;font-family:sans-serif;text-anchor:start;fill:#000000\" x=\"238.887\" y=\"120.395\"><tspan>C:14</tspan></text>\n",
       "<text style=\"font-size:12px;font-style:normal;font-weight:normal;fill-opacity:1;stroke:none;font-family:sans-serif;text-anchor:start;fill:#000000\" x=\"207.346\" y=\"138.021\"><tspan>C:15</tspan></text>\n",
       "<text style=\"font-size:12px;font-style:normal;font-weight:normal;fill-opacity:1;stroke:none;font-family:sans-serif;text-anchor:start;fill:#000000\" x=\"170.932\" y=\"125.906\"><tspan>C:16</tspan></text>\n",
       "<text style=\"font-size:12px;font-style:normal;font-weight:normal;fill-opacity:1;stroke:none;font-family:sans-serif;text-anchor:start;fill:#000000\" x=\"151.76\" y=\"95.4358\"><tspan>C:17</tspan></text>\n",
       "<text style=\"font-size:12px;font-style:normal;font-weight:normal;fill-opacity:1;stroke:none;font-family:sans-serif;text-anchor:start;fill:#000000\" x=\"115.282\" y=\"95.4384\"><tspan>C:18</tspan></text>\n",
       "<text style=\"font-size:12px;font-style:normal;font-weight:normal;fill-opacity:1;stroke:none;font-family:sans-serif;text-anchor:start;fill:#000000\" x=\"96.1064\" y=\"125.906\"><tspan>C:19</tspan></text>\n",
       "<text style=\"font-size:12px;font-style:normal;font-weight:normal;fill-opacity:1;stroke:none;font-family:sans-serif;text-anchor:start;fill:#000000\" x=\"115.783\" y=\"156.499\"><tspan>C:20</tspan></text>\n",
       "<text style=\"font-size:12px;font-style:normal;font-weight:normal;fill-opacity:1;stroke:none;font-family:sans-serif;text-anchor:start;fill:#000000\" x=\"151.256\" y=\"156.499\"><tspan>C:21</tspan></text>\n",
       "<text style=\"font-size:12px;font-style:normal;font-weight:normal;fill-opacity:1;stroke:none;font-family:sans-serif;text-anchor:start;fill:#000000\" x=\"57.904\" y=\"288\"><tspan>Indeno[1,2,3-cd]fluoranthene</tspan></text>\n",
       "</svg>"
      ],
      "text/plain": [
       "<IPython.core.display.SVG object>"
      ]
     },
     "metadata": {},
     "output_type": "display_data"
    },
    {
     "name": "stdout",
     "output_type": "stream",
     "text": [
      " 0  -1   0   0   0  -1   0   0   0   0   0   0   0   0   0   0   0   0   0   0   0   0  \n",
      "-1   0  -1   0   0   0   0   0   0   0   0   0   0   0   0   0   0   0   0   0   0   0  \n",
      " 0  -1   0  -1   0   0   0   0   0   0   0   0   0   0   0   0   0   0   0   0   0   0  \n",
      " 0   0  -1   0  -1   0   0   0   0   0   0   0   0   0   0   0   0   0   0   0   0   0  \n",
      " 0   0   0  -1   0  -1   0   0   0   0   0   0   0   0   0   0   0   0   0  -1   0   0  \n",
      "-1   0   0   0  -1   0  -1   0   0   0   0   0   0   0   0   0   0   0   0   0   0   0  \n",
      " 0   0   0   0   0  -1   0  -1   0   0   0   0   0   0   0   0   0   0   0   0  -1   0  \n",
      " 0   0   0   0   0   0  -1   0  -1   0   0   0   0   0   0   0   0   0   0   0   0   0  \n",
      " 0   0   0   0   0   0   0  -1   0  -1   0   0   0   0   0   0   0   0   0   0   0   0  \n",
      " 0   0   0   0   0   0   0   0  -1   0  -1   0   0   0   0   0   0   0   0   0   0  -1  \n",
      " 0   0   0   0   0   0   0   0   0  -1   0  -1   0   0   0  -1   0   0   0   0   0   0  \n",
      " 0   0   0   0   0   0   0   0   0   0  -1   0  -1   0   0   0   0   0   0   0   0   0  \n",
      " 0   0   0   0   0   0   0   0   0   0   0  -1   0  -1   0   0   0   0   0   0   0   0  \n",
      " 0   0   0   0   0   0   0   0   0   0   0   0  -1   0  -1   0   0   0   0   0   0   0  \n",
      " 0   0   0   0   0   0   0   0   0   0   0   0   0  -1   0  -1   0   0   0   0   0   0  \n",
      " 0   0   0   0   0   0   0   0   0   0  -1   0   0   0  -1   0  -1   0   0   0   0   0  \n",
      " 0   0   0   0   0   0   0   0   0   0   0   0   0   0   0  -1   0  -1   0   0   0  -1  \n",
      " 0   0   0   0   0   0   0   0   0   0   0   0   0   0   0   0  -1   0  -1   0   0   0  \n",
      " 0   0   0   0   0   0   0   0   0   0   0   0   0   0   0   0   0  -1   0  -1   0   0  \n",
      " 0   0   0   0  -1   0   0   0   0   0   0   0   0   0   0   0   0   0  -1   0  -1   0  \n",
      " 0   0   0   0   0   0  -1   0   0   0   0   0   0   0   0   0   0   0   0  -1   0  -1  \n",
      " 0   0   0   0   0   0   0   0   0  -1   0   0   0   0   0   0  -1   0   0   0  -1   0  \n"
     ]
    },
    {
     "data": {
      "image/svg+xml": [
       "<svg baseProfile=\"full\" height=\"300px\" version=\"1.1\" width=\"900px\" xml:space=\"preserve\" xmlns=\"http://www.w3.org/2000/svg\" xmlns:rdkit=\"http://www.rdkit.org/xml\" xmlns:xlink=\"http://www.w3.org/1999/xlink\">\n",
       "<rect height=\"300\" style=\"opacity:1.0;fill:#FFFFFF;stroke:none\" width=\"900\" x=\"0\" y=\"0\"> </rect>\n",
       "<path d=\"M 36.1536,196.93 21.916,183.88\" style=\"fill:none;fill-rule:evenodd;stroke:#000000;stroke-width:2px;stroke-linecap:butt;stroke-linejoin:miter;stroke-opacity:1\"/>\n",
       "<path d=\"M 40.1716,188.259 30.2052,179.124\" style=\"fill:none;fill-rule:evenodd;stroke:#000000;stroke-width:2px;stroke-linecap:butt;stroke-linejoin:miter;stroke-opacity:1\"/>\n",
       "<path d=\"M 58.6094,200.093 65.9393,197.804\" style=\"fill:none;fill-rule:evenodd;stroke:#000000;stroke-width:2px;stroke-linecap:butt;stroke-linejoin:miter;stroke-opacity:1\"/>\n",
       "<path d=\"M 15.1115,168.701 20.1814,142.619\" style=\"fill:none;fill-rule:evenodd;stroke:#000000;stroke-width:2px;stroke-linecap:butt;stroke-linejoin:miter;stroke-opacity:1\"/>\n",
       "<path d=\"M 35.8328,130.057 47.4602,125.978\" style=\"fill:none;fill-rule:evenodd;stroke:#000000;stroke-width:2px;stroke-linecap:butt;stroke-linejoin:miter;stroke-opacity:1\"/>\n",
       "<path d=\"M 40.5915,138.038 48.7306,135.183\" style=\"fill:none;fill-rule:evenodd;stroke:#000000;stroke-width:2px;stroke-linecap:butt;stroke-linejoin:miter;stroke-opacity:1\"/>\n",
       "<path d=\"M 63.1903,113.416 68.9768,85.1567\" style=\"fill:none;fill-rule:evenodd;stroke:#000000;stroke-width:2px;stroke-linecap:butt;stroke-linejoin:miter;stroke-opacity:1\"/>\n",
       "<path d=\"M 70.137,128.594 85.1832,142.027\" style=\"fill:none;fill-rule:evenodd;stroke:#000000;stroke-width:2px;stroke-linecap:butt;stroke-linejoin:miter;stroke-opacity:1\"/>\n",
       "<path d=\"M 84.707,72.4615 94.9471,68.7732\" style=\"fill:none;fill-rule:evenodd;stroke:#000000;stroke-width:2px;stroke-linecap:butt;stroke-linejoin:miter;stroke-opacity:1\"/>\n",
       "<path d=\"M 89.3291,80.4764 96.4972,77.8946\" style=\"fill:none;fill-rule:evenodd;stroke:#000000;stroke-width:2px;stroke-linecap:butt;stroke-linejoin:miter;stroke-opacity:1\"/>\n",
       "<path d=\"M 118.076,71.2563 134.024,84.7742\" style=\"fill:none;fill-rule:evenodd;stroke:#000000;stroke-width:2px;stroke-linecap:butt;stroke-linejoin:miter;stroke-opacity:1\"/>\n",
       "<path d=\"M 157.153,87.8567 168.926,84.1141\" style=\"fill:none;fill-rule:evenodd;stroke:#000000;stroke-width:2px;stroke-linecap:butt;stroke-linejoin:miter;stroke-opacity:1\"/>\n",
       "<path d=\"M 161.678,95.9743 169.919,93.3545\" style=\"fill:none;fill-rule:evenodd;stroke:#000000;stroke-width:2px;stroke-linecap:butt;stroke-linejoin:miter;stroke-opacity:1\"/>\n",
       "<path d=\"M 141.414,99.9525 135.573,128.315\" style=\"fill:none;fill-rule:evenodd;stroke:#000000;stroke-width:2px;stroke-linecap:butt;stroke-linejoin:miter;stroke-opacity:1\"/>\n",
       "<path d=\"M 191.519,87.1966 206.403,100.617\" style=\"fill:none;fill-rule:evenodd;stroke:#000000;stroke-width:2px;stroke-linecap:butt;stroke-linejoin:miter;stroke-opacity:1\"/>\n",
       "<path d=\"M 213.29,115.796 207.848,142.798\" style=\"fill:none;fill-rule:evenodd;stroke:#000000;stroke-width:2px;stroke-linecap:butt;stroke-linejoin:miter;stroke-opacity:1\"/>\n",
       "<path d=\"M 228.995,103.775 236.319,101.486\" style=\"fill:none;fill-rule:evenodd;stroke:#000000;stroke-width:2px;stroke-linecap:butt;stroke-linejoin:miter;stroke-opacity:1\"/>\n",
       "<path d=\"M 232.811,112.124 237.937,110.522\" style=\"fill:none;fill-rule:evenodd;stroke:#000000;stroke-width:2px;stroke-linecap:butt;stroke-linejoin:miter;stroke-opacity:1\"/>\n",
       "<path d=\"M 214.824,157.976 229.868,171.4\" style=\"fill:none;fill-rule:evenodd;stroke:#000000;stroke-width:2px;stroke-linecap:butt;stroke-linejoin:miter;stroke-opacity:1\"/>\n",
       "<path d=\"M 192.143,155.21 185.235,157.56\" style=\"fill:none;fill-rule:evenodd;stroke:#000000;stroke-width:2px;stroke-linecap:butt;stroke-linejoin:miter;stroke-opacity:1\"/>\n",
       "<path d=\"M 188.174,146.94 183.338,148.585\" style=\"fill:none;fill-rule:evenodd;stroke:#000000;stroke-width:2px;stroke-linecap:butt;stroke-linejoin:miter;stroke-opacity:1\"/>\n",
       "<path d=\"M 236.819,186.578 231.032,214.837\" style=\"fill:none;fill-rule:evenodd;stroke:#000000;stroke-width:2px;stroke-linecap:butt;stroke-linejoin:miter;stroke-opacity:1\"/>\n",
       "<path d=\"M 227.029,188.99 222.978,208.772\" style=\"fill:none;fill-rule:evenodd;stroke:#000000;stroke-width:2px;stroke-linecap:butt;stroke-linejoin:miter;stroke-opacity:1\"/>\n",
       "<path d=\"M 257.614,172.234 259.108,171.71\" style=\"fill:none;fill-rule:evenodd;stroke:#000000;stroke-width:2px;stroke-linecap:butt;stroke-linejoin:miter;stroke-opacity:1\"/>\n",
       "<path d=\"M 210.237,229.36 210.128,229.399\" style=\"fill:none;fill-rule:evenodd;stroke:#000000;stroke-width:2px;stroke-linecap:butt;stroke-linejoin:miter;stroke-opacity:1\"/>\n",
       "<path d=\"M 181.928,228.744 165.984,215.235\" style=\"fill:none;fill-rule:evenodd;stroke:#000000;stroke-width:2px;stroke-linecap:butt;stroke-linejoin:miter;stroke-opacity:1\"/>\n",
       "<path d=\"M 185.424,219.769 174.262,210.313\" style=\"fill:none;fill-rule:evenodd;stroke:#000000;stroke-width:2px;stroke-linecap:butt;stroke-linejoin:miter;stroke-opacity:1\"/>\n",
       "<path d=\"M 137.784,213.759 136.139,214.282\" style=\"fill:none;fill-rule:evenodd;stroke:#000000;stroke-width:2px;stroke-linecap:butt;stroke-linejoin:miter;stroke-opacity:1\"/>\n",
       "<path d=\"M 158.589,200.057 164.43,171.694\" style=\"fill:none;fill-rule:evenodd;stroke:#000000;stroke-width:2px;stroke-linecap:butt;stroke-linejoin:miter;stroke-opacity:1\"/>\n",
       "<path d=\"M 108.481,212.806 93.5974,199.386\" style=\"fill:none;fill-rule:evenodd;stroke:#000000;stroke-width:2px;stroke-linecap:butt;stroke-linejoin:miter;stroke-opacity:1\"/>\n",
       "<path d=\"M 112.347,204.03 101.929,194.635\" style=\"fill:none;fill-rule:evenodd;stroke:#000000;stroke-width:2px;stroke-linecap:butt;stroke-linejoin:miter;stroke-opacity:1\"/>\n",
       "<path d=\"M 86.7108,184.207 92.154,157.205\" style=\"fill:none;fill-rule:evenodd;stroke:#000000;stroke-width:2px;stroke-linecap:butt;stroke-linejoin:miter;stroke-opacity:1\"/>\n",
       "<path d=\"M 112.926,143.073 114.768,142.447\" style=\"fill:none;fill-rule:evenodd;stroke:#000000;stroke-width:2px;stroke-linecap:butt;stroke-linejoin:miter;stroke-opacity:1\"/>\n",
       "<path d=\"M 116.134,151.601 117.423,151.163\" style=\"fill:none;fill-rule:evenodd;stroke:#000000;stroke-width:2px;stroke-linecap:butt;stroke-linejoin:miter;stroke-opacity:1\"/>\n",
       "<path d=\"M 142.617,143.493 157.386,156.516\" style=\"fill:none;fill-rule:evenodd;stroke:#000000;stroke-width:2px;stroke-linecap:butt;stroke-linejoin:miter;stroke-opacity:1\"/>\n",
       "<path d=\"M 279.823,157.366 284.89,131.281\" style=\"fill:none;fill-rule:evenodd;stroke:#000000;stroke-width:2px;stroke-linecap:butt;stroke-linejoin:miter;stroke-opacity:1\"/>\n",
       "<path d=\"M 271.643,151.717 275.19,133.457\" style=\"fill:none;fill-rule:evenodd;stroke:#000000;stroke-width:2px;stroke-linecap:butt;stroke-linejoin:miter;stroke-opacity:1\"/>\n",
       "<path d=\"M 278.08,116.102 263.845,103.061\" style=\"fill:none;fill-rule:evenodd;stroke:#000000;stroke-width:2px;stroke-linecap:butt;stroke-linejoin:miter;stroke-opacity:1\"/>\n",
       "<text style=\"font-size:15px;font-style:normal;font-weight:normal;fill-opacity:1;stroke:none;font-family:sans-serif;text-anchor:start;fill:#000000\" x=\"30.257\" y=\"212.108\"><tspan>C:0</tspan></text>\n",
       "<text style=\"font-size:15px;font-style:normal;font-weight:normal;fill-opacity:1;stroke:none;font-family:sans-serif;text-anchor:start;fill:#000000\" x=\"-0.539796\" y=\"183.88\"><tspan>C:1</tspan></text>\n",
       "<text style=\"font-size:15px;font-style:normal;font-weight:normal;fill-opacity:1;stroke:none;font-family:sans-serif;text-anchor:start;fill:#000000\" x=\"7.48043\" y=\"142.619\"><tspan>C:2</tspan></text>\n",
       "<text style=\"font-size:15px;font-style:normal;font-weight:normal;fill-opacity:1;stroke:none;font-family:sans-serif;text-anchor:start;fill:#000000\" x=\"47.4602\" y=\"128.594\"><tspan>C:3</tspan></text>\n",
       "<text style=\"font-size:15px;font-style:normal;font-weight:normal;fill-opacity:1;stroke:none;font-family:sans-serif;text-anchor:start;fill:#000000\" x=\"56.3547\" y=\"85.1567\"><tspan>C:4</tspan></text>\n",
       "<text style=\"font-size:15px;font-style:normal;font-weight:normal;fill-opacity:1;stroke:none;font-family:sans-serif;text-anchor:start;fill:#000000\" x=\"94.9471\" y=\"71.2563\"><tspan>C:5</tspan></text>\n",
       "<text style=\"font-size:15px;font-style:normal;font-weight:normal;fill-opacity:1;stroke:none;font-family:sans-serif;text-anchor:start;fill:#000000\" x=\"128.801\" y=\"99.9525\"><tspan>C:6</tspan></text>\n",
       "<text style=\"font-size:15px;font-style:normal;font-weight:normal;fill-opacity:1;stroke:none;font-family:sans-serif;text-anchor:start;fill:#000000\" x=\"168.926\" y=\"87.1966\"><tspan>C:7</tspan></text>\n",
       "<text style=\"font-size:15px;font-style:normal;font-weight:normal;fill-opacity:1;stroke:none;font-family:sans-serif;text-anchor:start;fill:#000000\" x=\"200.643\" y=\"115.796\"><tspan>C:8</tspan></text>\n",
       "<text style=\"font-size:15px;font-style:normal;font-weight:normal;fill-opacity:1;stroke:none;font-family:sans-serif;text-anchor:start;fill:#000000\" x=\"192.143\" y=\"157.976\"><tspan>C:9</tspan></text>\n",
       "<text style=\"font-size:15px;font-style:normal;font-weight:normal;fill-opacity:1;stroke:none;font-family:sans-serif;text-anchor:start;fill:#000000\" x=\"219.131\" y=\"186.578\"><tspan>C:10</tspan></text>\n",
       "<text style=\"font-size:15px;font-style:normal;font-weight:normal;fill-opacity:1;stroke:none;font-family:sans-serif;text-anchor:start;fill:#000000\" x=\"210.237\" y=\"230.016\"><tspan>C:11</tspan></text>\n",
       "<text style=\"font-size:15px;font-style:normal;font-weight:normal;fill-opacity:1;stroke:none;font-family:sans-serif;text-anchor:start;fill:#000000\" x=\"171.644\" y=\"243.922\"><tspan>C:12</tspan></text>\n",
       "<text style=\"font-size:15px;font-style:normal;font-weight:normal;fill-opacity:1;stroke:none;font-family:sans-serif;text-anchor:start;fill:#000000\" x=\"137.784\" y=\"215.235\"><tspan>C:13</tspan></text>\n",
       "<text style=\"font-size:15px;font-style:normal;font-weight:normal;fill-opacity:1;stroke:none;font-family:sans-serif;text-anchor:start;fill:#000000\" x=\"97.6559\" y=\"227.985\"><tspan>C:14</tspan></text>\n",
       "<text style=\"font-size:15px;font-style:normal;font-weight:normal;fill-opacity:1;stroke:none;font-family:sans-serif;text-anchor:start;fill:#000000\" x=\"65.9393\" y=\"199.386\"><tspan>C:15</tspan></text>\n",
       "<text style=\"font-size:15px;font-style:normal;font-weight:normal;fill-opacity:1;stroke:none;font-family:sans-serif;text-anchor:start;fill:#000000\" x=\"74.4422\" y=\"157.205\"><tspan>C:16</tspan></text>\n",
       "<text style=\"font-size:15px;font-style:normal;font-weight:normal;fill-opacity:1;stroke:none;font-family:sans-serif;text-anchor:start;fill:#000000\" x=\"114.768\" y=\"143.493\"><tspan>C:17</tspan></text>\n",
       "<text style=\"font-size:15px;font-style:normal;font-weight:normal;fill-opacity:1;stroke:none;font-family:sans-serif;text-anchor:start;fill:#000000\" x=\"146.752\" y=\"171.694\"><tspan>C:18</tspan></text>\n",
       "<text style=\"font-size:15px;font-style:normal;font-weight:normal;fill-opacity:1;stroke:none;font-family:sans-serif;text-anchor:start;fill:#000000\" x=\"259.108\" y=\"172.544\"><tspan>C:19</tspan></text>\n",
       "<text style=\"font-size:15px;font-style:normal;font-weight:normal;fill-opacity:1;stroke:none;font-family:sans-serif;text-anchor:start;fill:#000000\" x=\"267.122\" y=\"131.281\"><tspan>C:20</tspan></text>\n",
       "<text style=\"font-size:15px;font-style:normal;font-weight:normal;fill-opacity:1;stroke:none;font-family:sans-serif;text-anchor:start;fill:#000000\" x=\"236.319\" y=\"103.061\"><tspan>C:21</tspan></text>\n",
       "<text style=\"font-size:12px;font-style:normal;font-weight:normal;fill-opacity:1;stroke:none;font-family:sans-serif;text-anchor:start;fill:#000000\" x=\"82.7467\" y=\"288\"><tspan>Dibenzo[cd,jk]pyrene</tspan></text>\n",
       "</svg>"
      ],
      "text/plain": [
       "<IPython.core.display.SVG object>"
      ]
     },
     "metadata": {},
     "output_type": "display_data"
    },
    {
     "name": "stdout",
     "output_type": "stream",
     "text": [
      " 0  -1   0   0   0   0   0   0   0   0   0   0   0   0   0  -1   0   0   0   0   0   0  \n",
      "-1   0  -1   0   0   0   0   0   0   0   0   0   0   0   0   0   0   0   0   0   0   0  \n",
      " 0  -1   0  -1   0   0   0   0   0   0   0   0   0   0   0   0   0   0   0   0   0   0  \n",
      " 0   0  -1   0  -1   0   0   0   0   0   0   0   0   0   0   0  -1   0   0   0   0   0  \n",
      " 0   0   0  -1   0  -1   0   0   0   0   0   0   0   0   0   0   0   0   0   0   0   0  \n",
      " 0   0   0   0  -1   0  -1   0   0   0   0   0   0   0   0   0   0   0   0   0   0   0  \n",
      " 0   0   0   0   0  -1   0  -1   0   0   0   0   0   0   0   0   0  -1   0   0   0   0  \n",
      " 0   0   0   0   0   0  -1   0  -1   0   0   0   0   0   0   0   0   0   0   0   0   0  \n",
      " 0   0   0   0   0   0   0  -1   0  -1   0   0   0   0   0   0   0   0   0   0   0  -1  \n",
      " 0   0   0   0   0   0   0   0  -1   0  -1   0   0   0   0   0   0   0  -1   0   0   0  \n",
      " 0   0   0   0   0   0   0   0   0  -1   0  -1   0   0   0   0   0   0   0  -1   0   0  \n",
      " 0   0   0   0   0   0   0   0   0   0  -1   0  -1   0   0   0   0   0   0   0   0   0  \n",
      " 0   0   0   0   0   0   0   0   0   0   0  -1   0  -1   0   0   0   0   0   0   0   0  \n",
      " 0   0   0   0   0   0   0   0   0   0   0   0  -1   0  -1   0   0   0  -1   0   0   0  \n",
      " 0   0   0   0   0   0   0   0   0   0   0   0   0  -1   0  -1   0   0   0   0   0   0  \n",
      "-1   0   0   0   0   0   0   0   0   0   0   0   0   0  -1   0  -1   0   0   0   0   0  \n",
      " 0   0   0  -1   0   0   0   0   0   0   0   0   0   0   0  -1   0  -1   0   0   0   0  \n",
      " 0   0   0   0   0   0  -1   0   0   0   0   0   0   0   0   0  -1   0  -1   0   0   0  \n",
      " 0   0   0   0   0   0   0   0   0  -1   0   0   0  -1   0   0   0  -1   0   0   0   0  \n",
      " 0   0   0   0   0   0   0   0   0   0  -1   0   0   0   0   0   0   0   0   0  -1   0  \n",
      " 0   0   0   0   0   0   0   0   0   0   0   0   0   0   0   0   0   0   0  -1   0  -1  \n",
      " 0   0   0   0   0   0   0   0  -1   0   0   0   0   0   0   0   0   0   0   0  -1   0  \n"
     ]
    },
    {
     "data": {
      "image/svg+xml": [
       "<svg baseProfile=\"full\" height=\"300px\" version=\"1.1\" width=\"900px\" xml:space=\"preserve\" xmlns=\"http://www.w3.org/2000/svg\" xmlns:rdkit=\"http://www.rdkit.org/xml\" xmlns:xlink=\"http://www.w3.org/1999/xlink\">\n",
       "<rect height=\"300\" style=\"opacity:1.0;fill:#FFFFFF;stroke:none\" width=\"900\" x=\"0\" y=\"0\"> </rect>\n",
       "<path d=\"M 51.736,91.8145 38.1094,106.231\" style=\"fill:none;fill-rule:evenodd;stroke:#000000;stroke-width:2px;stroke-linecap:butt;stroke-linejoin:miter;stroke-opacity:1\"/>\n",
       "<path d=\"M 56.1463,100.077 46.6076,110.169\" style=\"fill:none;fill-rule:evenodd;stroke:#000000;stroke-width:2px;stroke-linecap:butt;stroke-linejoin:miter;stroke-opacity:1\"/>\n",
       "<path d=\"M 72.5556,87.5513 80.7398,89.4088\" style=\"fill:none;fill-rule:evenodd;stroke:#000000;stroke-width:2px;stroke-linecap:butt;stroke-linejoin:miter;stroke-opacity:1\"/>\n",
       "<path d=\"M 33.0207,121.033 39.6607,146.809\" style=\"fill:none;fill-rule:evenodd;stroke:#000000;stroke-width:2px;stroke-linecap:butt;stroke-linejoin:miter;stroke-opacity:1\"/>\n",
       "<path d=\"M 34.7957,161.61 20.4078,177.336\" style=\"fill:none;fill-rule:evenodd;stroke:#000000;stroke-width:2px;stroke-linecap:butt;stroke-linejoin:miter;stroke-opacity:1\"/>\n",
       "<path d=\"M 39.1898,169.964 29.1183,180.972\" style=\"fill:none;fill-rule:evenodd;stroke:#000000;stroke-width:2px;stroke-linecap:butt;stroke-linejoin:miter;stroke-opacity:1\"/>\n",
       "<path d=\"M 55.3916,157.795 63.256,159.835\" style=\"fill:none;fill-rule:evenodd;stroke:#000000;stroke-width:2px;stroke-linecap:butt;stroke-linejoin:miter;stroke-opacity:1\"/>\n",
       "<path d=\"M 16.01,192.137 23.7642,216.315\" style=\"fill:none;fill-rule:evenodd;stroke:#000000;stroke-width:2px;stroke-linecap:butt;stroke-linejoin:miter;stroke-opacity:1\"/>\n",
       "<path d=\"M 39.9623,227.325 51.8814,230.437\" style=\"fill:none;fill-rule:evenodd;stroke:#000000;stroke-width:2px;stroke-linecap:butt;stroke-linejoin:miter;stroke-opacity:1\"/>\n",
       "<path d=\"M 43.9938,219.199 52.3372,221.378\" style=\"fill:none;fill-rule:evenodd;stroke:#000000;stroke-width:2px;stroke-linecap:butt;stroke-linejoin:miter;stroke-opacity:1\"/>\n",
       "<path d=\"M 73.0346,226.646 87.5749,211.963\" style=\"fill:none;fill-rule:evenodd;stroke:#000000;stroke-width:2px;stroke-linecap:butt;stroke-linejoin:miter;stroke-opacity:1\"/>\n",
       "<path d=\"M 108.728,207.842 121.979,210.986\" style=\"fill:none;fill-rule:evenodd;stroke:#000000;stroke-width:2px;stroke-linecap:butt;stroke-linejoin:miter;stroke-opacity:1\"/>\n",
       "<path d=\"M 92.5116,197.161 84.4122,172.102\" style=\"fill:none;fill-rule:evenodd;stroke:#000000;stroke-width:2px;stroke-linecap:butt;stroke-linejoin:miter;stroke-opacity:1\"/>\n",
       "<path d=\"M 82.8461,196.134 77.1766,178.592\" style=\"fill:none;fill-rule:evenodd;stroke:#000000;stroke-width:2px;stroke-linecap:butt;stroke-linejoin:miter;stroke-opacity:1\"/>\n",
       "<path d=\"M 142.903,206.865 156.721,192.46\" style=\"fill:none;fill-rule:evenodd;stroke:#000000;stroke-width:2px;stroke-linecap:butt;stroke-linejoin:miter;stroke-opacity:1\"/>\n",
       "<path d=\"M 138.567,198.557 148.239,188.473\" style=\"fill:none;fill-rule:evenodd;stroke:#000000;stroke-width:2px;stroke-linecap:butt;stroke-linejoin:miter;stroke-opacity:1\"/>\n",
       "<path d=\"M 161.266,177.658 152.348,151.815\" style=\"fill:none;fill-rule:evenodd;stroke:#000000;stroke-width:2px;stroke-linecap:butt;stroke-linejoin:miter;stroke-opacity:1\"/>\n",
       "<path d=\"M 177.645,183.952 188.612,183.073\" style=\"fill:none;fill-rule:evenodd;stroke:#000000;stroke-width:2px;stroke-linecap:butt;stroke-linejoin:miter;stroke-opacity:1\"/>\n",
       "<path d=\"M 158.15,137.013 172.235,124.538\" style=\"fill:none;fill-rule:evenodd;stroke:#000000;stroke-width:2px;stroke-linecap:butt;stroke-linejoin:miter;stroke-opacity:1\"/>\n",
       "<path d=\"M 135.97,140.833 128.92,139.007\" style=\"fill:none;fill-rule:evenodd;stroke:#000000;stroke-width:2px;stroke-linecap:butt;stroke-linejoin:miter;stroke-opacity:1\"/>\n",
       "<path d=\"M 132.686,149.157 127.75,147.879\" style=\"fill:none;fill-rule:evenodd;stroke:#000000;stroke-width:2px;stroke-linecap:butt;stroke-linejoin:miter;stroke-opacity:1\"/>\n",
       "<path d=\"M 178.578,109.736 171.748,84.6238\" style=\"fill:none;fill-rule:evenodd;stroke:#000000;stroke-width:2px;stroke-linecap:butt;stroke-linejoin:miter;stroke-opacity:1\"/>\n",
       "<path d=\"M 168.984,108.3 164.203,90.7215\" style=\"fill:none;fill-rule:evenodd;stroke:#000000;stroke-width:2px;stroke-linecap:butt;stroke-linejoin:miter;stroke-opacity:1\"/>\n",
       "<path d=\"M 192.101,124.538 205.812,133.354\" style=\"fill:none;fill-rule:evenodd;stroke:#000000;stroke-width:2px;stroke-linecap:butt;stroke-linejoin:miter;stroke-opacity:1\"/>\n",
       "<path d=\"M 150.971,71.8612 149.059,71.3148\" style=\"fill:none;fill-rule:evenodd;stroke:#000000;stroke-width:2px;stroke-linecap:butt;stroke-linejoin:miter;stroke-opacity:1\"/>\n",
       "<path d=\"M 122.072,73.3538 107.726,86.2668\" style=\"fill:none;fill-rule:evenodd;stroke:#000000;stroke-width:2px;stroke-linecap:butt;stroke-linejoin:miter;stroke-opacity:1\"/>\n",
       "<path d=\"M 125.862,81.8916 115.82,90.9307\" style=\"fill:none;fill-rule:evenodd;stroke:#000000;stroke-width:2px;stroke-linecap:butt;stroke-linejoin:miter;stroke-opacity:1\"/>\n",
       "<path d=\"M 101.451,101.069 108.208,126.747\" style=\"fill:none;fill-rule:evenodd;stroke:#000000;stroke-width:2px;stroke-linecap:butt;stroke-linejoin:miter;stroke-opacity:1\"/>\n",
       "<path d=\"M 103.34,141.548 88.8352,157.3\" style=\"fill:none;fill-rule:evenodd;stroke:#000000;stroke-width:2px;stroke-linecap:butt;stroke-linejoin:miter;stroke-opacity:1\"/>\n",
       "<path d=\"M 236.087,135.588 238.336,134.968\" style=\"fill:none;fill-rule:evenodd;stroke:#000000;stroke-width:2px;stroke-linecap:butt;stroke-linejoin:miter;stroke-opacity:1\"/>\n",
       "<path d=\"M 238.782,144.057 240.357,143.624\" style=\"fill:none;fill-rule:evenodd;stroke:#000000;stroke-width:2px;stroke-linecap:butt;stroke-linejoin:miter;stroke-opacity:1\"/>\n",
       "<path d=\"M 215.519,148.156 209.179,174.168\" style=\"fill:none;fill-rule:evenodd;stroke:#000000;stroke-width:2px;stroke-linecap:butt;stroke-linejoin:miter;stroke-opacity:1\"/>\n",
       "<path d=\"M 264.713,137.202 278.752,150.853\" style=\"fill:none;fill-rule:evenodd;stroke:#000000;stroke-width:2px;stroke-linecap:butt;stroke-linejoin:miter;stroke-opacity:1\"/>\n",
       "<path d=\"M 284.549,165.654 278.415,190.675\" style=\"fill:none;fill-rule:evenodd;stroke:#000000;stroke-width:2px;stroke-linecap:butt;stroke-linejoin:miter;stroke-opacity:1\"/>\n",
       "<path d=\"M 275.003,167.293 270.709,184.807\" style=\"fill:none;fill-rule:evenodd;stroke:#000000;stroke-width:2px;stroke-linecap:butt;stroke-linejoin:miter;stroke-opacity:1\"/>\n",
       "<path d=\"M 257.836,203.653 256.223,204.133\" style=\"fill:none;fill-rule:evenodd;stroke:#000000;stroke-width:2px;stroke-linecap:butt;stroke-linejoin:miter;stroke-opacity:1\"/>\n",
       "<path d=\"M 229.547,202.309 215.287,188.97\" style=\"fill:none;fill-rule:evenodd;stroke:#000000;stroke-width:2px;stroke-linecap:butt;stroke-linejoin:miter;stroke-opacity:1\"/>\n",
       "<path d=\"M 233.475,193.823 223.493,184.485\" style=\"fill:none;fill-rule:evenodd;stroke:#000000;stroke-width:2px;stroke-linecap:butt;stroke-linejoin:miter;stroke-opacity:1\"/>\n",
       "<text style=\"font-size:14px;font-style:normal;font-weight:normal;fill-opacity:1;stroke:none;font-family:sans-serif;text-anchor:start;fill:#000000\" x=\"44.9068\" y=\"91.8145\"><tspan>C:0</tspan></text>\n",
       "<text style=\"font-size:14px;font-style:normal;font-weight:normal;fill-opacity:1;stroke:none;font-family:sans-serif;text-anchor:start;fill:#000000\" x=\"17.2898\" y=\"121.033\"><tspan>C:1</tspan></text>\n",
       "<text style=\"font-size:14px;font-style:normal;font-weight:normal;fill-opacity:1;stroke:none;font-family:sans-serif;text-anchor:start;fill:#000000\" x=\"27.7428\" y=\"161.61\"><tspan>C:2</tspan></text>\n",
       "<text style=\"font-size:14px;font-style:normal;font-weight:normal;fill-opacity:1;stroke:none;font-family:sans-serif;text-anchor:start;fill:#000000\" x=\"-0.188035\" y=\"192.137\"><tspan>C:3</tspan></text>\n",
       "<text style=\"font-size:14px;font-style:normal;font-weight:normal;fill-opacity:1;stroke:none;font-family:sans-serif;text-anchor:start;fill:#000000\" x=\"12.3135\" y=\"231.116\"><tspan>C:4</tspan></text>\n",
       "<text style=\"font-size:14px;font-style:normal;font-weight:normal;fill-opacity:1;stroke:none;font-family:sans-serif;text-anchor:start;fill:#000000\" x=\"51.8814\" y=\"241.448\"><tspan>C:5</tspan></text>\n",
       "<text style=\"font-size:14px;font-style:normal;font-weight:normal;fill-opacity:1;stroke:none;font-family:sans-serif;text-anchor:start;fill:#000000\" x=\"81.0792\" y=\"211.963\"><tspan>C:6</tspan></text>\n",
       "<text style=\"font-size:14px;font-style:normal;font-weight:normal;fill-opacity:1;stroke:none;font-family:sans-serif;text-anchor:start;fill:#000000\" x=\"121.979\" y=\"221.667\"><tspan>C:7</tspan></text>\n",
       "<text style=\"font-size:14px;font-style:normal;font-weight:normal;fill-opacity:1;stroke:none;font-family:sans-serif;text-anchor:start;fill:#000000\" x=\"149.996\" y=\"192.46\"><tspan>C:8</tspan></text>\n",
       "<text style=\"font-size:14px;font-style:normal;font-weight:normal;fill-opacity:1;stroke:none;font-family:sans-serif;text-anchor:start;fill:#000000\" x=\"135.97\" y=\"151.815\"><tspan>C:9</tspan></text>\n",
       "<text style=\"font-size:14px;font-style:normal;font-weight:normal;fill-opacity:1;stroke:none;font-family:sans-serif;text-anchor:start;fill:#000000\" x=\"161.826\" y=\"124.538\"><tspan>C:10</tspan></text>\n",
       "<text style=\"font-size:14px;font-style:normal;font-weight:normal;fill-opacity:1;stroke:none;font-family:sans-serif;text-anchor:start;fill:#000000\" x=\"150.971\" y=\"84.6238\"><tspan>C:11</tspan></text>\n",
       "<text style=\"font-size:14px;font-style:normal;font-weight:normal;fill-opacity:1;stroke:none;font-family:sans-serif;text-anchor:start;fill:#000000\" x=\"111.53\" y=\"73.3538\"><tspan>C:12</tspan></text>\n",
       "<text style=\"font-size:14px;font-style:normal;font-weight:normal;fill-opacity:1;stroke:none;font-family:sans-serif;text-anchor:start;fill:#000000\" x=\"80.7398\" y=\"101.069\"><tspan>C:13</tspan></text>\n",
       "<text style=\"font-size:14px;font-style:normal;font-weight:normal;fill-opacity:1;stroke:none;font-family:sans-serif;text-anchor:start;fill:#000000\" x=\"91.3911\" y=\"141.548\"><tspan>C:14</tspan></text>\n",
       "<text style=\"font-size:14px;font-style:normal;font-weight:normal;fill-opacity:1;stroke:none;font-family:sans-serif;text-anchor:start;fill:#000000\" x=\"63.256\" y=\"172.102\"><tspan>C:15</tspan></text>\n",
       "<text style=\"font-size:14px;font-style:normal;font-weight:normal;fill-opacity:1;stroke:none;font-family:sans-serif;text-anchor:start;fill:#000000\" x=\"198.558\" y=\"148.156\"><tspan>C:16</tspan></text>\n",
       "<text style=\"font-size:14px;font-style:normal;font-weight:normal;fill-opacity:1;stroke:none;font-family:sans-serif;text-anchor:start;fill:#000000\" x=\"238.336\" y=\"137.202\"><tspan>C:17</tspan></text>\n",
       "<text style=\"font-size:14px;font-style:normal;font-weight:normal;fill-opacity:1;stroke:none;font-family:sans-serif;text-anchor:start;fill:#000000\" x=\"267.599\" y=\"165.654\"><tspan>C:18</tspan></text>\n",
       "<text style=\"font-size:14px;font-style:normal;font-weight:normal;fill-opacity:1;stroke:none;font-family:sans-serif;text-anchor:start;fill:#000000\" x=\"257.836\" y=\"205.477\"><tspan>C:19</tspan></text>\n",
       "<text style=\"font-size:14px;font-style:normal;font-weight:normal;fill-opacity:1;stroke:none;font-family:sans-serif;text-anchor:start;fill:#000000\" x=\"218.695\" y=\"217.111\"><tspan>C:20</tspan></text>\n",
       "<text style=\"font-size:14px;font-style:normal;font-weight:normal;fill-opacity:1;stroke:none;font-family:sans-serif;text-anchor:start;fill:#000000\" x=\"188.612\" y=\"188.97\"><tspan>C:21</tspan></text>\n",
       "<text style=\"font-size:12px;font-style:normal;font-weight:normal;fill-opacity:1;stroke:none;font-family:sans-serif;text-anchor:start;fill:#000000\" x=\"75.9256\" y=\"288\"><tspan>Indeno[1,2,3-cd]pyrene</tspan></text>\n",
       "</svg>"
      ],
      "text/plain": [
       "<IPython.core.display.SVG object>"
      ]
     },
     "metadata": {},
     "output_type": "display_data"
    },
    {
     "name": "stdout",
     "output_type": "stream",
     "text": [
      " 0  -1   0   0   0   0   0   0   0   0   0   0   0  -1   0   0   0   0   0   0   0   0  \n",
      "-1   0  -1   0   0   0   0   0   0   0   0   0   0   0   0   0   0   0   0   0   0   0  \n",
      " 0  -1   0  -1   0   0   0   0   0   0   0   0   0   0   0  -1   0   0   0   0   0   0  \n",
      " 0   0  -1   0  -1   0   0   0   0   0   0   0   0   0   0   0   0   0   0   0   0   0  \n",
      " 0   0   0  -1   0  -1   0   0   0   0   0   0   0   0   0   0   0   0   0   0   0   0  \n",
      " 0   0   0   0  -1   0  -1   0   0   0   0   0   0   0   0   0   0   0   0   0   0   0  \n",
      " 0   0   0   0   0  -1   0  -1   0   0   0   0   0   0   0  -1   0   0   0   0   0   0  \n",
      " 0   0   0   0   0   0  -1   0  -1   0   0   0   0   0   0   0   0   0   0   0   0   0  \n",
      " 0   0   0   0   0   0   0  -1   0  -1   0   0   0   0   0   0   0   0   0   0   0  -1  \n",
      " 0   0   0   0   0   0   0   0  -1   0  -1   0   0   0  -1   0   0   0   0   0   0   0  \n",
      " 0   0   0   0   0   0   0   0   0  -1   0  -1   0   0   0   0  -1   0   0   0   0   0  \n",
      " 0   0   0   0   0   0   0   0   0   0  -1   0  -1   0   0   0   0   0   0   0   0   0  \n",
      " 0   0   0   0   0   0   0   0   0   0   0  -1   0  -1   0   0   0   0   0   0   0   0  \n",
      "-1   0   0   0   0   0   0   0   0   0   0   0  -1   0  -1   0   0   0   0   0   0   0  \n",
      " 0   0   0   0   0   0   0   0   0  -1   0   0   0  -1   0  -1   0   0   0   0   0   0  \n",
      " 0   0  -1   0   0   0  -1   0   0   0   0   0   0   0  -1   0   0   0   0   0   0   0  \n",
      " 0   0   0   0   0   0   0   0   0   0  -1   0   0   0   0   0   0  -1   0   0   0  -1  \n",
      " 0   0   0   0   0   0   0   0   0   0   0   0   0   0   0   0  -1   0  -1   0   0   0  \n",
      " 0   0   0   0   0   0   0   0   0   0   0   0   0   0   0   0   0  -1   0  -1   0   0  \n",
      " 0   0   0   0   0   0   0   0   0   0   0   0   0   0   0   0   0   0  -1   0  -1   0  \n",
      " 0   0   0   0   0   0   0   0   0   0   0   0   0   0   0   0   0   0   0  -1   0  -1  \n",
      " 0   0   0   0   0   0   0   0  -1   0   0   0   0   0   0   0  -1   0   0   0  -1   0  \n"
     ]
    }
   ],
   "source": [
    "from rdkit import Chem\n",
    "import rdkit.Chem.Draw\n",
    "from rdkit.Chem import AllChem\n",
    "from IPython.display import SVG, display\n",
    "from PAH_data import select_molecule, matprint, mol_with_atom_index\n",
    "import matplotlib.pyplot as plt\n",
    "\n",
    "names = [\n",
    "    'Indeno[1,2,3-cd]fluoranthene',\n",
    "    'Dibenzo[cd,jk]pyrene',\n",
    "    'Indeno[1,2,3-cd]pyrene',\n",
    "]\n",
    "molecules = []\n",
    "rdkit_objects = []\n",
    "for i in range(3):\n",
    "    mol, mol_object = select_molecule(names[i])\n",
    "    molecules.append(mol)\n",
    "    rdkit_objects.append(mol_object)\n",
    "\n",
    "#########DATA\n",
    "#list of three connnectivity matrices\n",
    "conmats = [(molecules[0])['conmat'], molecules[1]['conmat'], molecules[2]['conmat']]\n",
    "#list of three molecule names\n",
    "names = names\n",
    "#list of three RDKIT molecuel objects\n",
    "molecules = rdkit_objects\n",
    "        \n",
    "#display(SVG(Chem.Draw.MolsToGridImage([molecules[0]], useSVG=True, legends=[leg[0]], subImgSize=(300,300))))\n",
    "display(SVG(Chem.Draw.MolsToGridImage([mol_with_atom_index(molecules[0])], useSVG=True, legends=[names[0]], subImgSize=(300,300))))\n",
    "matprint(conmats[0])\n",
    "\n",
    "display(SVG(Chem.Draw.MolsToGridImage([mol_with_atom_index(molecules[1])], useSVG=True, legends=[names[1]], subImgSize=(300,300))))\n",
    "matprint(conmats[1])\n",
    "\n",
    "display(SVG(Chem.Draw.MolsToGridImage([mol_with_atom_index(molecules[2])], useSVG=True, legends=[names[2]], subImgSize=(300,300))))\n",
    "matprint(conmats[2])\n",
    "#This line generates the picture of the three molecules\n",
    "\n"
   ]
  },
  {
   "cell_type": "markdown",
   "metadata": {},
   "source": [
    "<div class=warn>\n",
    "\n",
    "<b> Task 1: Use the following text cell to make notes and answer following questions:</b><br>\n",
    "\n",
    "<ul>\n",
    "<li> Verify that the connectivity matrices are correct and that they are consistent with the provided atom numbering.</li>\n",
    "<li> Are the three molecules alternant or non-alternant? </li>\n",
    "\n",
    "</ul>\n",
    "\n",
    "</div>"
   ]
  },
  {
   "cell_type": "markdown",
   "metadata": {},
   "source": [
    "#### Answers to Task 1:\n",
    "\n"
   ]
  },
  {
   "cell_type": "markdown",
   "metadata": {},
   "source": [
    "We can consider the connectivity matrices to be Hückel matrices, where we have set\n",
    "$$\\alpha=\\langle \\phi_i|H|\\phi_i\\rangle = 0 $$\n",
    "and \n",
    "$$\\beta=\\langle \\phi_i|H|\\phi_j\\rangle = -1 $$\n",
    "\n",
    "**NOTE**: Because we have set $\\beta=-1$, our energies will be numbers that already reflect the correct energy ordering. Therefore, we do not have to consider the implicit fact that $\\beta<0$ in $2\\beta$ ie. the lower the number, the more stable the energy level. We have to use actual numbers, as we cannot use variables $\\alpha,\\beta$ in a numerical code.\n",
    "\n",
    "The two molecules with odd-numbered rings are non-alternant, the one with only even-numbered rings is alternant. All conjugated systems with odd-numbered rings are non-alternant."
   ]
  },
  {
   "cell_type": "markdown",
   "metadata": {},
   "source": [
    "## Part 2: How to use the Hückel code\n",
    "\n",
    "\n",
    "The code we will use is called ```shmo``` and is documented here:\n",
    "https://github.com/randlet/SHMO\n",
    "\n",
    "Let's learn how to use the code with the example of benzene.\n",
    "We first pull the Hückel matrix of benzene from the database and then initialise the HuckelSolver with it."
   ]
  },
  {
   "cell_type": "markdown",
   "metadata": {},
   "source": [
    "<div class=warn>\n",
    "\n",
    "<b> Task 2:</b> Explore the Hückel SHMO module<br>\n",
    "\n",
    "</div>"
   ]
  },
  {
   "cell_type": "code",
   "execution_count": 3,
   "metadata": {
    "collapsed": true
   },
   "outputs": [],
   "source": [
    "import numpy as np\n",
    "import shmo"
   ]
  },
  {
   "cell_type": "code",
   "execution_count": 28,
   "metadata": {},
   "outputs": [
    {
     "data": {
      "image/svg+xml": [
       "<svg baseProfile=\"full\" height=\"200px\" version=\"1.1\" width=\"600px\" xml:space=\"preserve\" xmlns=\"http://www.w3.org/2000/svg\" xmlns:rdkit=\"http://www.rdkit.org/xml\" xmlns:xlink=\"http://www.w3.org/1999/xlink\">\n",
       "<rect height=\"200\" style=\"opacity:1.0;fill:#FFFFFF;stroke:none\" width=\"600\" x=\"0\" y=\"0\"> </rect>\n",
       "<path d=\"M 189.553,102.443 143.226,128.023\" style=\"fill:none;fill-rule:evenodd;stroke:#000000;stroke-width:2px;stroke-linecap:butt;stroke-linejoin:miter;stroke-opacity:1\"/>\n",
       "<path d=\"M 177.093,96.3012 144.665,114.207\" style=\"fill:none;fill-rule:evenodd;stroke:#000000;stroke-width:2px;stroke-linecap:butt;stroke-linejoin:miter;stroke-opacity:1\"/>\n",
       "<path d=\"M 189.553,102.443 190.909,49.4101\" style=\"fill:none;fill-rule:evenodd;stroke:#000000;stroke-width:2px;stroke-linecap:butt;stroke-linejoin:miter;stroke-opacity:1\"/>\n",
       "<path d=\"M 10.4474,102.443 56.774,128.023\" style=\"fill:none;fill-rule:evenodd;stroke:#000000;stroke-width:2px;stroke-linecap:butt;stroke-linejoin:miter;stroke-opacity:1\"/>\n",
       "<path d=\"M 10.4474,102.443 9.09091,49.4101\" style=\"fill:none;fill-rule:evenodd;stroke:#000000;stroke-width:2px;stroke-linecap:butt;stroke-linejoin:miter;stroke-opacity:1\"/>\n",
       "<path d=\"M 21.6395,94.1968 20.6899,57.0736\" style=\"fill:none;fill-rule:evenodd;stroke:#000000;stroke-width:2px;stroke-linecap:butt;stroke-linejoin:miter;stroke-opacity:1\"/>\n",
       "<path d=\"M 147.166,19.1223 100,43.0759\" style=\"fill:none;fill-rule:evenodd;stroke:#000000;stroke-width:2px;stroke-linecap:butt;stroke-linejoin:miter;stroke-opacity:1\"/>\n",
       "<path d=\"M 147.166,19.1223 190.909,49.4101\" style=\"fill:none;fill-rule:evenodd;stroke:#000000;stroke-width:2px;stroke-linecap:butt;stroke-linejoin:miter;stroke-opacity:1\"/>\n",
       "<path d=\"M 147.239,33.0374 177.858,54.2389\" style=\"fill:none;fill-rule:evenodd;stroke:#000000;stroke-width:2px;stroke-linecap:butt;stroke-linejoin:miter;stroke-opacity:1\"/>\n",
       "<path d=\"M 52.8337,19.1223 100,43.0759\" style=\"fill:none;fill-rule:evenodd;stroke:#000000;stroke-width:2px;stroke-linecap:butt;stroke-linejoin:miter;stroke-opacity:1\"/>\n",
       "<path d=\"M 54.7469,32.879 87.7634,49.6465\" style=\"fill:none;fill-rule:evenodd;stroke:#000000;stroke-width:2px;stroke-linecap:butt;stroke-linejoin:miter;stroke-opacity:1\"/>\n",
       "<path d=\"M 52.8337,19.1223 9.09091,49.4101\" style=\"fill:none;fill-rule:evenodd;stroke:#000000;stroke-width:2px;stroke-linecap:butt;stroke-linejoin:miter;stroke-opacity:1\"/>\n",
       "<path d=\"M 143.226,128.023 100,98.4573\" style=\"fill:none;fill-rule:evenodd;stroke:#000000;stroke-width:2px;stroke-linecap:butt;stroke-linejoin:miter;stroke-opacity:1\"/>\n",
       "<path d=\"M 143.226,128.023 125.246,180.878\" style=\"fill:none;fill-rule:evenodd;stroke:#000000;stroke-width:2px;stroke-linecap:butt;stroke-linejoin:miter;stroke-opacity:1\"/>\n",
       "<path d=\"M 56.774,128.023 100,98.4573\" style=\"fill:none;fill-rule:evenodd;stroke:#000000;stroke-width:2px;stroke-linecap:butt;stroke-linejoin:miter;stroke-opacity:1\"/>\n",
       "<path d=\"M 69.6934,132.997 99.9516,112.301\" style=\"fill:none;fill-rule:evenodd;stroke:#000000;stroke-width:2px;stroke-linecap:butt;stroke-linejoin:miter;stroke-opacity:1\"/>\n",
       "<path d=\"M 56.774,128.023 74.7544,180.878\" style=\"fill:none;fill-rule:evenodd;stroke:#000000;stroke-width:2px;stroke-linecap:butt;stroke-linejoin:miter;stroke-opacity:1\"/>\n",
       "<path d=\"M 125.246,180.878 74.7544,180.878\" style=\"fill:none;fill-rule:evenodd;stroke:#000000;stroke-width:2px;stroke-linecap:butt;stroke-linejoin:miter;stroke-opacity:1\"/>\n",
       "<path d=\"M 117.672,169.478 82.3281,169.478\" style=\"fill:none;fill-rule:evenodd;stroke:#000000;stroke-width:2px;stroke-linecap:butt;stroke-linejoin:miter;stroke-opacity:1\"/>\n",
       "<path d=\"M 100,43.0759 100,98.4573\" style=\"fill:none;fill-rule:evenodd;stroke:#000000;stroke-width:2px;stroke-linecap:butt;stroke-linejoin:miter;stroke-opacity:1\"/>\n",
       "<text style=\"font-size:12px;font-style:normal;font-weight:normal;fill-opacity:1;stroke:none;font-family:sans-serif;text-anchor:start;fill:#000000\" x=\"47.9448\" y=\"194\"><tspan>Acenaphthalene</tspan></text>\n",
       "</svg>"
      ],
      "text/plain": [
       "<IPython.core.display.SVG object>"
      ]
     },
     "metadata": {},
     "output_type": "display_data"
    },
    {
     "name": "stdout",
     "output_type": "stream",
     "text": [
      " 0   0   0   0  -1   0  -1   0   0   0   0   0  \n",
      " 0   0   0   0   0  -1   0  -1   0   0   0   0  \n",
      " 0   0   0   0  -1   0   0   0   0   0  -1   0  \n",
      " 0   0   0   0   0  -1   0   0   0   0  -1   0  \n",
      "-1   0  -1   0   0   0   0   0   0   0   0   0  \n",
      " 0  -1   0  -1   0   0   0   0   0   0   0   0  \n",
      "-1   0   0   0   0   0   0   0  -1   0   0  -1  \n",
      " 0  -1   0   0   0   0   0   0   0  -1   0  -1  \n",
      " 0   0   0   0   0   0  -1   0   0  -1   0   0  \n",
      " 0   0   0   0   0   0   0  -1  -1   0   0   0  \n",
      " 0   0  -1  -1   0   0   0   0   0   0   0  -1  \n",
      " 0   0   0   0   0   0  -1  -1   0   0  -1   0  \n"
     ]
    }
   ],
   "source": [
    "#select Acenaphthalene\n",
    "mol, rdkit_mol = select_molecule('Acenaphthalene')\n",
    "\n",
    "#get huckel matrix\n",
    "huckel_matrix = mol['conmat']\n",
    "\n",
    "#draw molecule from rdkit mol object\n",
    "display(SVG(Chem.Draw.MolsToGridImage([rdkit_mol], useSVG=True, legends=['Acenaphthalene'], subImgSize=(200,200))))\n",
    "\n",
    "#print huckel matrix\n",
    "matprint(huckel_matrix)"
   ]
  },
  {
   "cell_type": "code",
   "execution_count": 29,
   "metadata": {
    "collapsed": true
   },
   "outputs": [],
   "source": [
    "#initialise huckel solver\n",
    "solver = shmo.HuckelSolver(data=huckel_matrix)"
   ]
  },
  {
   "cell_type": "markdown",
   "metadata": {},
   "source": [
    "Now that the Huckel solver is initialised, we can calculate a lot of different properties.\n",
    "If you want to find out about all the different properties you can calculate, try the following:\n",
    "\n",
    "Use the next code cell to type:\n",
    "```\n",
    "solver.\n",
    "```\n",
    "\n",
    "\n",
    "and then press the tab key. This will give you a drop-down list of all possible functions you can access with\n",
    "\n",
    "```\n",
    "solver.<functionname>\n",
    "```\n",
    "\n",
    "As usual, placing a question mark behind the function, will tell you what it does."
   ]
  },
  {
   "cell_type": "code",
   "execution_count": 30,
   "metadata": {
    "collapsed": true
   },
   "outputs": [],
   "source": [
    "solver.energies?"
   ]
  },
  {
   "cell_type": "code",
   "execution_count": 31,
   "metadata": {},
   "outputs": [
    {
     "name": "stdout",
     "output_type": "stream",
     "text": [
      "[-2.47083742 -1.68776669 -1.68250707 -1.         -0.83083003 -0.63751679\n",
      "  0.28462968  1.          1.30972147  1.43184618  1.91898595  2.36427472]\n"
     ]
    },
    {
     "data": {
      "image/png": "[encoded data removed]",
      "text/plain": [
       "<matplotlib.figure.Figure at 0x2d681fb69e8>"
      ]
     },
     "metadata": {},
     "output_type": "display_data"
    }
   ],
   "source": [
    "#eigenenergies\n",
    "print(solver.energies)\n",
    "\n",
    "#energy level diagram for benzene\n",
    "plt.plot(np.zeros(len(solver.energies)), solver.energies,lw=0.0,marker='_',ms=25,mew=3)\n",
    "plt.xlim(-2,2)\n",
    "plt.ylabel('energies')\n",
    "plt.show()"
   ]
  },
  {
   "cell_type": "code",
   "execution_count": 32,
   "metadata": {},
   "outputs": [
    {
     "name": "stdout",
     "output_type": "stream",
     "text": [
      " 0.224325   0.224325      0.216736      0.216736    0.178507    0.178507      0.375764     0.375764      0.255476      0.255476      0.357014       0.44865  \n",
      "0.0197581  0.0197581     -0.391395     -0.391395   -0.220194   -0.220194      0.253541     0.253541      0.368645      0.368645     -0.440389     0.0395162  \n",
      "-0.422061   0.422061      -0.23053       0.23053   -0.387868    0.387868     -0.322253     0.322253     -0.120131      0.120131   -9.4473e-15   1.11716e-15  \n",
      " 0.408248   0.408248  -3.88578e-16  -8.32667e-16    0.408248    0.408248  -1.11022e-16  7.77156e-16  -1.41553e-15  -9.02056e-16     -0.408248     -0.408248  \n",
      "-0.120131   0.120131      0.387868     -0.387868    0.322253   -0.322253     -0.422061     0.422061      -0.23053       0.23053   4.44089e-16   4.30211e-16  \n",
      " 0.210933   0.210933     -0.243987     -0.243987  -0.0518486  -0.0518486      0.186322     0.186322     -0.514015     -0.514015     -0.103697      0.421866  \n",
      "-0.387868   0.387868      0.422061     -0.422061   -0.120131    0.120131       0.23053     -0.23053      0.322253     -0.322253   1.04083e-16  -4.25007e-17  \n",
      " 0.408248   0.408248  -1.11022e-16     4.996e-16   -0.408248   -0.408248  -1.66533e-16  3.05311e-16   1.11022e-16  -4.51028e-16      0.408248     -0.408248  \n",
      " -0.23053    0.23053     -0.322253      0.322253    0.422061   -0.422061     -0.120131     0.120131      0.387868     -0.387868  -1.05471e-15  -2.22045e-16  \n",
      " 0.129327   0.129327      -0.40848      -0.40848     0.19496     0.19496     -0.380137    -0.380137      0.156316      0.156316      0.389921      0.258654  \n",
      " 0.322253  -0.322253      0.120131     -0.120131    -0.23053     0.23053     -0.387868     0.387868      0.422061     -0.422061  -4.11129e-16   1.64799e-16  \n",
      " 0.233958   0.233958      0.271016      0.271016   -0.213585   -0.213585     -0.339556    -0.339556       0.10093       0.10093      -0.42717      0.467916  \n"
     ]
    }
   ],
   "source": [
    "#eigenvectors\n",
    "eigenvecs = solver.eigen_vectors\n",
    "matprint(np.array(eigenvecs))"
   ]
  },
  {
   "cell_type": "markdown",
   "metadata": {
    "slideshow": {
     "slide_type": "slide"
    }
   },
   "source": [
    "For molecules fo this size, there is no way we can visually inspect the coefficients and understand the molecular orbitals. Below, you will find a function that allows you to visualise the orbitals."
   ]
  },
  {
   "cell_type": "code",
   "execution_count": 33,
   "metadata": {},
   "outputs": [
    {
     "data": {
      "application/vnd.jupyter.widget-view+json": {
       "model_id": "6d1bb9dc223144f89abfba66d68ae0a0",
       "version_major": 2,
       "version_minor": 0
      },
      "text/plain": [
       "A Jupyter Widget"
      ]
     },
     "metadata": {},
     "output_type": "display_data"
    }
   ],
   "source": [
    "%matplotlib inline \n",
    "from ipywidgets import interact, interactive, fixed, interact_manual\n",
    "from PAH_data import draw_MO\n",
    "\n",
    "interactive(draw_MO, mol=fixed(rdkit_mol), eigenvecs=fixed(eigenvecs), n=range(len(eigenvecs)))\n"
   ]
  },
  {
   "cell_type": "code",
   "execution_count": 34,
   "metadata": {},
   "outputs": [
    {
     "name": "stdout",
     "output_type": "stream",
     "text": [
      "[-0.9088772  -0.9088772  -0.92656079 -0.92656079 -1.00798783 -1.00798783\n",
      " -1.04435983 -1.04435983 -1.06590794 -1.06590794 -0.99764181 -1.09497102]\n"
     ]
    },
    {
     "data": {
      "image/svg+xml": [
       "<svg baseProfile=\"full\" height=\"200px\" version=\"1.1\" width=\"400px\" xml:space=\"preserve\" xmlns=\"http://www.w3.org/2000/svg\" xmlns:rdkit=\"http://www.rdkit.org/xml\" xmlns:xlink=\"http://www.w3.org/1999/xlink\">\n",
       "<rect height=\"200\" style=\"opacity:1.0;fill:#FFFFFF;stroke:none\" width=\"400\" x=\"0\" y=\"0\"> </rect>\n",
       "<ellipse cx=\"300.66\" cy=\"102.746\" rx=\"38.8185\" ry=\"38.8185\" style=\"fill:#0000FF;fill-rule:evenodd;stroke:#0000FF;stroke-width:1px;stroke-linecap:butt;stroke-linejoin:miter;stroke-opacity:1\"/>\n",
       "<ellipse cx=\"99.3401\" cy=\"102.746\" rx=\"38.8185\" ry=\"38.8185\" style=\"fill:#0000FF;fill-rule:evenodd;stroke:#0000FF;stroke-width:1px;stroke-linecap:butt;stroke-linejoin:miter;stroke-opacity:1\"/>\n",
       "<ellipse cx=\"253.016\" cy=\"9.09091\" rx=\"39.5738\" ry=\"39.5738\" style=\"fill:#0000FF;fill-rule:evenodd;stroke:#0000FF;stroke-width:1px;stroke-linecap:butt;stroke-linejoin:miter;stroke-opacity:1\"/>\n",
       "<ellipse cx=\"146.984\" cy=\"9.09091\" rx=\"39.5738\" ry=\"39.5738\" style=\"fill:#0000FF;fill-rule:evenodd;stroke:#0000FF;stroke-width:1px;stroke-linecap:butt;stroke-linejoin:miter;stroke-opacity:1\"/>\n",
       "<ellipse cx=\"302.185\" cy=\"43.1354\" rx=\"43.0516\" ry=\"43.0516\" style=\"fill:#0000FF;fill-rule:evenodd;stroke:#0000FF;stroke-width:1px;stroke-linecap:butt;stroke-linejoin:miter;stroke-opacity:1\"/>\n",
       "<ellipse cx=\"97.8154\" cy=\"43.1354\" rx=\"43.0516\" ry=\"43.0516\" style=\"fill:#0000FF;fill-rule:evenodd;stroke:#0000FF;stroke-width:1px;stroke-linecap:butt;stroke-linejoin:miter;stroke-opacity:1\"/>\n",
       "<ellipse cx=\"248.587\" cy=\"131.499\" rx=\"44.605\" ry=\"44.605\" style=\"fill:#0000FF;fill-rule:evenodd;stroke:#0000FF;stroke-width:1px;stroke-linecap:butt;stroke-linejoin:miter;stroke-opacity:1\"/>\n",
       "<ellipse cx=\"151.413\" cy=\"131.499\" rx=\"44.605\" ry=\"44.605\" style=\"fill:#0000FF;fill-rule:evenodd;stroke:#0000FF;stroke-width:1px;stroke-linecap:butt;stroke-linejoin:miter;stroke-opacity:1\"/>\n",
       "<ellipse cx=\"228.377\" cy=\"190.909\" rx=\"45.5254\" ry=\"45.5254\" style=\"fill:#0000FF;fill-rule:evenodd;stroke:#0000FF;stroke-width:1px;stroke-linecap:butt;stroke-linejoin:miter;stroke-opacity:1\"/>\n",
       "<ellipse cx=\"171.623\" cy=\"190.909\" rx=\"45.5254\" ry=\"45.5254\" style=\"fill:#0000FF;fill-rule:evenodd;stroke:#0000FF;stroke-width:1px;stroke-linecap:butt;stroke-linejoin:miter;stroke-opacity:1\"/>\n",
       "<ellipse cx=\"200\" cy=\"36.0155\" rx=\"42.6097\" ry=\"42.6097\" style=\"fill:#0000FF;fill-rule:evenodd;stroke:#0000FF;stroke-width:1px;stroke-linecap:butt;stroke-linejoin:miter;stroke-opacity:1\"/>\n",
       "<ellipse cx=\"200\" cy=\"98.266\" rx=\"46.7667\" ry=\"46.7667\" style=\"fill:#0000FF;fill-rule:evenodd;stroke:#0000FF;stroke-width:1px;stroke-linecap:butt;stroke-linejoin:miter;stroke-opacity:1\"/>\n",
       "<path d=\"M 300.66,102.746 248.587,131.499\" style=\"fill:none;fill-rule:evenodd;stroke:#000000;stroke-width:2px;stroke-linecap:butt;stroke-linejoin:miter;stroke-opacity:1\"/>\n",
       "<path d=\"M 286.655,95.8424 250.205,115.969\" style=\"fill:none;fill-rule:evenodd;stroke:#000000;stroke-width:2px;stroke-linecap:butt;stroke-linejoin:miter;stroke-opacity:1;stroke-dasharray:6,6\"/>\n",
       "<path d=\"M 300.66,102.746 302.185,43.1354\" style=\"fill:none;fill-rule:evenodd;stroke:#000000;stroke-width:2px;stroke-linecap:butt;stroke-linejoin:miter;stroke-opacity:1\"/>\n",
       "<path d=\"M 288.08,93.477 289.147,51.7494\" style=\"fill:none;fill-rule:evenodd;stroke:#000000;stroke-width:2px;stroke-linecap:butt;stroke-linejoin:miter;stroke-opacity:1;stroke-dasharray:6,6\"/>\n",
       "<path d=\"M 99.3401,102.746 151.413,131.499\" style=\"fill:none;fill-rule:evenodd;stroke:#000000;stroke-width:2px;stroke-linecap:butt;stroke-linejoin:miter;stroke-opacity:1\"/>\n",
       "<path d=\"M 113.345,95.8424 149.795,115.969\" style=\"fill:none;fill-rule:evenodd;stroke:#000000;stroke-width:2px;stroke-linecap:butt;stroke-linejoin:miter;stroke-opacity:1;stroke-dasharray:6,6\"/>\n",
       "<path d=\"M 99.3401,102.746 97.8154,43.1354\" style=\"fill:none;fill-rule:evenodd;stroke:#000000;stroke-width:2px;stroke-linecap:butt;stroke-linejoin:miter;stroke-opacity:1\"/>\n",
       "<path d=\"M 111.92,93.477 110.853,51.7494\" style=\"fill:none;fill-rule:evenodd;stroke:#000000;stroke-width:2px;stroke-linecap:butt;stroke-linejoin:miter;stroke-opacity:1;stroke-dasharray:6,6\"/>\n",
       "<path d=\"M 253.016,9.09091 200,36.0155\" style=\"fill:none;fill-rule:evenodd;stroke:#000000;stroke-width:2px;stroke-linecap:butt;stroke-linejoin:miter;stroke-opacity:1\"/>\n",
       "<path d=\"M 250.866,24.5539 213.754,43.4011\" style=\"fill:none;fill-rule:evenodd;stroke:#000000;stroke-width:2px;stroke-linecap:butt;stroke-linejoin:miter;stroke-opacity:1;stroke-dasharray:6,6\"/>\n",
       "<path d=\"M 253.016,9.09091 302.185,43.1354\" style=\"fill:none;fill-rule:evenodd;stroke:#000000;stroke-width:2px;stroke-linecap:butt;stroke-linejoin:miter;stroke-opacity:1\"/>\n",
       "<path d=\"M 253.098,24.7319 287.515,48.5631\" style=\"fill:none;fill-rule:evenodd;stroke:#000000;stroke-width:2px;stroke-linecap:butt;stroke-linejoin:miter;stroke-opacity:1;stroke-dasharray:6,6\"/>\n",
       "<path d=\"M 146.984,9.09091 200,36.0155\" style=\"fill:none;fill-rule:evenodd;stroke:#000000;stroke-width:2px;stroke-linecap:butt;stroke-linejoin:miter;stroke-opacity:1\"/>\n",
       "<path d=\"M 149.134,24.5539 186.246,43.4011\" style=\"fill:none;fill-rule:evenodd;stroke:#000000;stroke-width:2px;stroke-linecap:butt;stroke-linejoin:miter;stroke-opacity:1;stroke-dasharray:6,6\"/>\n",
       "<path d=\"M 146.984,9.09091 97.8154,43.1354\" style=\"fill:none;fill-rule:evenodd;stroke:#000000;stroke-width:2px;stroke-linecap:butt;stroke-linejoin:miter;stroke-opacity:1\"/>\n",
       "<path d=\"M 146.902,24.7319 112.485,48.5631\" style=\"fill:none;fill-rule:evenodd;stroke:#000000;stroke-width:2px;stroke-linecap:butt;stroke-linejoin:miter;stroke-opacity:1;stroke-dasharray:6,6\"/>\n",
       "<path d=\"M 248.587,131.499 200,98.266\" style=\"fill:none;fill-rule:evenodd;stroke:#000000;stroke-width:2px;stroke-linecap:butt;stroke-linejoin:miter;stroke-opacity:1\"/>\n",
       "<path d=\"M 234.066,137.09 200.054,113.827\" style=\"fill:none;fill-rule:evenodd;stroke:#000000;stroke-width:2px;stroke-linecap:butt;stroke-linejoin:miter;stroke-opacity:1;stroke-dasharray:6,6\"/>\n",
       "<path d=\"M 248.587,131.499 228.377,190.909\" style=\"fill:none;fill-rule:evenodd;stroke:#000000;stroke-width:2px;stroke-linecap:butt;stroke-linejoin:miter;stroke-opacity:1\"/>\n",
       "<path d=\"M 151.413,131.499 200,98.266\" style=\"fill:none;fill-rule:evenodd;stroke:#000000;stroke-width:2px;stroke-linecap:butt;stroke-linejoin:miter;stroke-opacity:1\"/>\n",
       "<path d=\"M 165.934,137.09 199.946,113.827\" style=\"fill:none;fill-rule:evenodd;stroke:#000000;stroke-width:2px;stroke-linecap:butt;stroke-linejoin:miter;stroke-opacity:1;stroke-dasharray:6,6\"/>\n",
       "<path d=\"M 151.413,131.499 171.623,190.909\" style=\"fill:none;fill-rule:evenodd;stroke:#000000;stroke-width:2px;stroke-linecap:butt;stroke-linejoin:miter;stroke-opacity:1\"/>\n",
       "<path d=\"M 228.377,190.909 171.623,190.909\" style=\"fill:none;fill-rule:evenodd;stroke:#000000;stroke-width:2px;stroke-linecap:butt;stroke-linejoin:miter;stroke-opacity:1\"/>\n",
       "<path d=\"M 219.864,178.096 180.136,178.096\" style=\"fill:none;fill-rule:evenodd;stroke:#000000;stroke-width:2px;stroke-linecap:butt;stroke-linejoin:miter;stroke-opacity:1\"/>\n",
       "<path d=\"M 200,36.0155 200,98.266\" style=\"fill:none;fill-rule:evenodd;stroke:#000000;stroke-width:2px;stroke-linecap:butt;stroke-linejoin:miter;stroke-opacity:1\"/>\n",
       "<path d=\"M 212.813,45.3531 212.813,88.9284\" style=\"fill:none;fill-rule:evenodd;stroke:#000000;stroke-width:2px;stroke-linecap:butt;stroke-linejoin:miter;stroke-opacity:1;stroke-dasharray:6,6\"/>\n",
       "</svg>"
      ],
      "text/plain": [
       "<IPython.core.display.SVG object>"
      ]
     },
     "metadata": {},
     "output_type": "display_data"
    }
   ],
   "source": [
    "#charge populations\n",
    "print(solver.charge_densities)\n",
    "draw_MO(rdkit_mol, solver.charge_densities)"
   ]
  },
  {
   "cell_type": "code",
   "execution_count": 35,
   "metadata": {},
   "outputs": [
    {
     "name": "stdout",
     "output_type": "stream",
     "text": [
      "[ 0.0911228   0.0911228   0.07343921  0.07343921 -0.00798783 -0.00798783\n",
      " -0.04435983 -0.04435983 -0.06590794 -0.06590794  0.00235819 -0.09497102]\n"
     ]
    },
    {
     "data": {
      "image/svg+xml": [
       "<svg baseProfile=\"full\" height=\"200px\" version=\"1.1\" width=\"400px\" xml:space=\"preserve\" xmlns=\"http://www.w3.org/2000/svg\" xmlns:rdkit=\"http://www.rdkit.org/xml\" xmlns:xlink=\"http://www.w3.org/1999/xlink\">\n",
       "<rect height=\"200\" style=\"opacity:1.0;fill:#FFFFFF;stroke:none\" width=\"400\" x=\"0\" y=\"0\"> </rect>\n",
       "<ellipse cx=\"300.66\" cy=\"102.746\" rx=\"7.78378\" ry=\"7.78378\" style=\"fill:#FF0000;fill-rule:evenodd;stroke:#FF0000;stroke-width:1px;stroke-linecap:butt;stroke-linejoin:miter;stroke-opacity:1\"/>\n",
       "<ellipse cx=\"99.3401\" cy=\"102.746\" rx=\"7.78378\" ry=\"7.78378\" style=\"fill:#FF0000;fill-rule:evenodd;stroke:#FF0000;stroke-width:1px;stroke-linecap:butt;stroke-linejoin:miter;stroke-opacity:1\"/>\n",
       "<ellipse cx=\"253.016\" cy=\"9.09091\" rx=\"6.27324\" ry=\"6.27324\" style=\"fill:#FF0000;fill-rule:evenodd;stroke:#FF0000;stroke-width:1px;stroke-linecap:butt;stroke-linejoin:miter;stroke-opacity:1\"/>\n",
       "<ellipse cx=\"146.984\" cy=\"9.09091\" rx=\"6.27324\" ry=\"6.27324\" style=\"fill:#FF0000;fill-rule:evenodd;stroke:#FF0000;stroke-width:1px;stroke-linecap:butt;stroke-linejoin:miter;stroke-opacity:1\"/>\n",
       "<ellipse cx=\"302.185\" cy=\"43.1354\" rx=\"0.682327\" ry=\"0.682327\" style=\"fill:#0000FF;fill-rule:evenodd;stroke:#0000FF;stroke-width:1px;stroke-linecap:butt;stroke-linejoin:miter;stroke-opacity:1\"/>\n",
       "<ellipse cx=\"97.8154\" cy=\"43.1354\" rx=\"0.682327\" ry=\"0.682327\" style=\"fill:#0000FF;fill-rule:evenodd;stroke:#0000FF;stroke-width:1px;stroke-linecap:butt;stroke-linejoin:miter;stroke-opacity:1\"/>\n",
       "<ellipse cx=\"248.587\" cy=\"131.499\" rx=\"3.78925\" ry=\"3.78925\" style=\"fill:#0000FF;fill-rule:evenodd;stroke:#0000FF;stroke-width:1px;stroke-linecap:butt;stroke-linejoin:miter;stroke-opacity:1\"/>\n",
       "<ellipse cx=\"151.413\" cy=\"131.499\" rx=\"3.78925\" ry=\"3.78925\" style=\"fill:#0000FF;fill-rule:evenodd;stroke:#0000FF;stroke-width:1px;stroke-linecap:butt;stroke-linejoin:miter;stroke-opacity:1\"/>\n",
       "<ellipse cx=\"228.377\" cy=\"190.909\" rx=\"5.62991\" ry=\"5.62991\" style=\"fill:#0000FF;fill-rule:evenodd;stroke:#0000FF;stroke-width:1px;stroke-linecap:butt;stroke-linejoin:miter;stroke-opacity:1\"/>\n",
       "<ellipse cx=\"171.623\" cy=\"190.909\" rx=\"5.62991\" ry=\"5.62991\" style=\"fill:#0000FF;fill-rule:evenodd;stroke:#0000FF;stroke-width:1px;stroke-linecap:butt;stroke-linejoin:miter;stroke-opacity:1\"/>\n",
       "<ellipse cx=\"200\" cy=\"36.0155\" rx=\"0.201438\" ry=\"0.201438\" style=\"fill:#FF0000;fill-rule:evenodd;stroke:#FF0000;stroke-width:1px;stroke-linecap:butt;stroke-linejoin:miter;stroke-opacity:1\"/>\n",
       "<ellipse cx=\"200\" cy=\"98.266\" rx=\"8.1125\" ry=\"8.1125\" style=\"fill:#0000FF;fill-rule:evenodd;stroke:#0000FF;stroke-width:1px;stroke-linecap:butt;stroke-linejoin:miter;stroke-opacity:1\"/>\n",
       "<path d=\"M 300.66,102.746 248.587,131.499\" style=\"fill:none;fill-rule:evenodd;stroke:#000000;stroke-width:2px;stroke-linecap:butt;stroke-linejoin:miter;stroke-opacity:1\"/>\n",
       "<path d=\"M 286.655,95.8424 250.205,115.969\" style=\"fill:none;fill-rule:evenodd;stroke:#000000;stroke-width:2px;stroke-linecap:butt;stroke-linejoin:miter;stroke-opacity:1;stroke-dasharray:6,6\"/>\n",
       "<path d=\"M 300.66,102.746 302.185,43.1354\" style=\"fill:none;fill-rule:evenodd;stroke:#000000;stroke-width:2px;stroke-linecap:butt;stroke-linejoin:miter;stroke-opacity:1\"/>\n",
       "<path d=\"M 288.08,93.477 289.147,51.7494\" style=\"fill:none;fill-rule:evenodd;stroke:#000000;stroke-width:2px;stroke-linecap:butt;stroke-linejoin:miter;stroke-opacity:1;stroke-dasharray:6,6\"/>\n",
       "<path d=\"M 99.3401,102.746 151.413,131.499\" style=\"fill:none;fill-rule:evenodd;stroke:#000000;stroke-width:2px;stroke-linecap:butt;stroke-linejoin:miter;stroke-opacity:1\"/>\n",
       "<path d=\"M 113.345,95.8424 149.795,115.969\" style=\"fill:none;fill-rule:evenodd;stroke:#000000;stroke-width:2px;stroke-linecap:butt;stroke-linejoin:miter;stroke-opacity:1;stroke-dasharray:6,6\"/>\n",
       "<path d=\"M 99.3401,102.746 97.8154,43.1354\" style=\"fill:none;fill-rule:evenodd;stroke:#000000;stroke-width:2px;stroke-linecap:butt;stroke-linejoin:miter;stroke-opacity:1\"/>\n",
       "<path d=\"M 111.92,93.477 110.853,51.7494\" style=\"fill:none;fill-rule:evenodd;stroke:#000000;stroke-width:2px;stroke-linecap:butt;stroke-linejoin:miter;stroke-opacity:1;stroke-dasharray:6,6\"/>\n",
       "<path d=\"M 253.016,9.09091 200,36.0155\" style=\"fill:none;fill-rule:evenodd;stroke:#000000;stroke-width:2px;stroke-linecap:butt;stroke-linejoin:miter;stroke-opacity:1\"/>\n",
       "<path d=\"M 250.866,24.5539 213.754,43.4011\" style=\"fill:none;fill-rule:evenodd;stroke:#000000;stroke-width:2px;stroke-linecap:butt;stroke-linejoin:miter;stroke-opacity:1;stroke-dasharray:6,6\"/>\n",
       "<path d=\"M 253.016,9.09091 302.185,43.1354\" style=\"fill:none;fill-rule:evenodd;stroke:#000000;stroke-width:2px;stroke-linecap:butt;stroke-linejoin:miter;stroke-opacity:1\"/>\n",
       "<path d=\"M 253.098,24.7319 287.515,48.5631\" style=\"fill:none;fill-rule:evenodd;stroke:#000000;stroke-width:2px;stroke-linecap:butt;stroke-linejoin:miter;stroke-opacity:1;stroke-dasharray:6,6\"/>\n",
       "<path d=\"M 146.984,9.09091 200,36.0155\" style=\"fill:none;fill-rule:evenodd;stroke:#000000;stroke-width:2px;stroke-linecap:butt;stroke-linejoin:miter;stroke-opacity:1\"/>\n",
       "<path d=\"M 149.134,24.5539 186.246,43.4011\" style=\"fill:none;fill-rule:evenodd;stroke:#000000;stroke-width:2px;stroke-linecap:butt;stroke-linejoin:miter;stroke-opacity:1;stroke-dasharray:6,6\"/>\n",
       "<path d=\"M 146.984,9.09091 97.8154,43.1354\" style=\"fill:none;fill-rule:evenodd;stroke:#000000;stroke-width:2px;stroke-linecap:butt;stroke-linejoin:miter;stroke-opacity:1\"/>\n",
       "<path d=\"M 146.902,24.7319 112.485,48.5631\" style=\"fill:none;fill-rule:evenodd;stroke:#000000;stroke-width:2px;stroke-linecap:butt;stroke-linejoin:miter;stroke-opacity:1;stroke-dasharray:6,6\"/>\n",
       "<path d=\"M 248.587,131.499 200,98.266\" style=\"fill:none;fill-rule:evenodd;stroke:#000000;stroke-width:2px;stroke-linecap:butt;stroke-linejoin:miter;stroke-opacity:1\"/>\n",
       "<path d=\"M 234.066,137.09 200.054,113.827\" style=\"fill:none;fill-rule:evenodd;stroke:#000000;stroke-width:2px;stroke-linecap:butt;stroke-linejoin:miter;stroke-opacity:1;stroke-dasharray:6,6\"/>\n",
       "<path d=\"M 248.587,131.499 228.377,190.909\" style=\"fill:none;fill-rule:evenodd;stroke:#000000;stroke-width:2px;stroke-linecap:butt;stroke-linejoin:miter;stroke-opacity:1\"/>\n",
       "<path d=\"M 151.413,131.499 200,98.266\" style=\"fill:none;fill-rule:evenodd;stroke:#000000;stroke-width:2px;stroke-linecap:butt;stroke-linejoin:miter;stroke-opacity:1\"/>\n",
       "<path d=\"M 165.934,137.09 199.946,113.827\" style=\"fill:none;fill-rule:evenodd;stroke:#000000;stroke-width:2px;stroke-linecap:butt;stroke-linejoin:miter;stroke-opacity:1;stroke-dasharray:6,6\"/>\n",
       "<path d=\"M 151.413,131.499 171.623,190.909\" style=\"fill:none;fill-rule:evenodd;stroke:#000000;stroke-width:2px;stroke-linecap:butt;stroke-linejoin:miter;stroke-opacity:1\"/>\n",
       "<path d=\"M 228.377,190.909 171.623,190.909\" style=\"fill:none;fill-rule:evenodd;stroke:#000000;stroke-width:2px;stroke-linecap:butt;stroke-linejoin:miter;stroke-opacity:1\"/>\n",
       "<path d=\"M 219.864,178.096 180.136,178.096\" style=\"fill:none;fill-rule:evenodd;stroke:#000000;stroke-width:2px;stroke-linecap:butt;stroke-linejoin:miter;stroke-opacity:1\"/>\n",
       "<path d=\"M 200,36.0155 200,98.266\" style=\"fill:none;fill-rule:evenodd;stroke:#000000;stroke-width:2px;stroke-linecap:butt;stroke-linejoin:miter;stroke-opacity:1\"/>\n",
       "<path d=\"M 212.813,45.3531 212.813,88.9284\" style=\"fill:none;fill-rule:evenodd;stroke:#000000;stroke-width:2px;stroke-linecap:butt;stroke-linejoin:miter;stroke-opacity:1;stroke-dasharray:6,6\"/>\n",
       "</svg>"
      ],
      "text/plain": [
       "<IPython.core.display.SVG object>"
      ]
     },
     "metadata": {},
     "output_type": "display_data"
    }
   ],
   "source": [
    "#net charges (charge populations - atomic charge)\n",
    "print(solver.net_charges)\n",
    "#The *2 is just to rescale the charges and make them more visible in the picture below\n",
    "draw_MO(rdkit_mol, solver.net_charges*2.)"
   ]
  },
  {
   "cell_type": "code",
   "execution_count": 36,
   "metadata": {},
   "outputs": [
    {
     "name": "stdout",
     "output_type": "stream",
     "text": [
      "[-0.44724084 -0.44724084 -0.46617458 -0.46617458 -0.39737396 -0.39737396\n",
      " -0.34777783 -0.34777783 -0.47263324 -0.47263324 -0.32797971 -0.3544591 ]\n"
     ]
    },
    {
     "data": {
      "image/svg+xml": [
       "<svg baseProfile=\"full\" height=\"200px\" version=\"1.1\" width=\"400px\" xml:space=\"preserve\" xmlns=\"http://www.w3.org/2000/svg\" xmlns:rdkit=\"http://www.rdkit.org/xml\" xmlns:xlink=\"http://www.w3.org/1999/xlink\">\n",
       "<rect height=\"200\" style=\"opacity:1.0;fill:#FFFFFF;stroke:none\" width=\"400\" x=\"0\" y=\"0\"> </rect>\n",
       "<ellipse cx=\"300.66\" cy=\"102.746\" rx=\"19.1018\" ry=\"19.1018\" style=\"fill:#0000FF;fill-rule:evenodd;stroke:#0000FF;stroke-width:1px;stroke-linecap:butt;stroke-linejoin:miter;stroke-opacity:1\"/>\n",
       "<ellipse cx=\"99.3401\" cy=\"102.746\" rx=\"19.1018\" ry=\"19.1018\" style=\"fill:#0000FF;fill-rule:evenodd;stroke:#0000FF;stroke-width:1px;stroke-linecap:butt;stroke-linejoin:miter;stroke-opacity:1\"/>\n",
       "<ellipse cx=\"253.016\" cy=\"9.09091\" rx=\"19.9105\" ry=\"19.9105\" style=\"fill:#0000FF;fill-rule:evenodd;stroke:#0000FF;stroke-width:1px;stroke-linecap:butt;stroke-linejoin:miter;stroke-opacity:1\"/>\n",
       "<ellipse cx=\"146.984\" cy=\"9.09091\" rx=\"19.9105\" ry=\"19.9105\" style=\"fill:#0000FF;fill-rule:evenodd;stroke:#0000FF;stroke-width:1px;stroke-linecap:butt;stroke-linejoin:miter;stroke-opacity:1\"/>\n",
       "<ellipse cx=\"302.185\" cy=\"43.1354\" rx=\"16.972\" ry=\"16.972\" style=\"fill:#0000FF;fill-rule:evenodd;stroke:#0000FF;stroke-width:1px;stroke-linecap:butt;stroke-linejoin:miter;stroke-opacity:1\"/>\n",
       "<ellipse cx=\"97.8154\" cy=\"43.1354\" rx=\"16.972\" ry=\"16.972\" style=\"fill:#0000FF;fill-rule:evenodd;stroke:#0000FF;stroke-width:1px;stroke-linecap:butt;stroke-linejoin:miter;stroke-opacity:1\"/>\n",
       "<ellipse cx=\"248.587\" cy=\"131.499\" rx=\"14.8537\" ry=\"14.8537\" style=\"fill:#0000FF;fill-rule:evenodd;stroke:#0000FF;stroke-width:1px;stroke-linecap:butt;stroke-linejoin:miter;stroke-opacity:1\"/>\n",
       "<ellipse cx=\"151.413\" cy=\"131.499\" rx=\"14.8537\" ry=\"14.8537\" style=\"fill:#0000FF;fill-rule:evenodd;stroke:#0000FF;stroke-width:1px;stroke-linecap:butt;stroke-linejoin:miter;stroke-opacity:1\"/>\n",
       "<ellipse cx=\"228.377\" cy=\"190.909\" rx=\"20.1864\" ry=\"20.1864\" style=\"fill:#0000FF;fill-rule:evenodd;stroke:#0000FF;stroke-width:1px;stroke-linecap:butt;stroke-linejoin:miter;stroke-opacity:1\"/>\n",
       "<ellipse cx=\"171.623\" cy=\"190.909\" rx=\"20.1864\" ry=\"20.1864\" style=\"fill:#0000FF;fill-rule:evenodd;stroke:#0000FF;stroke-width:1px;stroke-linecap:butt;stroke-linejoin:miter;stroke-opacity:1\"/>\n",
       "<ellipse cx=\"200\" cy=\"36.0155\" rx=\"14.0081\" ry=\"14.0081\" style=\"fill:#0000FF;fill-rule:evenodd;stroke:#0000FF;stroke-width:1px;stroke-linecap:butt;stroke-linejoin:miter;stroke-opacity:1\"/>\n",
       "<ellipse cx=\"200\" cy=\"98.266\" rx=\"15.1391\" ry=\"15.1391\" style=\"fill:#0000FF;fill-rule:evenodd;stroke:#0000FF;stroke-width:1px;stroke-linecap:butt;stroke-linejoin:miter;stroke-opacity:1\"/>\n",
       "<path d=\"M 300.66,102.746 248.587,131.499\" style=\"fill:none;fill-rule:evenodd;stroke:#000000;stroke-width:2px;stroke-linecap:butt;stroke-linejoin:miter;stroke-opacity:1\"/>\n",
       "<path d=\"M 286.655,95.8424 250.205,115.969\" style=\"fill:none;fill-rule:evenodd;stroke:#000000;stroke-width:2px;stroke-linecap:butt;stroke-linejoin:miter;stroke-opacity:1;stroke-dasharray:6,6\"/>\n",
       "<path d=\"M 300.66,102.746 302.185,43.1354\" style=\"fill:none;fill-rule:evenodd;stroke:#000000;stroke-width:2px;stroke-linecap:butt;stroke-linejoin:miter;stroke-opacity:1\"/>\n",
       "<path d=\"M 288.08,93.477 289.147,51.7494\" style=\"fill:none;fill-rule:evenodd;stroke:#000000;stroke-width:2px;stroke-linecap:butt;stroke-linejoin:miter;stroke-opacity:1;stroke-dasharray:6,6\"/>\n",
       "<path d=\"M 99.3401,102.746 151.413,131.499\" style=\"fill:none;fill-rule:evenodd;stroke:#000000;stroke-width:2px;stroke-linecap:butt;stroke-linejoin:miter;stroke-opacity:1\"/>\n",
       "<path d=\"M 113.345,95.8424 149.795,115.969\" style=\"fill:none;fill-rule:evenodd;stroke:#000000;stroke-width:2px;stroke-linecap:butt;stroke-linejoin:miter;stroke-opacity:1;stroke-dasharray:6,6\"/>\n",
       "<path d=\"M 99.3401,102.746 97.8154,43.1354\" style=\"fill:none;fill-rule:evenodd;stroke:#000000;stroke-width:2px;stroke-linecap:butt;stroke-linejoin:miter;stroke-opacity:1\"/>\n",
       "<path d=\"M 111.92,93.477 110.853,51.7494\" style=\"fill:none;fill-rule:evenodd;stroke:#000000;stroke-width:2px;stroke-linecap:butt;stroke-linejoin:miter;stroke-opacity:1;stroke-dasharray:6,6\"/>\n",
       "<path d=\"M 253.016,9.09091 200,36.0155\" style=\"fill:none;fill-rule:evenodd;stroke:#000000;stroke-width:2px;stroke-linecap:butt;stroke-linejoin:miter;stroke-opacity:1\"/>\n",
       "<path d=\"M 250.866,24.5539 213.754,43.4011\" style=\"fill:none;fill-rule:evenodd;stroke:#000000;stroke-width:2px;stroke-linecap:butt;stroke-linejoin:miter;stroke-opacity:1;stroke-dasharray:6,6\"/>\n",
       "<path d=\"M 253.016,9.09091 302.185,43.1354\" style=\"fill:none;fill-rule:evenodd;stroke:#000000;stroke-width:2px;stroke-linecap:butt;stroke-linejoin:miter;stroke-opacity:1\"/>\n",
       "<path d=\"M 253.098,24.7319 287.515,48.5631\" style=\"fill:none;fill-rule:evenodd;stroke:#000000;stroke-width:2px;stroke-linecap:butt;stroke-linejoin:miter;stroke-opacity:1;stroke-dasharray:6,6\"/>\n",
       "<path d=\"M 146.984,9.09091 200,36.0155\" style=\"fill:none;fill-rule:evenodd;stroke:#000000;stroke-width:2px;stroke-linecap:butt;stroke-linejoin:miter;stroke-opacity:1\"/>\n",
       "<path d=\"M 149.134,24.5539 186.246,43.4011\" style=\"fill:none;fill-rule:evenodd;stroke:#000000;stroke-width:2px;stroke-linecap:butt;stroke-linejoin:miter;stroke-opacity:1;stroke-dasharray:6,6\"/>\n",
       "<path d=\"M 146.984,9.09091 97.8154,43.1354\" style=\"fill:none;fill-rule:evenodd;stroke:#000000;stroke-width:2px;stroke-linecap:butt;stroke-linejoin:miter;stroke-opacity:1\"/>\n",
       "<path d=\"M 146.902,24.7319 112.485,48.5631\" style=\"fill:none;fill-rule:evenodd;stroke:#000000;stroke-width:2px;stroke-linecap:butt;stroke-linejoin:miter;stroke-opacity:1;stroke-dasharray:6,6\"/>\n",
       "<path d=\"M 248.587,131.499 200,98.266\" style=\"fill:none;fill-rule:evenodd;stroke:#000000;stroke-width:2px;stroke-linecap:butt;stroke-linejoin:miter;stroke-opacity:1\"/>\n",
       "<path d=\"M 234.066,137.09 200.054,113.827\" style=\"fill:none;fill-rule:evenodd;stroke:#000000;stroke-width:2px;stroke-linecap:butt;stroke-linejoin:miter;stroke-opacity:1;stroke-dasharray:6,6\"/>\n",
       "<path d=\"M 248.587,131.499 228.377,190.909\" style=\"fill:none;fill-rule:evenodd;stroke:#000000;stroke-width:2px;stroke-linecap:butt;stroke-linejoin:miter;stroke-opacity:1\"/>\n",
       "<path d=\"M 151.413,131.499 200,98.266\" style=\"fill:none;fill-rule:evenodd;stroke:#000000;stroke-width:2px;stroke-linecap:butt;stroke-linejoin:miter;stroke-opacity:1\"/>\n",
       "<path d=\"M 165.934,137.09 199.946,113.827\" style=\"fill:none;fill-rule:evenodd;stroke:#000000;stroke-width:2px;stroke-linecap:butt;stroke-linejoin:miter;stroke-opacity:1;stroke-dasharray:6,6\"/>\n",
       "<path d=\"M 151.413,131.499 171.623,190.909\" style=\"fill:none;fill-rule:evenodd;stroke:#000000;stroke-width:2px;stroke-linecap:butt;stroke-linejoin:miter;stroke-opacity:1\"/>\n",
       "<path d=\"M 228.377,190.909 171.623,190.909\" style=\"fill:none;fill-rule:evenodd;stroke:#000000;stroke-width:2px;stroke-linecap:butt;stroke-linejoin:miter;stroke-opacity:1\"/>\n",
       "<path d=\"M 219.864,178.096 180.136,178.096\" style=\"fill:none;fill-rule:evenodd;stroke:#000000;stroke-width:2px;stroke-linecap:butt;stroke-linejoin:miter;stroke-opacity:1\"/>\n",
       "<path d=\"M 200,36.0155 200,98.266\" style=\"fill:none;fill-rule:evenodd;stroke:#000000;stroke-width:2px;stroke-linecap:butt;stroke-linejoin:miter;stroke-opacity:1\"/>\n",
       "<path d=\"M 212.813,45.3531 212.813,88.9284\" style=\"fill:none;fill-rule:evenodd;stroke:#000000;stroke-width:2px;stroke-linecap:butt;stroke-linejoin:miter;stroke-opacity:1;stroke-dasharray:6,6\"/>\n",
       "</svg>"
      ],
      "text/plain": [
       "<IPython.core.display.SVG object>"
      ]
     },
     "metadata": {},
     "output_type": "display_data"
    }
   ],
   "source": [
    "#atomic self-polarisabilities\n",
    "self_polarisabilities = np.diag(solver.aa_polar)\n",
    "print(self_polarisabilities)\n",
    "draw_MO(rdkit_mol, self_polarisabilities)"
   ]
  },
  {
   "cell_type": "markdown",
   "metadata": {},
   "source": [
    "We can also calculate the **total energy** and the **bond order**:"
   ]
  },
  {
   "cell_type": "code",
   "execution_count": 37,
   "metadata": {},
   "outputs": [
    {
     "name": "stdout",
     "output_type": "stream",
     "text": [
      "neutral molecule\n",
      "-16.6189159718\n",
      "cation\n",
      "-15.9813991821\n",
      "anion\n",
      "-16.3342862953\n"
     ]
    }
   ],
   "source": [
    "#total energy\n",
    "def calculate_total_energy(solver):\n",
    "    \"\"\"\n",
    "    This function calculates the total energy\n",
    "    \"\"\"\n",
    "    total_energy = 0.0\n",
    "    for state in solver.populated_levels:\n",
    "        eigenenergy = state[0]\n",
    "        electron_occupation = state[2]\n",
    "        total_energy += eigenenergy * electron_occupation\n",
    "    return total_energy\n",
    "\n",
    "#neutral molecule energy\n",
    "print('neutral molecule')\n",
    "solver.set_num_electrons(12)\n",
    "print(calculate_total_energy(solver))\n",
    "\n",
    "#make cation\n",
    "print('cation')\n",
    "solver.set_num_electrons(solver.num_electrons-1)\n",
    "print(calculate_total_energy(solver))\n",
    "\n",
    "#make anion\n",
    "print('anion')\n",
    "solver.set_num_electrons(solver.num_electrons+2)\n",
    "print(calculate_total_energy(solver))\n",
    "\n",
    "solver.set_num_electrons(12)"
   ]
  },
  {
   "cell_type": "code",
   "execution_count": 38,
   "metadata": {},
   "outputs": [
    {
     "name": "stdout",
     "output_type": "stream",
     "text": [
      "atom i    atom j    bond order\n",
      "    1        5      0.632829\n",
      "    1        7      0.630634\n",
      "    2        6      0.632829\n",
      "    2        8      0.630634\n",
      "    3        5      0.703859\n",
      "    3       11      0.550089\n",
      "    4        6      0.703859\n",
      "    4       11      0.550089\n",
      "    7        9      0.459407\n",
      "    7       12      0.514416\n",
      "    8       10      0.459407\n",
      "    8       12      0.514416\n",
      "    9       10      0.795606\n",
      "   11       12      0.531384\n"
     ]
    }
   ],
   "source": [
    "def print_bond_orders(mat, solver):\n",
    "    \"\"\"\n",
    "    print bond orders to screen\n",
    "    \"\"\"\n",
    "\n",
    "    bond_orders=np.multiply(-mat,solver.bond_orders)\n",
    "\n",
    "    print('atom i    atom j    bond order')\n",
    "    atom_pairs = []\n",
    "    borders = []\n",
    "    for pair in solver.bond_pairs():\n",
    "        i, j = pair\n",
    "        print(\"  {0:3d}      {1:3d}      {2:8f}\".format(i+1, j+1, bond_orders[i,j]))\n",
    "        atom_pairs.append([i+1,j+1])\n",
    "        borders.append(bond_orders[i,j])\n",
    "\n",
    "    return atom_pairs, borders\n",
    "        \n",
    "atom_pairs, bond_orders = print_bond_orders(huckel_matrix, solver)"
   ]
  },
  {
   "cell_type": "markdown",
   "metadata": {},
   "source": [
    "<div class=warn>\n",
    "\n",
    "<b> Task 3</b><br>\n",
    "\n",
    "<ul>\n",
    "<li> Write a function that calculates the bond number based on the bond orders</li>\n",
    "\n",
    "</ul>\n",
    "\n",
    "</div>\n",
    "\n"
   ]
  },
  {
   "cell_type": "code",
   "execution_count": 39,
   "metadata": {},
   "outputs": [
    {
     "name": "stdout",
     "output_type": "stream",
     "text": [
      "index 0 | atom 1 in pair 1-5\n",
      "index 1 | atom 1 in pair 1-7\n",
      "----------------------------\n",
      "atom 1: bond number: 1.26\n",
      "\n",
      "index 2 | atom 2 in pair 2-6\n",
      "index 3 | atom 2 in pair 2-8\n",
      "----------------------------\n",
      "atom 2: bond number: 1.26\n",
      "\n",
      "index 4 | atom 3 in pair 3-5\n",
      "index 5 | atom 3 in pair 3-11\n",
      "----------------------------\n",
      "atom 3: bond number: 1.25\n",
      "\n",
      "index 6 | atom 4 in pair 4-6\n",
      "index 7 | atom 4 in pair 4-11\n",
      "----------------------------\n",
      "atom 4: bond number: 1.25\n",
      "\n",
      "index 0 | atom 5 in pair 1-5\n",
      "index 4 | atom 5 in pair 3-5\n",
      "----------------------------\n",
      "atom 5: bond number: 1.34\n",
      "\n",
      "index 2 | atom 6 in pair 2-6\n",
      "index 6 | atom 6 in pair 4-6\n",
      "----------------------------\n",
      "atom 6: bond number: 1.34\n",
      "\n",
      "index 1 | atom 7 in pair 1-7\n",
      "index 8 | atom 7 in pair 7-9\n",
      "index 9 | atom 7 in pair 7-12\n",
      "----------------------------\n",
      "atom 7: bond number: 1.60\n",
      "\n",
      "index 3 | atom 8 in pair 2-8\n",
      "index 10 | atom 8 in pair 8-10\n",
      "index 11 | atom 8 in pair 8-12\n",
      "----------------------------\n",
      "atom 8: bond number: 1.60\n",
      "\n",
      "index 8 | atom 9 in pair 7-9\n",
      "index 12 | atom 9 in pair 9-10\n",
      "----------------------------\n",
      "atom 9: bond number: 1.26\n",
      "\n",
      "index 10 | atom 10 in pair 8-10\n",
      "index 12 | atom 10 in pair 9-10\n",
      "----------------------------\n",
      "atom 10: bond number: 1.26\n",
      "\n",
      "index 5 | atom 11 in pair 3-11\n",
      "index 7 | atom 11 in pair 4-11\n",
      "index 13 | atom 11 in pair 11-12\n",
      "----------------------------\n",
      "atom 11: bond number: 1.63\n",
      "\n",
      "index 9 | atom 12 in pair 7-12\n",
      "index 11 | atom 12 in pair 8-12\n",
      "index 13 | atom 12 in pair 11-12\n",
      "----------------------------\n",
      "atom 12: bond number: 1.56\n",
      "\n"
     ]
    },
    {
     "data": {
      "image/svg+xml": [
       "<svg baseProfile=\"full\" height=\"200px\" version=\"1.1\" width=\"400px\" xml:space=\"preserve\" xmlns=\"http://www.w3.org/2000/svg\" xmlns:rdkit=\"http://www.rdkit.org/xml\" xmlns:xlink=\"http://www.w3.org/1999/xlink\">\n",
       "<rect height=\"200\" style=\"opacity:1.0;fill:#FFFFFF;stroke:none\" width=\"400\" x=\"0\" y=\"0\"> </rect>\n",
       "<ellipse cx=\"300.66\" cy=\"102.746\" rx=\"4.49692\" ry=\"4.49692\" style=\"fill:#FF0000;fill-rule:evenodd;stroke:#FF0000;stroke-width:1px;stroke-linecap:butt;stroke-linejoin:miter;stroke-opacity:1\"/>\n",
       "<ellipse cx=\"99.3401\" cy=\"102.746\" rx=\"4.49692\" ry=\"4.49692\" style=\"fill:#FF0000;fill-rule:evenodd;stroke:#FF0000;stroke-width:1px;stroke-linecap:butt;stroke-linejoin:miter;stroke-opacity:1\"/>\n",
       "<ellipse cx=\"253.016\" cy=\"9.09091\" rx=\"4.46305\" ry=\"4.46305\" style=\"fill:#FF0000;fill-rule:evenodd;stroke:#FF0000;stroke-width:1px;stroke-linecap:butt;stroke-linejoin:miter;stroke-opacity:1\"/>\n",
       "<ellipse cx=\"146.984\" cy=\"9.09091\" rx=\"4.46305\" ry=\"4.46305\" style=\"fill:#FF0000;fill-rule:evenodd;stroke:#FF0000;stroke-width:1px;stroke-linecap:butt;stroke-linejoin:miter;stroke-opacity:1\"/>\n",
       "<ellipse cx=\"302.185\" cy=\"43.1354\" rx=\"4.75754\" ry=\"4.75754\" style=\"fill:#FF0000;fill-rule:evenodd;stroke:#FF0000;stroke-width:1px;stroke-linecap:butt;stroke-linejoin:miter;stroke-opacity:1\"/>\n",
       "<ellipse cx=\"97.8154\" cy=\"43.1354\" rx=\"4.75754\" ry=\"4.75754\" style=\"fill:#FF0000;fill-rule:evenodd;stroke:#FF0000;stroke-width:1px;stroke-linecap:butt;stroke-linejoin:miter;stroke-opacity:1\"/>\n",
       "<ellipse cx=\"248.587\" cy=\"131.499\" rx=\"5.71058\" ry=\"5.71058\" style=\"fill:#FF0000;fill-rule:evenodd;stroke:#FF0000;stroke-width:1px;stroke-linecap:butt;stroke-linejoin:miter;stroke-opacity:1\"/>\n",
       "<ellipse cx=\"151.413\" cy=\"131.499\" rx=\"5.71058\" ry=\"5.71058\" style=\"fill:#FF0000;fill-rule:evenodd;stroke:#FF0000;stroke-width:1px;stroke-linecap:butt;stroke-linejoin:miter;stroke-opacity:1\"/>\n",
       "<ellipse cx=\"228.377\" cy=\"190.909\" rx=\"4.46684\" ry=\"4.46684\" style=\"fill:#FF0000;fill-rule:evenodd;stroke:#FF0000;stroke-width:1px;stroke-linecap:butt;stroke-linejoin:miter;stroke-opacity:1\"/>\n",
       "<ellipse cx=\"171.623\" cy=\"190.909\" rx=\"4.46684\" ry=\"4.46684\" style=\"fill:#FF0000;fill-rule:evenodd;stroke:#FF0000;stroke-width:1px;stroke-linecap:butt;stroke-linejoin:miter;stroke-opacity:1\"/>\n",
       "<ellipse cx=\"200\" cy=\"36.0155\" rx=\"5.80706\" ry=\"5.80706\" style=\"fill:#FF0000;fill-rule:evenodd;stroke:#FF0000;stroke-width:1px;stroke-linecap:butt;stroke-linejoin:miter;stroke-opacity:1\"/>\n",
       "<ellipse cx=\"200\" cy=\"98.266\" rx=\"5.55312\" ry=\"5.55312\" style=\"fill:#FF0000;fill-rule:evenodd;stroke:#FF0000;stroke-width:1px;stroke-linecap:butt;stroke-linejoin:miter;stroke-opacity:1\"/>\n",
       "<path d=\"M 300.66,102.746 248.587,131.499\" style=\"fill:none;fill-rule:evenodd;stroke:#000000;stroke-width:2px;stroke-linecap:butt;stroke-linejoin:miter;stroke-opacity:1\"/>\n",
       "<path d=\"M 286.655,95.8424 250.205,115.969\" style=\"fill:none;fill-rule:evenodd;stroke:#000000;stroke-width:2px;stroke-linecap:butt;stroke-linejoin:miter;stroke-opacity:1;stroke-dasharray:6,6\"/>\n",
       "<path d=\"M 300.66,102.746 302.185,43.1354\" style=\"fill:none;fill-rule:evenodd;stroke:#000000;stroke-width:2px;stroke-linecap:butt;stroke-linejoin:miter;stroke-opacity:1\"/>\n",
       "<path d=\"M 288.08,93.477 289.147,51.7494\" style=\"fill:none;fill-rule:evenodd;stroke:#000000;stroke-width:2px;stroke-linecap:butt;stroke-linejoin:miter;stroke-opacity:1;stroke-dasharray:6,6\"/>\n",
       "<path d=\"M 99.3401,102.746 151.413,131.499\" style=\"fill:none;fill-rule:evenodd;stroke:#000000;stroke-width:2px;stroke-linecap:butt;stroke-linejoin:miter;stroke-opacity:1\"/>\n",
       "<path d=\"M 113.345,95.8424 149.795,115.969\" style=\"fill:none;fill-rule:evenodd;stroke:#000000;stroke-width:2px;stroke-linecap:butt;stroke-linejoin:miter;stroke-opacity:1;stroke-dasharray:6,6\"/>\n",
       "<path d=\"M 99.3401,102.746 97.8154,43.1354\" style=\"fill:none;fill-rule:evenodd;stroke:#000000;stroke-width:2px;stroke-linecap:butt;stroke-linejoin:miter;stroke-opacity:1\"/>\n",
       "<path d=\"M 111.92,93.477 110.853,51.7494\" style=\"fill:none;fill-rule:evenodd;stroke:#000000;stroke-width:2px;stroke-linecap:butt;stroke-linejoin:miter;stroke-opacity:1;stroke-dasharray:6,6\"/>\n",
       "<path d=\"M 253.016,9.09091 200,36.0155\" style=\"fill:none;fill-rule:evenodd;stroke:#000000;stroke-width:2px;stroke-linecap:butt;stroke-linejoin:miter;stroke-opacity:1\"/>\n",
       "<path d=\"M 250.866,24.5539 213.754,43.4011\" style=\"fill:none;fill-rule:evenodd;stroke:#000000;stroke-width:2px;stroke-linecap:butt;stroke-linejoin:miter;stroke-opacity:1;stroke-dasharray:6,6\"/>\n",
       "<path d=\"M 253.016,9.09091 302.185,43.1354\" style=\"fill:none;fill-rule:evenodd;stroke:#000000;stroke-width:2px;stroke-linecap:butt;stroke-linejoin:miter;stroke-opacity:1\"/>\n",
       "<path d=\"M 253.098,24.7319 287.515,48.5631\" style=\"fill:none;fill-rule:evenodd;stroke:#000000;stroke-width:2px;stroke-linecap:butt;stroke-linejoin:miter;stroke-opacity:1;stroke-dasharray:6,6\"/>\n",
       "<path d=\"M 146.984,9.09091 200,36.0155\" style=\"fill:none;fill-rule:evenodd;stroke:#000000;stroke-width:2px;stroke-linecap:butt;stroke-linejoin:miter;stroke-opacity:1\"/>\n",
       "<path d=\"M 149.134,24.5539 186.246,43.4011\" style=\"fill:none;fill-rule:evenodd;stroke:#000000;stroke-width:2px;stroke-linecap:butt;stroke-linejoin:miter;stroke-opacity:1;stroke-dasharray:6,6\"/>\n",
       "<path d=\"M 146.984,9.09091 97.8154,43.1354\" style=\"fill:none;fill-rule:evenodd;stroke:#000000;stroke-width:2px;stroke-linecap:butt;stroke-linejoin:miter;stroke-opacity:1\"/>\n",
       "<path d=\"M 146.902,24.7319 112.485,48.5631\" style=\"fill:none;fill-rule:evenodd;stroke:#000000;stroke-width:2px;stroke-linecap:butt;stroke-linejoin:miter;stroke-opacity:1;stroke-dasharray:6,6\"/>\n",
       "<path d=\"M 248.587,131.499 200,98.266\" style=\"fill:none;fill-rule:evenodd;stroke:#000000;stroke-width:2px;stroke-linecap:butt;stroke-linejoin:miter;stroke-opacity:1\"/>\n",
       "<path d=\"M 234.066,137.09 200.054,113.827\" style=\"fill:none;fill-rule:evenodd;stroke:#000000;stroke-width:2px;stroke-linecap:butt;stroke-linejoin:miter;stroke-opacity:1;stroke-dasharray:6,6\"/>\n",
       "<path d=\"M 248.587,131.499 228.377,190.909\" style=\"fill:none;fill-rule:evenodd;stroke:#000000;stroke-width:2px;stroke-linecap:butt;stroke-linejoin:miter;stroke-opacity:1\"/>\n",
       "<path d=\"M 151.413,131.499 200,98.266\" style=\"fill:none;fill-rule:evenodd;stroke:#000000;stroke-width:2px;stroke-linecap:butt;stroke-linejoin:miter;stroke-opacity:1\"/>\n",
       "<path d=\"M 165.934,137.09 199.946,113.827\" style=\"fill:none;fill-rule:evenodd;stroke:#000000;stroke-width:2px;stroke-linecap:butt;stroke-linejoin:miter;stroke-opacity:1;stroke-dasharray:6,6\"/>\n",
       "<path d=\"M 151.413,131.499 171.623,190.909\" style=\"fill:none;fill-rule:evenodd;stroke:#000000;stroke-width:2px;stroke-linecap:butt;stroke-linejoin:miter;stroke-opacity:1\"/>\n",
       "<path d=\"M 228.377,190.909 171.623,190.909\" style=\"fill:none;fill-rule:evenodd;stroke:#000000;stroke-width:2px;stroke-linecap:butt;stroke-linejoin:miter;stroke-opacity:1\"/>\n",
       "<path d=\"M 219.864,178.096 180.136,178.096\" style=\"fill:none;fill-rule:evenodd;stroke:#000000;stroke-width:2px;stroke-linecap:butt;stroke-linejoin:miter;stroke-opacity:1\"/>\n",
       "<path d=\"M 200,36.0155 200,98.266\" style=\"fill:none;fill-rule:evenodd;stroke:#000000;stroke-width:2px;stroke-linecap:butt;stroke-linejoin:miter;stroke-opacity:1\"/>\n",
       "<path d=\"M 212.813,45.3531 212.813,88.9284\" style=\"fill:none;fill-rule:evenodd;stroke:#000000;stroke-width:2px;stroke-linecap:butt;stroke-linejoin:miter;stroke-opacity:1;stroke-dasharray:6,6\"/>\n",
       "</svg>"
      ],
      "text/plain": [
       "<IPython.core.display.SVG object>"
      ]
     },
     "metadata": {},
     "output_type": "display_data"
    }
   ],
   "source": [
    "def calculate_bond_number(atom_pairs, bond_orders, verbosity=False):\n",
    "    \"\"\"\n",
    "    This function calculates the bond number of each atom according to the bond orders and the atom pairs\n",
    "    \n",
    "    input: atom_pairs (list of integer-tuples)\n",
    "           bond_orders (list of floats)\n",
    "           \n",
    "    return: list of bond numbers\n",
    "    \"\"\"\n",
    "    \n",
    "    #get the number of atoms in the molecule from the atom_pair list.\n",
    "    n_atoms = np.max(atom_pairs)\n",
    "    #First we set up a list of length n_atoms with zeros in it\n",
    "    bond_number = np.zeros(n_atoms)\n",
    "    \n",
    "    for atom in range(1,n_atoms + 1):\n",
    "        bn = 0.0\n",
    "        for (index, pair) in enumerate(atom_pairs):\n",
    "            if atom in pair:\n",
    "                #some fancy printing\n",
    "                if verbosity: \n",
    "                    print('index {} | atom {} in pair {}-{}'.format(index, atom, atom_pairs[index][0],atom_pairs[index][1]))\n",
    "                bn = bn + bond_orders[index]\n",
    "        #the -1 is because python index starts at 0, not 1\n",
    "        bond_number[atom-1] = bn\n",
    "            \n",
    "        #some fancy printing\n",
    "        if verbosity:\n",
    "            print('----------------------------\\natom {}: bond number: {:4.2f}\\n'.format(atom, bond_number[atom-1]))\n",
    "    \n",
    "    return bond_number\n",
    "    \n",
    "    \n",
    "#plot bond number , verbosity=True switches on the fancy printing\n",
    "bond_number = calculate_bond_number(atom_pairs, bond_orders, verbosity=True)\n",
    "\n",
    "draw_MO(rdkit_mol, np.divide(bond_number,len(bond_number)))"
   ]
  },
  {
   "cell_type": "markdown",
   "metadata": {},
   "source": [
    "## Part 3: Hückel calculation and analysis of the three molecules"
   ]
  },
  {
   "cell_type": "markdown",
   "metadata": {
    "collapsed": true
   },
   "source": [
    "<div class=warn>\n",
    "\n",
    "<b> Task 4</b><br>\n",
    "\n",
    "<ol>\n",
    "<li> Calculate the total energies of Indeno[1,2,3-cd]fluoranthene, Dibenzo[cd,jk]pyrene, Indeno[1,2,3-cd]pyrene. Which molecule is more stable? </li>\n",
    "<li> Calculate the cations and anions of the three molecules. Which cation and which anion is more stable? Use the energy levels and wave functions to explain the stability trend.</li>\n",
    "<li> For the three molecules, find out which carbon atom is most easily attacked by (A) a nucleophililic reaction agent and (B) an electrophilic reaction agent.</li>\n",
    "\n",
    "</ol>\n",
    "\n",
    "</div>"
   ]
  },
  {
   "cell_type": "markdown",
   "metadata": {
    "collapsed": true
   },
   "source": [
    "<b> Solution to Task 4 </b>\n",
    "\n",
    "We can easily see that the energy levels for different compounds are not equally spaced around 0, thus the energetic contributions sum up to different values for the total energy. In the case of the anion, the additional electron is placed in an orbital with a positive energy contribution (stabilization), which lowers the total energy. In the case of the alternant Dibenzo[cd,jk]pyrene, the eigenstates are symmetrically arranged around 0 - therefore the contribution to the total energy by adding or removing an electron are of equal magnitude and the total energies are thus the same.\n",
    "\n",
    "The most stable anion is Indeno[1,2,3-cd]fluoranthene <br>\n",
    "The most stable neutral molecule is Indeno[1,2,3-cd]pyrene <br>\n",
    "The most stable cation is Dibenzo[cd,jk]pyrene<br>\n",
    "\n",
    "\n"
   ]
  },
  {
   "cell_type": "code",
   "execution_count": 40,
   "metadata": {},
   "outputs": [
    {
     "name": "stdout",
     "output_type": "stream",
     "text": [
      "molecule 0, Indeno[1,2,3-cd]fluoranthene  | total energy: -31.2842\n",
      "molecule 1, Dibenzo[cd,jk]pyrene          | total energy: -31.2529\n",
      "molecule 2, Indeno[1,2,3-cd]pyrene        | total energy: -31.3319\n"
     ]
    }
   ],
   "source": [
    "# 4.1 calculate and print total energies for the three different molecules\n",
    "for i in [0, 1, 2]:\n",
    "    solver = shmo.HuckelSolver(data=conmats[i])\n",
    "    print('molecule {}, {:30s}| total energy: {:6.4f}'.format(i, names[i], calculate_total_energy(solver)))"
   ]
  },
  {
   "cell_type": "code",
   "execution_count": 41,
   "metadata": {
    "scrolled": false
   },
   "outputs": [
    {
     "name": "stdout",
     "output_type": "stream",
     "text": [
      "\n",
      "-------------------\n",
      "\n",
      "anion    0, Indeno[1,2,3-cd]fluoranthene  | total energy: -31.0984\n",
      "anion    1, Dibenzo[cd,jk]pyrene          | total energy: -30.9619\n",
      "anion    2, Indeno[1,2,3-cd]pyrene        | total energy: -31.0386\n",
      "\n",
      "-------------------\n",
      "\n",
      "neutral  0, Indeno[1,2,3-cd]fluoranthene  | total energy: -31.2842\n",
      "neutral  1, Dibenzo[cd,jk]pyrene          | total energy: -31.2529\n",
      "neutral  2, Indeno[1,2,3-cd]pyrene        | total energy: -31.3319\n",
      "\n",
      "-------------------\n",
      "\n",
      "cation   0, Indeno[1,2,3-cd]fluoranthene  | total energy: -30.7044\n",
      "cation   1, Dibenzo[cd,jk]pyrene          | total energy: -30.9619\n",
      "cation   2, Indeno[1,2,3-cd]pyrene        | total energy: -30.8572\n"
     ]
    },
    {
     "data": {
      "image/png": "[encoded data removed]",
      "text/plain": [
       "<Figure size 2160x720 with 3 Axes>"
      ]
     },
     "metadata": {
      "needs_background": "light"
     },
     "output_type": "display_data"
    }
   ],
   "source": [
    "# 4.2 calculate and print total energies for anion, cation, and neutral molecules\n",
    "\n",
    "#generate a nice plot made up of 3 subplots next to each other\n",
    "fig, axs = plt.subplots(1, 3, figsize=(30, 10))\n",
    "color = ['b', 'g', 'r']\n",
    "\n",
    "#for each charge state, calculate the energy\n",
    "for charge, state in zip([1,0,-1], ['anion', 'neutral', 'cation']):\n",
    "    print('\\n-------------------\\n')\n",
    "    #for each molecule\n",
    "    for i in [0, 1, 2]:\n",
    "        solver = shmo.HuckelSolver(data=conmats[i])\n",
    "        #set the number of electrons\n",
    "        solver.set_num_electrons(solver.num_electrons + charge)\n",
    "        print('{:8s} {}, {:30s}| total energy: {:6.4f}'.format(state, i, names[i], calculate_total_energy(solver)))\n",
    "\n",
    "        #energy level diagram\n",
    "        nelec = 22 - charge\n",
    "        marker = '+'\n",
    "        #for each energy level\n",
    "        for elec in np.arange(len(solver.energies)):\n",
    "            shift = charge  \n",
    "            #fancy plotting with lots of options and putting vertical _ where electrons are\n",
    "            if elec >= int(nelec/2.) and charge == 0:\n",
    "                marker = '_'\n",
    "            axs[i].plot(0 + shift, solver.energies[elec],\n",
    "                        lw=0.0, marker=marker, ms=15, mew=3, label=state, color=color[charge+1])\n",
    "            if elec >= int(nelec/2.) and charge != 0:\n",
    "                marker = '_'\n",
    "            shift += 0.1\n",
    "            axs[i].plot(0 + shift, solver.energies[elec],\n",
    "                            lw=0.0, marker=marker, ms=15, mew=3, label=state, color=color[charge+1])\n",
    "            shift -= 0.1\n",
    "\n",
    "        axs[i].set_xlim(-2,2)\n",
    "        axs[i].set_title(names[i])\n",
    "        \n",
    "plt.rcParams.update({'font.size': 22})        \n",
    "plt.show()\n"
   ]
  },
  {
   "cell_type": "code",
   "execution_count": 42,
   "metadata": {},
   "outputs": [
    {
     "name": "stdout",
     "output_type": "stream",
     "text": [
      "[-2.65967904 -2.33151512 -1.85491197 -1.7746229  -1.52077343 -1.30277564\n",
      " -1.         -1.         -1.         -0.61803399 -0.57981042  0.18588535\n",
      "  0.85491197  1.          1.          1.          1.36040934  1.61803399\n",
      "  1.65967904  2.22832822  2.30277564  2.43209896]\n",
      "[-0.98779075 -1.0025108  -1.0025108  -0.98779075 -1.02621249 -1.02621249\n",
      " -1.00047599 -0.95794022 -0.95794022 -1.00047599 -1.02621249 -0.98779075\n",
      " -1.0025108  -1.0025108  -0.98779075 -1.02621249 -1.00047599 -0.95794022\n",
      " -0.95794022 -1.00047599 -1.05013951 -1.05013951]\n",
      "[ 0.01220925 -0.0025108  -0.0025108   0.01220925 -0.02621249 -0.02621249\n",
      " -0.00047599  0.04205978  0.04205978 -0.00047599 -0.02621249  0.01220925\n",
      " -0.0025108  -0.0025108   0.01220925 -0.02621249 -0.00047599  0.04205978\n",
      "  0.04205978 -0.00047599 -0.05013951 -0.05013951]\n",
      "[-0.43018733 -0.41389087 -0.41389087 -0.43018733 -0.36456603 -0.36456603\n",
      " -0.38803707 -0.43758278 -0.43758278 -0.38803707 -0.36456603 -0.43018733\n",
      " -0.41389087 -0.41389087 -0.43018733 -0.36456603 -0.38803707 -0.43758278\n",
      " -0.43758278 -0.38803707 -0.35296007 -0.35296007]\n"
     ]
    },
    {
     "data": {
      "image/svg+xml": [
       "<svg baseProfile=\"full\" height=\"200px\" version=\"1.1\" width=\"400px\" xml:space=\"preserve\" xmlns=\"http://www.w3.org/2000/svg\" xmlns:rdkit=\"http://www.rdkit.org/xml\" xmlns:xlink=\"http://www.w3.org/1999/xlink\">\n",
       "<rect height=\"200\" style=\"opacity:1.0;fill:#FFFFFF;stroke:none\" width=\"400\" x=\"0\" y=\"0\"> </rect>\n",
       "<ellipse cx=\"70.2373\" cy=\"143.564\" rx=\"3.83008\" ry=\"3.83008\" style=\"fill:#FF0000;fill-rule:evenodd;stroke:#FF0000;stroke-width:1px;stroke-linecap:butt;stroke-linejoin:miter;stroke-opacity:1\"/>\n",
       "<ellipse cx=\"32.8313\" cy=\"121.702\" rx=\"0.787646\" ry=\"0.787646\" style=\"fill:#0000FF;fill-rule:evenodd;stroke:#0000FF;stroke-width:1px;stroke-linecap:butt;stroke-linejoin:miter;stroke-opacity:1\"/>\n",
       "<ellipse cx=\"32.8313\" cy=\"78.3012\" rx=\"0.787646\" ry=\"0.787646\" style=\"fill:#0000FF;fill-rule:evenodd;stroke:#0000FF;stroke-width:1px;stroke-linecap:butt;stroke-linejoin:miter;stroke-opacity:1\"/>\n",
       "<ellipse cx=\"70.2373\" cy=\"56.4392\" rx=\"3.83008\" ry=\"3.83008\" style=\"fill:#FF0000;fill-rule:evenodd;stroke:#FF0000;stroke-width:1px;stroke-linecap:butt;stroke-linejoin:miter;stroke-opacity:1\"/>\n",
       "<ellipse cx=\"108.296\" cy=\"77.702\" rx=\"8.22294\" ry=\"8.22294\" style=\"fill:#0000FF;fill-rule:evenodd;stroke:#0000FF;stroke-width:1px;stroke-linecap:butt;stroke-linejoin:miter;stroke-opacity:1\"/>\n",
       "<ellipse cx=\"108.299\" cy=\"122.298\" rx=\"8.22294\" ry=\"8.22294\" style=\"fill:#0000FF;fill-rule:evenodd;stroke:#0000FF;stroke-width:1px;stroke-linecap:butt;stroke-linejoin:miter;stroke-opacity:1\"/>\n",
       "<ellipse cx=\"152.233\" cy=\"136.917\" rx=\"0.149319\" ry=\"0.149319\" style=\"fill:#0000FF;fill-rule:evenodd;stroke:#0000FF;stroke-width:1px;stroke-linecap:butt;stroke-linejoin:miter;stroke-opacity:1\"/>\n",
       "<ellipse cx=\"175.372\" cy=\"173.683\" rx=\"13.1943\" ry=\"13.1943\" style=\"fill:#FF0000;fill-rule:evenodd;stroke:#FF0000;stroke-width:1px;stroke-linecap:butt;stroke-linejoin:miter;stroke-opacity:1\"/>\n",
       "<ellipse cx=\"219.387\" cy=\"173.686\" rx=\"13.1943\" ry=\"13.1943\" style=\"fill:#FF0000;fill-rule:evenodd;stroke:#FF0000;stroke-width:1px;stroke-linecap:butt;stroke-linejoin:miter;stroke-opacity:1\"/>\n",
       "<ellipse cx=\"242.526\" cy=\"136.917\" rx=\"0.149319\" ry=\"0.149319\" style=\"fill:#0000FF;fill-rule:evenodd;stroke:#0000FF;stroke-width:1px;stroke-linecap:butt;stroke-linejoin:miter;stroke-opacity:1\"/>\n",
       "<ellipse cx=\"286.463\" cy=\"122.298\" rx=\"8.22294\" ry=\"8.22294\" style=\"fill:#0000FF;fill-rule:evenodd;stroke:#0000FF;stroke-width:1px;stroke-linecap:butt;stroke-linejoin:miter;stroke-opacity:1\"/>\n",
       "<ellipse cx=\"324.528\" cy=\"143.567\" rx=\"3.83008\" ry=\"3.83008\" style=\"fill:#FF0000;fill-rule:evenodd;stroke:#FF0000;stroke-width:1px;stroke-linecap:butt;stroke-linejoin:miter;stroke-opacity:1\"/>\n",
       "<ellipse cx=\"361.934\" cy=\"121.702\" rx=\"0.787646\" ry=\"0.787646\" style=\"fill:#0000FF;fill-rule:evenodd;stroke:#0000FF;stroke-width:1px;stroke-linecap:butt;stroke-linejoin:miter;stroke-opacity:1\"/>\n",
       "<ellipse cx=\"361.934\" cy=\"78.3012\" rx=\"0.787646\" ry=\"0.787646\" style=\"fill:#0000FF;fill-rule:evenodd;stroke:#0000FF;stroke-width:1px;stroke-linecap:butt;stroke-linejoin:miter;stroke-opacity:1\"/>\n",
       "<ellipse cx=\"324.528\" cy=\"56.4329\" rx=\"3.83008\" ry=\"3.83008\" style=\"fill:#FF0000;fill-rule:evenodd;stroke:#FF0000;stroke-width:1px;stroke-linecap:butt;stroke-linejoin:miter;stroke-opacity:1\"/>\n",
       "<ellipse cx=\"286.466\" cy=\"77.702\" rx=\"8.22294\" ry=\"8.22294\" style=\"fill:#0000FF;fill-rule:evenodd;stroke:#0000FF;stroke-width:1px;stroke-linecap:butt;stroke-linejoin:miter;stroke-opacity:1\"/>\n",
       "<ellipse cx=\"242.526\" cy=\"63.0834\" rx=\"0.149319\" ry=\"0.149319\" style=\"fill:#0000FF;fill-rule:evenodd;stroke:#0000FF;stroke-width:1px;stroke-linecap:butt;stroke-linejoin:miter;stroke-opacity:1\"/>\n",
       "<ellipse cx=\"219.391\" cy=\"26.3143\" rx=\"13.1943\" ry=\"13.1943\" style=\"fill:#FF0000;fill-rule:evenodd;stroke:#FF0000;stroke-width:1px;stroke-linecap:butt;stroke-linejoin:miter;stroke-opacity:1\"/>\n",
       "<ellipse cx=\"175.372\" cy=\"26.3174\" rx=\"13.1943\" ry=\"13.1943\" style=\"fill:#FF0000;fill-rule:evenodd;stroke:#FF0000;stroke-width:1px;stroke-linecap:butt;stroke-linejoin:miter;stroke-opacity:1\"/>\n",
       "<ellipse cx=\"152.233\" cy=\"63.0834\" rx=\"0.149319\" ry=\"0.149319\" style=\"fill:#0000FF;fill-rule:evenodd;stroke:#0000FF;stroke-width:1px;stroke-linecap:butt;stroke-linejoin:miter;stroke-opacity:1\"/>\n",
       "<ellipse cx=\"175.977\" cy=\"100\" rx=\"15.7289\" ry=\"15.7289\" style=\"fill:#0000FF;fill-rule:evenodd;stroke:#0000FF;stroke-width:1px;stroke-linecap:butt;stroke-linejoin:miter;stroke-opacity:1\"/>\n",
       "<ellipse cx=\"218.782\" cy=\"100\" rx=\"15.7289\" ry=\"15.7289\" style=\"fill:#0000FF;fill-rule:evenodd;stroke:#0000FF;stroke-width:1px;stroke-linecap:butt;stroke-linejoin:miter;stroke-opacity:1\"/>\n",
       "<path d=\"M 56.8186,135.721 46.25,129.545\" style=\"fill:none;fill-rule:evenodd;stroke:#000000;stroke-width:2px;stroke-linecap:butt;stroke-linejoin:miter;stroke-opacity:1\"/>\n",
       "<path d=\"M 59.9821,126.67 52.5841,122.346\" style=\"fill:none;fill-rule:evenodd;stroke:#000000;stroke-width:2px;stroke-linecap:butt;stroke-linejoin:miter;stroke-opacity:1;stroke-dasharray:6,6\"/>\n",
       "<path d=\"M 84.2739,135.721 94.2623,130.141\" style=\"fill:none;fill-rule:evenodd;stroke:#000000;stroke-width:2px;stroke-linecap:butt;stroke-linejoin:miter;stroke-opacity:1\"/>\n",
       "<path d=\"M 81.1818,126.669 88.1737,122.762\" style=\"fill:none;fill-rule:evenodd;stroke:#000000;stroke-width:2px;stroke-linecap:butt;stroke-linejoin:miter;stroke-opacity:1;stroke-dasharray:6,6\"/>\n",
       "<path d=\"M 32.8313,113.859 32.8313,86.1437\" style=\"fill:none;fill-rule:evenodd;stroke:#000000;stroke-width:2px;stroke-linecap:butt;stroke-linejoin:miter;stroke-opacity:1\"/>\n",
       "<path d=\"M 42.2424,109.702 42.2424,90.3011\" style=\"fill:none;fill-rule:evenodd;stroke:#000000;stroke-width:2px;stroke-linecap:butt;stroke-linejoin:miter;stroke-opacity:1;stroke-dasharray:6,6\"/>\n",
       "<path d=\"M 46.25,70.4586 56.8186,64.2818\" style=\"fill:none;fill-rule:evenodd;stroke:#000000;stroke-width:2px;stroke-linecap:butt;stroke-linejoin:miter;stroke-opacity:1\"/>\n",
       "<path d=\"M 52.5841,77.6572 59.9821,73.3334\" style=\"fill:none;fill-rule:evenodd;stroke:#000000;stroke-width:2px;stroke-linecap:butt;stroke-linejoin:miter;stroke-opacity:1;stroke-dasharray:6,6\"/>\n",
       "<path d=\"M 84.2748,64.2818 94.2582,69.8594\" style=\"fill:none;fill-rule:evenodd;stroke:#000000;stroke-width:2px;stroke-linecap:butt;stroke-linejoin:miter;stroke-opacity:1\"/>\n",
       "<path d=\"M 81.1822,73.3342 88.1706,77.2386\" style=\"fill:none;fill-rule:evenodd;stroke:#000000;stroke-width:2px;stroke-linecap:butt;stroke-linejoin:miter;stroke-opacity:1;stroke-dasharray:6,6\"/>\n",
       "<path d=\"M 108.296,85.5446 108.298,114.455\" style=\"fill:none;fill-rule:evenodd;stroke:#000000;stroke-width:2px;stroke-linecap:butt;stroke-linejoin:miter;stroke-opacity:1\"/>\n",
       "<path d=\"M 98.8855,89.8819 98.8869,110.119\" style=\"fill:none;fill-rule:evenodd;stroke:#000000;stroke-width:2px;stroke-linecap:butt;stroke-linejoin:miter;stroke-opacity:1;stroke-dasharray:6,6\"/>\n",
       "<path d=\"M 122.945,72.8279 132.349,69.6992\" style=\"fill:none;fill-rule:evenodd;stroke:#000000;stroke-width:2px;stroke-linecap:butt;stroke-linejoin:miter;stroke-opacity:1\"/>\n",
       "<path d=\"M 122.948,127.172 137.583,132.042\" style=\"fill:none;fill-rule:evenodd;stroke:#000000;stroke-width:2px;stroke-linecap:butt;stroke-linejoin:miter;stroke-opacity:1\"/>\n",
       "<path d=\"M 157.169,144.759 170.436,165.84\" style=\"fill:none;fill-rule:evenodd;stroke:#000000;stroke-width:2px;stroke-linecap:butt;stroke-linejoin:miter;stroke-opacity:1\"/>\n",
       "<path d=\"M 167.124,142.909 176.411,157.665\" style=\"fill:none;fill-rule:evenodd;stroke:#000000;stroke-width:2px;stroke-linecap:butt;stroke-linejoin:miter;stroke-opacity:1;stroke-dasharray:6,6\"/>\n",
       "<path d=\"M 157.277,129.074 170.933,107.843\" style=\"fill:none;fill-rule:evenodd;stroke:#000000;stroke-width:2px;stroke-linecap:butt;stroke-linejoin:miter;stroke-opacity:1\"/>\n",
       "<path d=\"M 151.41,120.798 160.969,105.936\" style=\"fill:none;fill-rule:evenodd;stroke:#000000;stroke-width:2px;stroke-linecap:butt;stroke-linejoin:miter;stroke-opacity:1;stroke-dasharray:6,6\"/>\n",
       "<path d=\"M 190.021,173.684 204.738,173.685\" style=\"fill:none;fill-rule:evenodd;stroke:#000000;stroke-width:2px;stroke-linecap:butt;stroke-linejoin:miter;stroke-opacity:1\"/>\n",
       "<path d=\"M 192.229,164.273 202.531,164.273\" style=\"fill:none;fill-rule:evenodd;stroke:#000000;stroke-width:2px;stroke-linecap:butt;stroke-linejoin:miter;stroke-opacity:1;stroke-dasharray:6,6\"/>\n",
       "<path d=\"M 224.323,165.843 237.591,144.759\" style=\"fill:none;fill-rule:evenodd;stroke:#000000;stroke-width:2px;stroke-linecap:butt;stroke-linejoin:miter;stroke-opacity:1\"/>\n",
       "<path d=\"M 218.348,157.668 227.635,142.909\" style=\"fill:none;fill-rule:evenodd;stroke:#000000;stroke-width:2px;stroke-linecap:butt;stroke-linejoin:miter;stroke-opacity:1;stroke-dasharray:6,6\"/>\n",
       "<path d=\"M 257.176,132.042 266.579,128.914\" style=\"fill:none;fill-rule:evenodd;stroke:#000000;stroke-width:2px;stroke-linecap:butt;stroke-linejoin:miter;stroke-opacity:1\"/>\n",
       "<path d=\"M 237.482,129.074 223.826,107.843\" style=\"fill:none;fill-rule:evenodd;stroke:#000000;stroke-width:2px;stroke-linecap:butt;stroke-linejoin:miter;stroke-opacity:1\"/>\n",
       "<path d=\"M 227.518,130.98 217.959,116.118\" style=\"fill:none;fill-rule:evenodd;stroke:#000000;stroke-width:2px;stroke-linecap:butt;stroke-linejoin:miter;stroke-opacity:1;stroke-dasharray:6,6\"/>\n",
       "<path d=\"M 300.499,130.141 310.492,135.724\" style=\"fill:none;fill-rule:evenodd;stroke:#000000;stroke-width:2px;stroke-linecap:butt;stroke-linejoin:miter;stroke-opacity:1\"/>\n",
       "<path d=\"M 306.589,122.763 313.584,126.671\" style=\"fill:none;fill-rule:evenodd;stroke:#000000;stroke-width:2px;stroke-linecap:butt;stroke-linejoin:miter;stroke-opacity:1;stroke-dasharray:6,6\"/>\n",
       "<path d=\"M 286.464,114.455 286.466,85.5446\" style=\"fill:none;fill-rule:evenodd;stroke:#000000;stroke-width:2px;stroke-linecap:butt;stroke-linejoin:miter;stroke-opacity:1\"/>\n",
       "<path d=\"M 277.053,110.118 277.055,89.8805\" style=\"fill:none;fill-rule:evenodd;stroke:#000000;stroke-width:2px;stroke-linecap:butt;stroke-linejoin:miter;stroke-opacity:1;stroke-dasharray:6,6\"/>\n",
       "<path d=\"M 337.945,135.724 348.517,129.545\" style=\"fill:none;fill-rule:evenodd;stroke:#000000;stroke-width:2px;stroke-linecap:butt;stroke-linejoin:miter;stroke-opacity:1\"/>\n",
       "<path d=\"M 334.781,126.673 342.182,122.347\" style=\"fill:none;fill-rule:evenodd;stroke:#000000;stroke-width:2px;stroke-linecap:butt;stroke-linejoin:miter;stroke-opacity:1;stroke-dasharray:6,6\"/>\n",
       "<path d=\"M 361.934,113.859 361.934,86.1437\" style=\"fill:none;fill-rule:evenodd;stroke:#000000;stroke-width:2px;stroke-linecap:butt;stroke-linejoin:miter;stroke-opacity:1\"/>\n",
       "<path d=\"M 352.523,109.702 352.523,90.3011\" style=\"fill:none;fill-rule:evenodd;stroke:#000000;stroke-width:2px;stroke-linecap:butt;stroke-linejoin:miter;stroke-opacity:1;stroke-dasharray:6,6\"/>\n",
       "<path d=\"M 348.519,70.4586 337.943,64.2755\" style=\"fill:none;fill-rule:evenodd;stroke:#000000;stroke-width:2px;stroke-linecap:butt;stroke-linejoin:miter;stroke-opacity:1\"/>\n",
       "<path d=\"M 342.183,77.6557 334.78,73.3275\" style=\"fill:none;fill-rule:evenodd;stroke:#000000;stroke-width:2px;stroke-linecap:butt;stroke-linejoin:miter;stroke-opacity:1;stroke-dasharray:6,6\"/>\n",
       "<path d=\"M 310.494,64.2755 300.501,69.8594\" style=\"fill:none;fill-rule:evenodd;stroke:#000000;stroke-width:2px;stroke-linecap:butt;stroke-linejoin:miter;stroke-opacity:1\"/>\n",
       "<path d=\"M 313.585,73.3285 306.591,77.2372\" style=\"fill:none;fill-rule:evenodd;stroke:#000000;stroke-width:2px;stroke-linecap:butt;stroke-linejoin:miter;stroke-opacity:1;stroke-dasharray:6,6\"/>\n",
       "<path d=\"M 266.582,71.0867 262.41,69.6987\" style=\"fill:none;fill-rule:evenodd;stroke:#000000;stroke-width:2px;stroke-linecap:butt;stroke-linejoin:miter;stroke-opacity:1\"/>\n",
       "<path d=\"M 237.591,55.2409 224.325,34.1569\" style=\"fill:none;fill-rule:evenodd;stroke:#000000;stroke-width:2px;stroke-linecap:butt;stroke-linejoin:miter;stroke-opacity:1\"/>\n",
       "<path d=\"M 227.636,57.0902 218.35,42.3314\" style=\"fill:none;fill-rule:evenodd;stroke:#000000;stroke-width:2px;stroke-linecap:butt;stroke-linejoin:miter;stroke-opacity:1;stroke-dasharray:6,6\"/>\n",
       "<path d=\"M 237.482,70.926 223.826,92.1574\" style=\"fill:none;fill-rule:evenodd;stroke:#000000;stroke-width:2px;stroke-linecap:butt;stroke-linejoin:miter;stroke-opacity:1\"/>\n",
       "<path d=\"M 243.349,79.2017 233.79,94.0637\" style=\"fill:none;fill-rule:evenodd;stroke:#000000;stroke-width:2px;stroke-linecap:butt;stroke-linejoin:miter;stroke-opacity:1;stroke-dasharray:6,6\"/>\n",
       "<path d=\"M 199.506,26.3157 195.256,26.316\" style=\"fill:none;fill-rule:evenodd;stroke:#000000;stroke-width:2px;stroke-linecap:butt;stroke-linejoin:miter;stroke-opacity:1\"/>\n",
       "<path d=\"M 198.869,35.7269 195.894,35.7271\" style=\"fill:none;fill-rule:evenodd;stroke:#000000;stroke-width:2px;stroke-linecap:butt;stroke-linejoin:miter;stroke-opacity:1;stroke-dasharray:6,6\"/>\n",
       "<path d=\"M 170.436,34.16 157.169,55.2409\" style=\"fill:none;fill-rule:evenodd;stroke:#000000;stroke-width:2px;stroke-linecap:butt;stroke-linejoin:miter;stroke-opacity:1\"/>\n",
       "<path d=\"M 176.411,42.3349 167.124,57.0915\" style=\"fill:none;fill-rule:evenodd;stroke:#000000;stroke-width:2px;stroke-linecap:butt;stroke-linejoin:miter;stroke-opacity:1;stroke-dasharray:6,6\"/>\n",
       "<path d=\"M 157.277,70.926 170.933,92.1574\" style=\"fill:none;fill-rule:evenodd;stroke:#000000;stroke-width:2px;stroke-linecap:butt;stroke-linejoin:miter;stroke-opacity:1\"/>\n",
       "<path d=\"M 167.241,69.0198 176.8,83.8818\" style=\"fill:none;fill-rule:evenodd;stroke:#000000;stroke-width:2px;stroke-linecap:butt;stroke-linejoin:miter;stroke-opacity:1;stroke-dasharray:6,6\"/>\n",
       "<path d=\"M 195.861,100 198.898,100\" style=\"fill:none;fill-rule:evenodd;stroke:#000000;stroke-width:2px;stroke-linecap:butt;stroke-linejoin:miter;stroke-opacity:1\"/>\n",
       "<path d=\"M 196.317,90.5889 198.442,90.5889\" style=\"fill:none;fill-rule:evenodd;stroke:#000000;stroke-width:2px;stroke-linecap:butt;stroke-linejoin:miter;stroke-opacity:1;stroke-dasharray:6,6\"/>\n",
       "<text style=\"font-size:15px;font-style:normal;font-weight:normal;fill-opacity:1;stroke:none;font-family:sans-serif;text-anchor:start;fill:#000000\" x=\"55.5878\" y=\"151.407\"><tspan>C:0</tspan></text>\n",
       "<text style=\"font-size:15px;font-style:normal;font-weight:normal;fill-opacity:1;stroke:none;font-family:sans-serif;text-anchor:start;fill:#000000\" x=\"18.1818\" y=\"129.545\"><tspan>C:1</tspan></text>\n",
       "<text style=\"font-size:15px;font-style:normal;font-weight:normal;fill-opacity:1;stroke:none;font-family:sans-serif;text-anchor:start;fill:#000000\" x=\"18.1818\" y=\"86.1437\"><tspan>C:2</tspan></text>\n",
       "<text style=\"font-size:15px;font-style:normal;font-weight:normal;fill-opacity:1;stroke:none;font-family:sans-serif;text-anchor:start;fill:#000000\" x=\"55.5878\" y=\"64.2818\"><tspan>C:3</tspan></text>\n",
       "<text style=\"font-size:15px;font-style:normal;font-weight:normal;fill-opacity:1;stroke:none;font-family:sans-serif;text-anchor:start;fill:#000000\" x=\"93.6462\" y=\"85.5446\"><tspan>C:4</tspan></text>\n",
       "<text style=\"font-size:15px;font-style:normal;font-weight:normal;fill-opacity:1;stroke:none;font-family:sans-serif;text-anchor:start;fill:#000000\" x=\"93.6493\" y=\"130.141\"><tspan>C:5</tspan></text>\n",
       "<text style=\"font-size:15px;font-style:normal;font-weight:normal;fill-opacity:1;stroke:none;font-family:sans-serif;text-anchor:start;fill:#000000\" x=\"137.583\" y=\"144.759\"><tspan>C:6</tspan></text>\n",
       "<text style=\"font-size:15px;font-style:normal;font-weight:normal;fill-opacity:1;stroke:none;font-family:sans-serif;text-anchor:start;fill:#000000\" x=\"160.722\" y=\"181.525\"><tspan>C:7</tspan></text>\n",
       "<text style=\"font-size:15px;font-style:normal;font-weight:normal;fill-opacity:1;stroke:none;font-family:sans-serif;text-anchor:start;fill:#000000\" x=\"204.738\" y=\"181.528\"><tspan>C:8</tspan></text>\n",
       "<text style=\"font-size:15px;font-style:normal;font-weight:normal;fill-opacity:1;stroke:none;font-family:sans-serif;text-anchor:start;fill:#000000\" x=\"227.877\" y=\"144.759\"><tspan>C:9</tspan></text>\n",
       "<text style=\"font-size:15px;font-style:normal;font-weight:normal;fill-opacity:1;stroke:none;font-family:sans-serif;text-anchor:start;fill:#000000\" x=\"266.579\" y=\"130.141\"><tspan>C:10</tspan></text>\n",
       "<text style=\"font-size:15px;font-style:normal;font-weight:normal;fill-opacity:1;stroke:none;font-family:sans-serif;text-anchor:start;fill:#000000\" x=\"304.644\" y=\"151.41\"><tspan>C:11</tspan></text>\n",
       "<text style=\"font-size:15px;font-style:normal;font-weight:normal;fill-opacity:1;stroke:none;font-family:sans-serif;text-anchor:start;fill:#000000\" x=\"342.05\" y=\"129.545\"><tspan>C:12</tspan></text>\n",
       "<text style=\"font-size:15px;font-style:normal;font-weight:normal;fill-opacity:1;stroke:none;font-family:sans-serif;text-anchor:start;fill:#000000\" x=\"342.05\" y=\"86.1437\"><tspan>C:13</tspan></text>\n",
       "<text style=\"font-size:15px;font-style:normal;font-weight:normal;fill-opacity:1;stroke:none;font-family:sans-serif;text-anchor:start;fill:#000000\" x=\"304.644\" y=\"64.2755\"><tspan>C:14</tspan></text>\n",
       "<text style=\"font-size:15px;font-style:normal;font-weight:normal;fill-opacity:1;stroke:none;font-family:sans-serif;text-anchor:start;fill:#000000\" x=\"266.582\" y=\"85.5446\"><tspan>C:15</tspan></text>\n",
       "<text style=\"font-size:15px;font-style:normal;font-weight:normal;fill-opacity:1;stroke:none;font-family:sans-serif;text-anchor:start;fill:#000000\" x=\"222.642\" y=\"70.926\"><tspan>C:16</tspan></text>\n",
       "<text style=\"font-size:15px;font-style:normal;font-weight:normal;fill-opacity:1;stroke:none;font-family:sans-serif;text-anchor:start;fill:#000000\" x=\"199.506\" y=\"34.1569\"><tspan>C:17</tspan></text>\n",
       "<text style=\"font-size:15px;font-style:normal;font-weight:normal;fill-opacity:1;stroke:none;font-family:sans-serif;text-anchor:start;fill:#000000\" x=\"155.488\" y=\"34.16\"><tspan>C:18</tspan></text>\n",
       "<text style=\"font-size:15px;font-style:normal;font-weight:normal;fill-opacity:1;stroke:none;font-family:sans-serif;text-anchor:start;fill:#000000\" x=\"132.349\" y=\"70.926\"><tspan>C:19</tspan></text>\n",
       "<text style=\"font-size:15px;font-style:normal;font-weight:normal;fill-opacity:1;stroke:none;font-family:sans-serif;text-anchor:start;fill:#000000\" x=\"156.093\" y=\"107.843\"><tspan>C:20</tspan></text>\n",
       "<text style=\"font-size:15px;font-style:normal;font-weight:normal;fill-opacity:1;stroke:none;font-family:sans-serif;text-anchor:start;fill:#000000\" x=\"198.898\" y=\"107.843\"><tspan>C:21</tspan></text>\n",
       "</svg>"
      ],
      "text/plain": [
       "<IPython.core.display.SVG object>"
      ]
     },
     "metadata": {},
     "output_type": "display_data"
    },
    {
     "name": "stdout",
     "output_type": "stream",
     "text": [
      "[-2.64637781 -2.28182398 -1.96335591 -1.74184647 -1.4685388  -1.33387771\n",
      " -1.19762566 -1.         -0.84626341 -0.71160196 -0.47461758  0.29330412\n",
      "  0.79694968  0.86975515  1.          1.22309208  1.32102436  1.45234971\n",
      "  1.84029042  2.03108643  2.2780817   2.55999562]\n",
      "[-1.00351318 -0.99074468 -1.00125772 -0.960049   -1.00017895 -0.95869976\n",
      " -1.00456803 -0.917467   -1.03201821 -1.04741156 -1.03473731 -0.97653051\n",
      " -1.01140287 -0.98817868 -0.99770778 -1.00272611 -1.02983252 -0.99723745\n",
      " -1.00901335 -1.00947925 -0.99669744 -1.03054863]\n",
      "[-0.00351318  0.00925532 -0.00125772  0.039951   -0.00017895  0.04130024\n",
      " -0.00456803  0.082533   -0.03201821 -0.04741156 -0.03473731  0.02346949\n",
      " -0.01140287  0.01182132  0.00229222 -0.00272611 -0.02983252  0.00276255\n",
      " -0.00901335 -0.00947925  0.00330256 -0.03054863]\n",
      "[-0.44097939 -0.45067592 -0.33516636 -0.47293805 -0.39471504 -0.47444974\n",
      " -0.33234858 -0.48862141 -0.3666577  -0.36192178 -0.38015527 -0.42365249\n",
      " -0.45306849 -0.34358758 -0.34788033 -0.35612111 -0.3586391  -0.42964992\n",
      " -0.40988104 -0.4116084  -0.42733286 -0.36168934]\n"
     ]
    },
    {
     "data": {
      "image/svg+xml": [
       "<svg baseProfile=\"full\" height=\"200px\" version=\"1.1\" width=\"400px\" xml:space=\"preserve\" xmlns=\"http://www.w3.org/2000/svg\" xmlns:rdkit=\"http://www.rdkit.org/xml\" xmlns:xlink=\"http://www.w3.org/1999/xlink\">\n",
       "<rect height=\"200\" style=\"opacity:1.0;fill:#FFFFFF;stroke:none\" width=\"400\" x=\"0\" y=\"0\"> </rect>\n",
       "<ellipse cx=\"98.608\" cy=\"29.0588\" rx=\"1.12494\" ry=\"1.12494\" style=\"fill:#0000FF;fill-rule:evenodd;stroke:#0000FF;stroke-width:1px;stroke-linecap:butt;stroke-linejoin:miter;stroke-opacity:1\"/>\n",
       "<ellipse cx=\"68.7361\" cy=\"60.663\" rx=\"2.96359\" ry=\"2.96359\" style=\"fill:#FF0000;fill-rule:evenodd;stroke:#FF0000;stroke-width:1px;stroke-linecap:butt;stroke-linejoin:miter;stroke-opacity:1\"/>\n",
       "<ellipse cx=\"80.0425\" cy=\"104.553\" rx=\"0.402726\" ry=\"0.402726\" style=\"fill:#0000FF;fill-rule:evenodd;stroke:#0000FF;stroke-width:1px;stroke-linecap:butt;stroke-linejoin:miter;stroke-opacity:1\"/>\n",
       "<ellipse cx=\"49.8313\" cy=\"137.573\" rx=\"12.7925\" ry=\"12.7925\" style=\"fill:#FF0000;fill-rule:evenodd;stroke:#FF0000;stroke-width:1px;stroke-linecap:butt;stroke-linejoin:miter;stroke-opacity:1\"/>\n",
       "<ellipse cx=\"63.3535\" cy=\"179.734\" rx=\"0.0572994\" ry=\"0.0572994\" style=\"fill:#0000FF;fill-rule:evenodd;stroke:#0000FF;stroke-width:1px;stroke-linecap:butt;stroke-linejoin:miter;stroke-opacity:1\"/>\n",
       "<ellipse cx=\"106.152\" cy=\"190.909\" rx=\"13.2245\" ry=\"13.2245\" style=\"fill:#FF0000;fill-rule:evenodd;stroke:#FF0000;stroke-width:1px;stroke-linecap:butt;stroke-linejoin:miter;stroke-opacity:1\"/>\n",
       "<ellipse cx=\"137.734\" cy=\"159.017\" rx=\"1.4627\" ry=\"1.4627\" style=\"fill:#0000FF;fill-rule:evenodd;stroke:#0000FF;stroke-width:1px;stroke-linecap:butt;stroke-linejoin:miter;stroke-opacity:1\"/>\n",
       "<ellipse cx=\"181.973\" cy=\"169.513\" rx=\"26.4274\" ry=\"26.4274\" style=\"fill:#FF0000;fill-rule:evenodd;stroke:#FF0000;stroke-width:1px;stroke-linecap:butt;stroke-linejoin:miter;stroke-opacity:1\"/>\n",
       "<ellipse cx=\"212.277\" cy=\"137.922\" rx=\"10.2524\" ry=\"10.2524\" style=\"fill:#0000FF;fill-rule:evenodd;stroke:#0000FF;stroke-width:1px;stroke-linecap:butt;stroke-linejoin:miter;stroke-opacity:1\"/>\n",
       "<ellipse cx=\"197.106\" cy=\"93.9578\" rx=\"15.1814\" ry=\"15.1814\" style=\"fill:#0000FF;fill-rule:evenodd;stroke:#0000FF;stroke-width:1px;stroke-linecap:butt;stroke-linejoin:miter;stroke-opacity:1\"/>\n",
       "<ellipse cx=\"230.417\" cy=\"64.4542\" rx=\"11.123\" ry=\"11.123\" style=\"fill:#0000FF;fill-rule:evenodd;stroke:#0000FF;stroke-width:1px;stroke-linecap:butt;stroke-linejoin:miter;stroke-opacity:1\"/>\n",
       "<ellipse cx=\"218.675\" cy=\"21.2811\" rx=\"7.51502\" ry=\"7.51502\" style=\"fill:#FF0000;fill-rule:evenodd;stroke:#FF0000;stroke-width:1px;stroke-linecap:butt;stroke-linejoin:miter;stroke-opacity:1\"/>\n",
       "<ellipse cx=\"176.014\" cy=\"9.09091\" rx=\"3.65124\" ry=\"3.65124\" style=\"fill:#0000FF;fill-rule:evenodd;stroke:#0000FF;stroke-width:1px;stroke-linecap:butt;stroke-linejoin:miter;stroke-opacity:1\"/>\n",
       "<ellipse cx=\"142.71\" cy=\"39.0684\" rx=\"3.78523\" ry=\"3.78523\" style=\"fill:#FF0000;fill-rule:evenodd;stroke:#FF0000;stroke-width:1px;stroke-linecap:butt;stroke-linejoin:miter;stroke-opacity:1\"/>\n",
       "<ellipse cx=\"154.231\" cy=\"82.8531\" rx=\"0.733979\" ry=\"0.733979\" style=\"fill:#FF0000;fill-rule:evenodd;stroke:#FF0000;stroke-width:1px;stroke-linecap:butt;stroke-linejoin:miter;stroke-opacity:1\"/>\n",
       "<ellipse cx=\"123.798\" cy=\"115.901\" rx=\"0.872912\" ry=\"0.872912\" style=\"fill:#0000FF;fill-rule:evenodd;stroke:#0000FF;stroke-width:1px;stroke-linecap:butt;stroke-linejoin:miter;stroke-opacity:1\"/>\n",
       "<ellipse cx=\"270.148\" cy=\"90\" rx=\"9.55249\" ry=\"9.55249\" style=\"fill:#0000FF;fill-rule:evenodd;stroke:#0000FF;stroke-width:1px;stroke-linecap:butt;stroke-linejoin:miter;stroke-opacity:1\"/>\n",
       "<ellipse cx=\"313.173\" cy=\"78.1525\" rx=\"0.884579\" ry=\"0.884579\" style=\"fill:#FF0000;fill-rule:evenodd;stroke:#FF0000;stroke-width:1px;stroke-linecap:butt;stroke-linejoin:miter;stroke-opacity:1\"/>\n",
       "<ellipse cx=\"344.826\" cy=\"108.927\" rx=\"2.88611\" ry=\"2.88611\" style=\"fill:#0000FF;fill-rule:evenodd;stroke:#0000FF;stroke-width:1px;stroke-linecap:butt;stroke-linejoin:miter;stroke-opacity:1\"/>\n",
       "<ellipse cx=\"334.265\" cy=\"152.001\" rx=\"3.03529\" ry=\"3.03529\" style=\"fill:#0000FF;fill-rule:evenodd;stroke:#0000FF;stroke-width:1px;stroke-linecap:butt;stroke-linejoin:miter;stroke-opacity:1\"/>\n",
       "<ellipse cx=\"291.928\" cy=\"164.585\" rx=\"1.05749\" ry=\"1.05749\" style=\"fill:#FF0000;fill-rule:evenodd;stroke:#FF0000;stroke-width:1px;stroke-linecap:butt;stroke-linejoin:miter;stroke-opacity:1\"/>\n",
       "<ellipse cx=\"259.389\" cy=\"134.147\" rx=\"9.78179\" ry=\"9.78179\" style=\"fill:#0000FF;fill-rule:evenodd;stroke:#0000FF;stroke-width:1px;stroke-linecap:butt;stroke-linejoin:miter;stroke-opacity:1\"/>\n",
       "<path d=\"M 91.0416,37.0639 76.3025,52.6579\" style=\"fill:none;fill-rule:evenodd;stroke:#000000;stroke-width:2px;stroke-linecap:butt;stroke-linejoin:miter;stroke-opacity:1\"/>\n",
       "<path d=\"M 95.812,46.0015 85.4945,56.9173\" style=\"fill:none;fill-rule:evenodd;stroke:#000000;stroke-width:2px;stroke-linecap:butt;stroke-linejoin:miter;stroke-opacity:1;stroke-dasharray:6,6\"/>\n",
       "<path d=\"M 113.561,32.4527 122.413,34.4618\" style=\"fill:none;fill-rule:evenodd;stroke:#000000;stroke-width:2px;stroke-linecap:butt;stroke-linejoin:miter;stroke-opacity:1\"/>\n",
       "<path d=\"M 112.763,42.1219 118.959,43.5283\" style=\"fill:none;fill-rule:evenodd;stroke:#000000;stroke-width:2px;stroke-linecap:butt;stroke-linejoin:miter;stroke-opacity:1;stroke-dasharray:6,6\"/>\n",
       "<path d=\"M 70.7983,68.668 77.9804,96.5482\" style=\"fill:none;fill-rule:evenodd;stroke:#000000;stroke-width:2px;stroke-linecap:butt;stroke-linejoin:miter;stroke-opacity:1\"/>\n",
       "<path d=\"M 81.178,70.4537 86.2055,89.9698\" style=\"fill:none;fill-rule:evenodd;stroke:#000000;stroke-width:2px;stroke-linecap:butt;stroke-linejoin:miter;stroke-opacity:1;stroke-dasharray:6,6\"/>\n",
       "<path d=\"M 72.7183,112.558 57.1556,129.568\" style=\"fill:none;fill-rule:evenodd;stroke:#000000;stroke-width:2px;stroke-linecap:butt;stroke-linejoin:miter;stroke-opacity:1\"/>\n",
       "<path d=\"M 77.4711,121.594 66.5772,133.501\" style=\"fill:none;fill-rule:evenodd;stroke:#000000;stroke-width:2px;stroke-linecap:butt;stroke-linejoin:miter;stroke-opacity:1;stroke-dasharray:6,6\"/>\n",
       "<path d=\"M 94.9956,108.431 103.502,110.638\" style=\"fill:none;fill-rule:evenodd;stroke:#000000;stroke-width:2px;stroke-linecap:butt;stroke-linejoin:miter;stroke-opacity:1\"/>\n",
       "<path d=\"M 98.6832,99.4638 104.638,101.008\" style=\"fill:none;fill-rule:evenodd;stroke:#000000;stroke-width:2px;stroke-linecap:butt;stroke-linejoin:miter;stroke-opacity:1;stroke-dasharray:6,6\"/>\n",
       "<path d=\"M 52.3987,145.578 60.7861,171.729\" style=\"fill:none;fill-rule:evenodd;stroke:#000000;stroke-width:2px;stroke-linecap:butt;stroke-linejoin:miter;stroke-opacity:1\"/>\n",
       "<path d=\"M 62.804,146.567 68.6751,164.872\" style=\"fill:none;fill-rule:evenodd;stroke:#000000;stroke-width:2px;stroke-linecap:butt;stroke-linejoin:miter;stroke-opacity:1;stroke-dasharray:6,6\"/>\n",
       "<path d=\"M 78.3066,183.638 91.1989,187.005\" style=\"fill:none;fill-rule:evenodd;stroke:#000000;stroke-width:2px;stroke-linecap:butt;stroke-linejoin:miter;stroke-opacity:1\"/>\n",
       "<path d=\"M 82.6673,174.849 91.6919,177.205\" style=\"fill:none;fill-rule:evenodd;stroke:#000000;stroke-width:2px;stroke-linecap:butt;stroke-linejoin:miter;stroke-opacity:1;stroke-dasharray:6,6\"/>\n",
       "<path d=\"M 114.079,182.904 129.807,167.022\" style=\"fill:none;fill-rule:evenodd;stroke:#000000;stroke-width:2px;stroke-linecap:butt;stroke-linejoin:miter;stroke-opacity:1\"/>\n",
       "<path d=\"M 109.613,173.762 120.622,162.645\" style=\"fill:none;fill-rule:evenodd;stroke:#000000;stroke-width:2px;stroke-linecap:butt;stroke-linejoin:miter;stroke-opacity:1;stroke-dasharray:6,6\"/>\n",
       "<path d=\"M 152.687,162.565 167.02,165.965\" style=\"fill:none;fill-rule:evenodd;stroke:#000000;stroke-width:2px;stroke-linecap:butt;stroke-linejoin:miter;stroke-opacity:1\"/>\n",
       "<path d=\"M 157.054,153.728 167.088,156.109\" style=\"fill:none;fill-rule:evenodd;stroke:#000000;stroke-width:2px;stroke-linecap:butt;stroke-linejoin:miter;stroke-opacity:1;stroke-dasharray:6,6\"/>\n",
       "<path d=\"M 135.146,151.012 126.386,123.906\" style=\"fill:none;fill-rule:evenodd;stroke:#000000;stroke-width:2px;stroke-linecap:butt;stroke-linejoin:miter;stroke-opacity:1\"/>\n",
       "<path d=\"M 124.692,149.9 118.559,130.927\" style=\"fill:none;fill-rule:evenodd;stroke:#000000;stroke-width:2px;stroke-linecap:butt;stroke-linejoin:miter;stroke-opacity:1;stroke-dasharray:6,6\"/>\n",
       "<path d=\"M 189.652,161.508 204.598,145.927\" style=\"fill:none;fill-rule:evenodd;stroke:#000000;stroke-width:2px;stroke-linecap:butt;stroke-linejoin:miter;stroke-opacity:1\"/>\n",
       "<path d=\"M 184.962,152.521 195.424,141.614\" style=\"fill:none;fill-rule:evenodd;stroke:#000000;stroke-width:2px;stroke-linecap:butt;stroke-linejoin:miter;stroke-opacity:1;stroke-dasharray:6,6\"/>\n",
       "<path d=\"M 209.515,129.917 199.868,101.963\" style=\"fill:none;fill-rule:evenodd;stroke:#000000;stroke-width:2px;stroke-linecap:butt;stroke-linejoin:miter;stroke-opacity:1\"/>\n",
       "<path d=\"M 198.987,128.857 192.235,109.29\" style=\"fill:none;fill-rule:evenodd;stroke:#000000;stroke-width:2px;stroke-linecap:butt;stroke-linejoin:miter;stroke-opacity:1;stroke-dasharray:6,6\"/>\n",
       "<path d=\"M 227.23,136.724 239.093,135.773\" style=\"fill:none;fill-rule:evenodd;stroke:#000000;stroke-width:2px;stroke-linecap:butt;stroke-linejoin:miter;stroke-opacity:1\"/>\n",
       "<path d=\"M 206.144,85.9527 221.379,72.4593\" style=\"fill:none;fill-rule:evenodd;stroke:#000000;stroke-width:2px;stroke-linecap:butt;stroke-linejoin:miter;stroke-opacity:1\"/>\n",
       "<path d=\"M 214.798,91.1197 225.463,81.6743\" style=\"fill:none;fill-rule:evenodd;stroke:#000000;stroke-width:2px;stroke-linecap:butt;stroke-linejoin:miter;stroke-opacity:1;stroke-dasharray:6,6\"/>\n",
       "<path d=\"M 182.153,90.0849 174.527,88.1098\" style=\"fill:none;fill-rule:evenodd;stroke:#000000;stroke-width:2px;stroke-linecap:butt;stroke-linejoin:miter;stroke-opacity:1\"/>\n",
       "<path d=\"M 178.6,99.0879 173.262,97.7053\" style=\"fill:none;fill-rule:evenodd;stroke:#000000;stroke-width:2px;stroke-linecap:butt;stroke-linejoin:miter;stroke-opacity:1;stroke-dasharray:6,6\"/>\n",
       "<path d=\"M 228.24,56.4491 220.852,29.2862\" style=\"fill:none;fill-rule:evenodd;stroke:#000000;stroke-width:2px;stroke-linecap:butt;stroke-linejoin:miter;stroke-opacity:1\"/>\n",
       "<path d=\"M 217.862,54.8957 212.691,35.8816\" style=\"fill:none;fill-rule:evenodd;stroke:#000000;stroke-width:2px;stroke-linecap:butt;stroke-linejoin:miter;stroke-opacity:1;stroke-dasharray:6,6\"/>\n",
       "<path d=\"M 242.867,72.4593 257.697,81.9949\" style=\"fill:none;fill-rule:evenodd;stroke:#000000;stroke-width:2px;stroke-linecap:butt;stroke-linejoin:miter;stroke-opacity:1\"/>\n",
       "<path d=\"M 198.379,15.4815 196.31,14.8905\" style=\"fill:none;fill-rule:evenodd;stroke:#000000;stroke-width:2px;stroke-linecap:butt;stroke-linejoin:miter;stroke-opacity:1\"/>\n",
       "<path d=\"M 195.429,24.6293 193.981,24.2156\" style=\"fill:none;fill-rule:evenodd;stroke:#000000;stroke-width:2px;stroke-linecap:butt;stroke-linejoin:miter;stroke-opacity:1;stroke-dasharray:6,6\"/>\n",
       "<path d=\"M 167.121,17.096 151.603,31.0633\" style=\"fill:none;fill-rule:evenodd;stroke:#000000;stroke-width:2px;stroke-linecap:butt;stroke-linejoin:miter;stroke-opacity:1\"/>\n",
       "<path d=\"M 171.22,26.3309 160.357,36.108\" style=\"fill:none;fill-rule:evenodd;stroke:#000000;stroke-width:2px;stroke-linecap:butt;stroke-linejoin:miter;stroke-opacity:1;stroke-dasharray:6,6\"/>\n",
       "<path d=\"M 144.816,47.0735 152.124,74.848\" style=\"fill:none;fill-rule:evenodd;stroke:#000000;stroke-width:2px;stroke-linecap:butt;stroke-linejoin:miter;stroke-opacity:1\"/>\n",
       "<path d=\"M 155.202,48.7952 160.318,68.2374\" style=\"fill:none;fill-rule:evenodd;stroke:#000000;stroke-width:2px;stroke-linecap:butt;stroke-linejoin:miter;stroke-opacity:1;stroke-dasharray:6,6\"/>\n",
       "<path d=\"M 146.859,90.8582 131.17,107.896\" style=\"fill:none;fill-rule:evenodd;stroke:#000000;stroke-width:2px;stroke-linecap:butt;stroke-linejoin:miter;stroke-opacity:1\"/>\n",
       "<path d=\"M 137.439,86.9068 126.457,98.8334\" style=\"fill:none;fill-rule:evenodd;stroke:#000000;stroke-width:2px;stroke-linecap:butt;stroke-linejoin:miter;stroke-opacity:1;stroke-dasharray:6,6\"/>\n",
       "<path d=\"M 290.444,84.4113 292.877,83.7412\" style=\"fill:none;fill-rule:evenodd;stroke:#000000;stroke-width:2px;stroke-linecap:butt;stroke-linejoin:miter;stroke-opacity:1\"/>\n",
       "<path d=\"M 293.359,93.5722 295.062,93.1032\" style=\"fill:none;fill-rule:evenodd;stroke:#000000;stroke-width:2px;stroke-linecap:butt;stroke-linejoin:miter;stroke-opacity:1;stroke-dasharray:6,6\"/>\n",
       "<path d=\"M 268.197,98.0051 261.34,126.141\" style=\"fill:none;fill-rule:evenodd;stroke:#000000;stroke-width:2px;stroke-linecap:butt;stroke-linejoin:miter;stroke-opacity:1\"/>\n",
       "<path d=\"M 257.835,99.9511 253.035,119.646\" style=\"fill:none;fill-rule:evenodd;stroke:#000000;stroke-width:2px;stroke-linecap:butt;stroke-linejoin:miter;stroke-opacity:1;stroke-dasharray:6,6\"/>\n",
       "<path d=\"M 321.407,86.1576 336.592,100.922\" style=\"fill:none;fill-rule:evenodd;stroke:#000000;stroke-width:2px;stroke-linecap:butt;stroke-linejoin:miter;stroke-opacity:1\"/>\n",
       "<path d=\"M 316.988,95.2596 327.618,105.595\" style=\"fill:none;fill-rule:evenodd;stroke:#000000;stroke-width:2px;stroke-linecap:butt;stroke-linejoin:miter;stroke-opacity:1;stroke-dasharray:6,6\"/>\n",
       "<path d=\"M 342.863,116.932 336.228,143.996\" style=\"fill:none;fill-rule:evenodd;stroke:#000000;stroke-width:2px;stroke-linecap:butt;stroke-linejoin:miter;stroke-opacity:1\"/>\n",
       "<path d=\"M 332.538,118.705 327.893,137.649\" style=\"fill:none;fill-rule:evenodd;stroke:#000000;stroke-width:2px;stroke-linecap:butt;stroke-linejoin:miter;stroke-opacity:1;stroke-dasharray:6,6\"/>\n",
       "<path d=\"M 313.969,158.034 312.224,158.552\" style=\"fill:none;fill-rule:evenodd;stroke:#000000;stroke-width:2px;stroke-linecap:butt;stroke-linejoin:miter;stroke-opacity:1\"/>\n",
       "<path d=\"M 310.97,148.904 309.749,149.267\" style=\"fill:none;fill-rule:evenodd;stroke:#000000;stroke-width:2px;stroke-linecap:butt;stroke-linejoin:miter;stroke-opacity:1;stroke-dasharray:6,6\"/>\n",
       "<path d=\"M 283.37,156.58 267.946,142.152\" style=\"fill:none;fill-rule:evenodd;stroke:#000000;stroke-width:2px;stroke-linecap:butt;stroke-linejoin:miter;stroke-opacity:1\"/>\n",
       "<path d=\"M 287.619,147.401 276.822,137.301\" style=\"fill:none;fill-rule:evenodd;stroke:#000000;stroke-width:2px;stroke-linecap:butt;stroke-linejoin:miter;stroke-opacity:1;stroke-dasharray:6,6\"/>\n",
       "<text style=\"font-size:16px;font-style:normal;font-weight:normal;fill-opacity:1;stroke:none;font-family:sans-serif;text-anchor:start;fill:#000000\" x=\"83.6549\" y=\"37.0639\"><tspan>C:0</tspan></text>\n",
       "<text style=\"font-size:16px;font-style:normal;font-weight:normal;fill-opacity:1;stroke:none;font-family:sans-serif;text-anchor:start;fill:#000000\" x=\"53.783\" y=\"68.668\"><tspan>C:1</tspan></text>\n",
       "<text style=\"font-size:16px;font-style:normal;font-weight:normal;fill-opacity:1;stroke:none;font-family:sans-serif;text-anchor:start;fill:#000000\" x=\"65.0894\" y=\"112.558\"><tspan>C:2</tspan></text>\n",
       "<text style=\"font-size:16px;font-style:normal;font-weight:normal;fill-opacity:1;stroke:none;font-family:sans-serif;text-anchor:start;fill:#000000\" x=\"34.8782\" y=\"145.578\"><tspan>C:3</tspan></text>\n",
       "<text style=\"font-size:16px;font-style:normal;font-weight:normal;fill-opacity:1;stroke:none;font-family:sans-serif;text-anchor:start;fill:#000000\" x=\"48.4004\" y=\"187.739\"><tspan>C:4</tspan></text>\n",
       "<text style=\"font-size:16px;font-style:normal;font-weight:normal;fill-opacity:1;stroke:none;font-family:sans-serif;text-anchor:start;fill:#000000\" x=\"91.1989\" y=\"198.914\"><tspan>C:5</tspan></text>\n",
       "<text style=\"font-size:16px;font-style:normal;font-weight:normal;fill-opacity:1;stroke:none;font-family:sans-serif;text-anchor:start;fill:#000000\" x=\"122.781\" y=\"167.022\"><tspan>C:6</tspan></text>\n",
       "<text style=\"font-size:16px;font-style:normal;font-weight:normal;fill-opacity:1;stroke:none;font-family:sans-serif;text-anchor:start;fill:#000000\" x=\"167.02\" y=\"177.518\"><tspan>C:7</tspan></text>\n",
       "<text style=\"font-size:16px;font-style:normal;font-weight:normal;fill-opacity:1;stroke:none;font-family:sans-serif;text-anchor:start;fill:#000000\" x=\"197.324\" y=\"145.927\"><tspan>C:8</tspan></text>\n",
       "<text style=\"font-size:16px;font-style:normal;font-weight:normal;fill-opacity:1;stroke:none;font-family:sans-serif;text-anchor:start;fill:#000000\" x=\"182.153\" y=\"101.963\"><tspan>C:9</tspan></text>\n",
       "<text style=\"font-size:16px;font-style:normal;font-weight:normal;fill-opacity:1;stroke:none;font-family:sans-serif;text-anchor:start;fill:#000000\" x=\"210.12\" y=\"72.4593\"><tspan>C:10</tspan></text>\n",
       "<text style=\"font-size:16px;font-style:normal;font-weight:normal;fill-opacity:1;stroke:none;font-family:sans-serif;text-anchor:start;fill:#000000\" x=\"198.379\" y=\"29.2862\"><tspan>C:11</tspan></text>\n",
       "<text style=\"font-size:16px;font-style:normal;font-weight:normal;fill-opacity:1;stroke:none;font-family:sans-serif;text-anchor:start;fill:#000000\" x=\"155.718\" y=\"17.096\"><tspan>C:12</tspan></text>\n",
       "<text style=\"font-size:16px;font-style:normal;font-weight:normal;fill-opacity:1;stroke:none;font-family:sans-serif;text-anchor:start;fill:#000000\" x=\"122.413\" y=\"47.0735\"><tspan>C:13</tspan></text>\n",
       "<text style=\"font-size:16px;font-style:normal;font-weight:normal;fill-opacity:1;stroke:none;font-family:sans-serif;text-anchor:start;fill:#000000\" x=\"133.934\" y=\"90.8582\"><tspan>C:14</tspan></text>\n",
       "<text style=\"font-size:16px;font-style:normal;font-weight:normal;fill-opacity:1;stroke:none;font-family:sans-serif;text-anchor:start;fill:#000000\" x=\"103.502\" y=\"123.906\"><tspan>C:15</tspan></text>\n",
       "<text style=\"font-size:16px;font-style:normal;font-weight:normal;fill-opacity:1;stroke:none;font-family:sans-serif;text-anchor:start;fill:#000000\" x=\"249.851\" y=\"98.0051\"><tspan>C:16</tspan></text>\n",
       "<text style=\"font-size:16px;font-style:normal;font-weight:normal;fill-opacity:1;stroke:none;font-family:sans-serif;text-anchor:start;fill:#000000\" x=\"292.877\" y=\"86.1576\"><tspan>C:17</tspan></text>\n",
       "<text style=\"font-size:16px;font-style:normal;font-weight:normal;fill-opacity:1;stroke:none;font-family:sans-serif;text-anchor:start;fill:#000000\" x=\"324.529\" y=\"116.932\"><tspan>C:18</tspan></text>\n",
       "<text style=\"font-size:16px;font-style:normal;font-weight:normal;fill-opacity:1;stroke:none;font-family:sans-serif;text-anchor:start;fill:#000000\" x=\"313.969\" y=\"160.006\"><tspan>C:19</tspan></text>\n",
       "<text style=\"font-size:16px;font-style:normal;font-weight:normal;fill-opacity:1;stroke:none;font-family:sans-serif;text-anchor:start;fill:#000000\" x=\"271.632\" y=\"172.59\"><tspan>C:20</tspan></text>\n",
       "<text style=\"font-size:16px;font-style:normal;font-weight:normal;fill-opacity:1;stroke:none;font-family:sans-serif;text-anchor:start;fill:#000000\" x=\"239.093\" y=\"142.152\"><tspan>C:21</tspan></text>\n",
       "</svg>"
      ],
      "text/plain": [
       "<IPython.core.display.SVG object>"
      ]
     },
     "metadata": {},
     "output_type": "display_data"
    },
    {
     "name": "stdout",
     "output_type": "stream",
     "text": [
      "[-2.6259972  -2.26133999 -1.96592665 -1.77725922 -1.53428453 -1.23239364\n",
      " -1.20990055 -1.10351348 -0.8748201  -0.75004693 -0.29095909  0.29095909\n",
      "  0.75004693  0.8748201   1.10351348  1.20990055  1.23239364  1.53428453\n",
      "  1.77725922  1.96592665  2.26133999  2.6259972 ]\n",
      "[-1. -1. -1. -1. -1. -1. -1. -1. -1. -1. -1. -1. -1. -1. -1. -1. -1. -1.\n",
      " -1. -1. -1. -1.]\n",
      "[-6.66133815e-16  2.22044605e-16 -1.55431223e-15  0.00000000e+00\n",
      " -4.44089210e-16  1.11022302e-16 -4.44089210e-16  9.99200722e-16\n",
      "  0.00000000e+00  1.11022302e-16 -8.88178420e-16 -6.66133815e-16\n",
      "  3.33066907e-16  3.33066907e-16 -8.88178420e-16 -2.22044605e-16\n",
      " -8.88178420e-16  3.33066907e-16  0.00000000e+00 -4.44089210e-16\n",
      " -4.44089210e-16  2.22044605e-16]\n",
      "[-0.49392686 -0.39535492 -0.48588174 -0.3383487  -0.44959701 -0.45022257\n",
      " -0.33749671 -0.55677942 -0.32909151 -0.35577528 -0.3383487  -0.44959701\n",
      " -0.45022257 -0.33749671 -0.55677942 -0.32909151 -0.35577528 -0.35698395\n",
      " -0.35698395 -0.48588174 -0.39535492 -0.49392686]\n"
     ]
    },
    {
     "data": {
      "image/svg+xml": [
       "<svg baseProfile=\"full\" height=\"200px\" version=\"1.1\" width=\"400px\" xml:space=\"preserve\" xmlns=\"http://www.w3.org/2000/svg\" xmlns:rdkit=\"http://www.rdkit.org/xml\" xmlns:xlink=\"http://www.w3.org/1999/xlink\">\n",
       "<rect height=\"200\" style=\"opacity:1.0;fill:#FFFFFF;stroke:none\" width=\"400\" x=\"0\" y=\"0\"> </rect>\n",
       "<ellipse cx=\"86.1704\" cy=\"157.409\" rx=\"15.7888\" ry=\"15.7888\" style=\"fill:#0000FF;fill-rule:evenodd;stroke:#0000FF;stroke-width:1px;stroke-linecap:butt;stroke-linejoin:miter;stroke-opacity:1\"/>\n",
       "<ellipse cx=\"53.7411\" cy=\"127.684\" rx=\"12.6378\" ry=\"12.6378\" style=\"fill:#0000FF;fill-rule:evenodd;stroke:#0000FF;stroke-width:1px;stroke-linecap:butt;stroke-linejoin:miter;stroke-opacity:1\"/>\n",
       "<ellipse cx=\"62.1864\" cy=\"84.2361\" rx=\"15.5316\" ry=\"15.5316\" style=\"fill:#0000FF;fill-rule:evenodd;stroke:#0000FF;stroke-width:1px;stroke-linecap:butt;stroke-linejoin:miter;stroke-opacity:1\"/>\n",
       "<ellipse cx=\"104.285\" cy=\"69.4679\" rx=\"10.8156\" ry=\"10.8156\" style=\"fill:#0000FF;fill-rule:evenodd;stroke:#0000FF;stroke-width:1px;stroke-linecap:butt;stroke-linejoin:miter;stroke-opacity:1\"/>\n",
       "<ellipse cx=\"113.651\" cy=\"23.728\" rx=\"14.3717\" ry=\"14.3717\" style=\"fill:#0000FF;fill-rule:evenodd;stroke:#0000FF;stroke-width:1px;stroke-linecap:butt;stroke-linejoin:miter;stroke-opacity:1\"/>\n",
       "<ellipse cx=\"154.289\" cy=\"9.09091\" rx=\"14.3917\" ry=\"14.3917\" style=\"fill:#0000FF;fill-rule:evenodd;stroke:#0000FF;stroke-width:1px;stroke-linecap:butt;stroke-linejoin:miter;stroke-opacity:1\"/>\n",
       "<ellipse cx=\"189.938\" cy=\"39.3082\" rx=\"10.7883\" ry=\"10.7883\" style=\"fill:#0000FF;fill-rule:evenodd;stroke:#0000FF;stroke-width:1px;stroke-linecap:butt;stroke-linejoin:miter;stroke-opacity:1\"/>\n",
       "<ellipse cx=\"232.19\" cy=\"25.8761\" rx=\"17.7979\" ry=\"17.7979\" style=\"fill:#0000FF;fill-rule:evenodd;stroke:#0000FF;stroke-width:1px;stroke-linecap:butt;stroke-linejoin:miter;stroke-opacity:1\"/>\n",
       "<ellipse cx=\"265.588\" cy=\"55.9911\" rx=\"10.5197\" ry=\"10.5197\" style=\"fill:#0000FF;fill-rule:evenodd;stroke:#0000FF;stroke-width:1px;stroke-linecap:butt;stroke-linejoin:miter;stroke-opacity:1\"/>\n",
       "<ellipse cx=\"256.638\" cy=\"100.408\" rx=\"11.3726\" ry=\"11.3726\" style=\"fill:#0000FF;fill-rule:evenodd;stroke:#0000FF;stroke-width:1px;stroke-linecap:butt;stroke-linejoin:miter;stroke-opacity:1\"/>\n",
       "<ellipse cx=\"290.39\" cy=\"130.526\" rx=\"10.8156\" ry=\"10.8156\" style=\"fill:#0000FF;fill-rule:evenodd;stroke:#0000FF;stroke-width:1px;stroke-linecap:butt;stroke-linejoin:miter;stroke-opacity:1\"/>\n",
       "<ellipse cx=\"281.024\" cy=\"176.266\" rx=\"14.3717\" ry=\"14.3717\" style=\"fill:#0000FF;fill-rule:evenodd;stroke:#0000FF;stroke-width:1px;stroke-linecap:butt;stroke-linejoin:miter;stroke-opacity:1\"/>\n",
       "<ellipse cx=\"240.386\" cy=\"190.909\" rx=\"14.3917\" ry=\"14.3917\" style=\"fill:#0000FF;fill-rule:evenodd;stroke:#0000FF;stroke-width:1px;stroke-linecap:butt;stroke-linejoin:miter;stroke-opacity:1\"/>\n",
       "<ellipse cx=\"204.731\" cy=\"160.701\" rx=\"10.7883\" ry=\"10.7883\" style=\"fill:#0000FF;fill-rule:evenodd;stroke:#0000FF;stroke-width:1px;stroke-linecap:butt;stroke-linejoin:miter;stroke-opacity:1\"/>\n",
       "<ellipse cx=\"162.476\" cy=\"174.127\" rx=\"17.7979\" ry=\"17.7979\" style=\"fill:#0000FF;fill-rule:evenodd;stroke:#0000FF;stroke-width:1px;stroke-linecap:butt;stroke-linejoin:miter;stroke-opacity:1\"/>\n",
       "<ellipse cx=\"129.078\" cy=\"144.012\" rx=\"10.5197\" ry=\"10.5197\" style=\"fill:#0000FF;fill-rule:evenodd;stroke:#0000FF;stroke-width:1px;stroke-linecap:butt;stroke-linejoin:miter;stroke-opacity:1\"/>\n",
       "<ellipse cx=\"138.032\" cy=\"99.5956\" rx=\"11.3726\" ry=\"11.3726\" style=\"fill:#0000FF;fill-rule:evenodd;stroke:#0000FF;stroke-width:1px;stroke-linecap:butt;stroke-linejoin:miter;stroke-opacity:1\"/>\n",
       "<ellipse cx=\"180.495\" cy=\"85.1567\" rx=\"11.4113\" ry=\"11.4113\" style=\"fill:#0000FF;fill-rule:evenodd;stroke:#0000FF;stroke-width:1px;stroke-linecap:butt;stroke-linejoin:miter;stroke-opacity:1\"/>\n",
       "<ellipse cx=\"214.174\" cy=\"114.853\" rx=\"11.4113\" ry=\"11.4113\" style=\"fill:#0000FF;fill-rule:evenodd;stroke:#0000FF;stroke-width:1px;stroke-linecap:butt;stroke-linejoin:miter;stroke-opacity:1\"/>\n",
       "<ellipse cx=\"332.486\" cy=\"115.748\" rx=\"15.5316\" ry=\"15.5316\" style=\"fill:#0000FF;fill-rule:evenodd;stroke:#0000FF;stroke-width:1px;stroke-linecap:butt;stroke-linejoin:miter;stroke-opacity:1\"/>\n",
       "<ellipse cx=\"340.925\" cy=\"72.2969\" rx=\"12.6378\" ry=\"12.6378\" style=\"fill:#0000FF;fill-rule:evenodd;stroke:#0000FF;stroke-width:1px;stroke-linecap:butt;stroke-linejoin:miter;stroke-opacity:1\"/>\n",
       "<ellipse cx=\"308.489\" cy=\"42.5815\" rx=\"15.7888\" ry=\"15.7888\" style=\"fill:#0000FF;fill-rule:evenodd;stroke:#0000FF;stroke-width:1px;stroke-linecap:butt;stroke-linejoin:miter;stroke-opacity:1\"/>\n",
       "<path d=\"M 77.4519,149.418 62.4596,135.675\" style=\"fill:none;fill-rule:evenodd;stroke:#000000;stroke-width:2px;stroke-linecap:butt;stroke-linejoin:miter;stroke-opacity:1\"/>\n",
       "<path d=\"M 81.6828,140.287 71.1882,130.667\" style=\"fill:none;fill-rule:evenodd;stroke:#000000;stroke-width:2px;stroke-linecap:butt;stroke-linejoin:miter;stroke-opacity:1;stroke-dasharray:6,6\"/>\n",
       "<path d=\"M 101.098,152.748 108.816,150.338\" style=\"fill:none;fill-rule:evenodd;stroke:#000000;stroke-width:2px;stroke-linecap:butt;stroke-linejoin:miter;stroke-opacity:1\"/>\n",
       "<path d=\"M 99.3977,143.233 104.801,141.546\" style=\"fill:none;fill-rule:evenodd;stroke:#000000;stroke-width:2px;stroke-linecap:butt;stroke-linejoin:miter;stroke-opacity:1;stroke-dasharray:6,6\"/>\n",
       "<path d=\"M 55.2945,119.693 60.6331,92.2275\" style=\"fill:none;fill-rule:evenodd;stroke:#000000;stroke-width:2px;stroke-linecap:butt;stroke-linejoin:miter;stroke-opacity:1\"/>\n",
       "<path d=\"M 65.5088,117.403 69.2458,98.1771\" style=\"fill:none;fill-rule:evenodd;stroke:#000000;stroke-width:2px;stroke-linecap:butt;stroke-linejoin:miter;stroke-opacity:1;stroke-dasharray:6,6\"/>\n",
       "<path d=\"M 77.114,78.9995 89.3578,74.7044\" style=\"fill:none;fill-rule:evenodd;stroke:#000000;stroke-width:2px;stroke-linecap:butt;stroke-linejoin:miter;stroke-opacity:1\"/>\n",
       "<path d=\"M 82.125,87.4044 90.6956,84.3978\" style=\"fill:none;fill-rule:evenodd;stroke:#000000;stroke-width:2px;stroke-linecap:butt;stroke-linejoin:miter;stroke-opacity:1;stroke-dasharray:6,6\"/>\n",
       "<path d=\"M 105.922,61.4764 112.015,31.7195\" style=\"fill:none;fill-rule:evenodd;stroke:#000000;stroke-width:2px;stroke-linecap:butt;stroke-linejoin:miter;stroke-opacity:1\"/>\n",
       "<path d=\"M 116.231,58.9366 120.496,38.1068\" style=\"fill:none;fill-rule:evenodd;stroke:#000000;stroke-width:2px;stroke-linecap:butt;stroke-linejoin:miter;stroke-opacity:1;stroke-dasharray:6,6\"/>\n",
       "<path d=\"M 113.237,77.4593 129.08,91.6042\" style=\"fill:none;fill-rule:evenodd;stroke:#000000;stroke-width:2px;stroke-linecap:butt;stroke-linejoin:miter;stroke-opacity:1\"/>\n",
       "<path d=\"M 109.227,86.7347 120.317,96.6361\" style=\"fill:none;fill-rule:evenodd;stroke:#000000;stroke-width:2px;stroke-linecap:butt;stroke-linejoin:miter;stroke-opacity:1;stroke-dasharray:6,6\"/>\n",
       "<path d=\"M 128.579,18.3514 139.362,14.4676\" style=\"fill:none;fill-rule:evenodd;stroke:#000000;stroke-width:2px;stroke-linecap:butt;stroke-linejoin:miter;stroke-opacity:1\"/>\n",
       "<path d=\"M 133.446,26.7911 140.994,24.0725\" style=\"fill:none;fill-rule:evenodd;stroke:#000000;stroke-width:2px;stroke-linecap:butt;stroke-linejoin:miter;stroke-opacity:1;stroke-dasharray:6,6\"/>\n",
       "<path d=\"M 163.717,17.0824 180.51,31.3167\" style=\"fill:none;fill-rule:evenodd;stroke:#000000;stroke-width:2px;stroke-linecap:butt;stroke-linejoin:miter;stroke-opacity:1\"/>\n",
       "<path d=\"M 160.035,26.5328 171.79,36.4968\" style=\"fill:none;fill-rule:evenodd;stroke:#000000;stroke-width:2px;stroke-linecap:butt;stroke-linejoin:miter;stroke-opacity:1;stroke-dasharray:6,6\"/>\n",
       "<path d=\"M 204.865,34.5627 217.262,30.6216\" style=\"fill:none;fill-rule:evenodd;stroke:#000000;stroke-width:2px;stroke-linecap:butt;stroke-linejoin:miter;stroke-opacity:1\"/>\n",
       "<path d=\"M 209.63,43.1106 218.308,40.3518\" style=\"fill:none;fill-rule:evenodd;stroke:#000000;stroke-width:2px;stroke-linecap:butt;stroke-linejoin:miter;stroke-opacity:1;stroke-dasharray:6,6\"/>\n",
       "<path d=\"M 188.292,47.2996 182.141,77.1652\" style=\"fill:none;fill-rule:evenodd;stroke:#000000;stroke-width:2px;stroke-linecap:butt;stroke-linejoin:miter;stroke-opacity:1\"/>\n",
       "<path d=\"M 177.977,49.845 173.671,70.751\" style=\"fill:none;fill-rule:evenodd;stroke:#000000;stroke-width:2px;stroke-linecap:butt;stroke-linejoin:miter;stroke-opacity:1;stroke-dasharray:6,6\"/>\n",
       "<path d=\"M 241.053,33.8676 256.725,47.9997\" style=\"fill:none;fill-rule:evenodd;stroke:#000000;stroke-width:2px;stroke-linecap:butt;stroke-linejoin:miter;stroke-opacity:1\"/>\n",
       "<path d=\"M 236.982,43.1094 247.953,53.0018\" style=\"fill:none;fill-rule:evenodd;stroke:#000000;stroke-width:2px;stroke-linecap:butt;stroke-linejoin:miter;stroke-opacity:1;stroke-dasharray:6,6\"/>\n",
       "<path d=\"M 263.978,63.9826 258.248,92.4161\" style=\"fill:none;fill-rule:evenodd;stroke:#000000;stroke-width:2px;stroke-linecap:butt;stroke-linejoin:miter;stroke-opacity:1\"/>\n",
       "<path d=\"M 253.717,66.3532 249.707,86.2567\" style=\"fill:none;fill-rule:evenodd;stroke:#000000;stroke-width:2px;stroke-linecap:butt;stroke-linejoin:miter;stroke-opacity:1;stroke-dasharray:6,6\"/>\n",
       "<path d=\"M 280.516,51.3252 288.228,48.9146\" style=\"fill:none;fill-rule:evenodd;stroke:#000000;stroke-width:2px;stroke-linecap:butt;stroke-linejoin:miter;stroke-opacity:1\"/>\n",
       "<path d=\"M 284.533,60.1166 289.932,58.4292\" style=\"fill:none;fill-rule:evenodd;stroke:#000000;stroke-width:2px;stroke-linecap:butt;stroke-linejoin:miter;stroke-opacity:1;stroke-dasharray:6,6\"/>\n",
       "<path d=\"M 265.593,108.399 281.434,122.534\" style=\"fill:none;fill-rule:evenodd;stroke:#000000;stroke-width:2px;stroke-linecap:butt;stroke-linejoin:miter;stroke-opacity:1\"/>\n",
       "<path d=\"M 274.354,103.364 285.443,113.259\" style=\"fill:none;fill-rule:evenodd;stroke:#000000;stroke-width:2px;stroke-linecap:butt;stroke-linejoin:miter;stroke-opacity:1;stroke-dasharray:6,6\"/>\n",
       "<path d=\"M 241.71,105.486 234.436,107.96\" style=\"fill:none;fill-rule:evenodd;stroke:#000000;stroke-width:2px;stroke-linecap:butt;stroke-linejoin:miter;stroke-opacity:1\"/>\n",
       "<path d=\"M 237.53,96.7781 232.438,98.5103\" style=\"fill:none;fill-rule:evenodd;stroke:#000000;stroke-width:2px;stroke-linecap:butt;stroke-linejoin:miter;stroke-opacity:1;stroke-dasharray:6,6\"/>\n",
       "<path d=\"M 288.754,138.517 282.661,168.274\" style=\"fill:none;fill-rule:evenodd;stroke:#000000;stroke-width:2px;stroke-linecap:butt;stroke-linejoin:miter;stroke-opacity:1\"/>\n",
       "<path d=\"M 278.445,141.057 274.18,161.887\" style=\"fill:none;fill-rule:evenodd;stroke:#000000;stroke-width:2px;stroke-linecap:butt;stroke-linejoin:miter;stroke-opacity:1;stroke-dasharray:6,6\"/>\n",
       "<path d=\"M 310.652,123.413 312.224,122.861\" style=\"fill:none;fill-rule:evenodd;stroke:#000000;stroke-width:2px;stroke-linecap:butt;stroke-linejoin:miter;stroke-opacity:1\"/>\n",
       "<path d=\"M 307.711,114.282 308.812,113.895\" style=\"fill:none;fill-rule:evenodd;stroke:#000000;stroke-width:2px;stroke-linecap:butt;stroke-linejoin:miter;stroke-opacity:1;stroke-dasharray:6,6\"/>\n",
       "<path d=\"M 260.763,183.567 260.648,183.608\" style=\"fill:none;fill-rule:evenodd;stroke:#000000;stroke-width:2px;stroke-linecap:butt;stroke-linejoin:miter;stroke-opacity:1\"/>\n",
       "<path d=\"M 257.494,174.551 257.414,174.58\" style=\"fill:none;fill-rule:evenodd;stroke:#000000;stroke-width:2px;stroke-linecap:butt;stroke-linejoin:miter;stroke-opacity:1;stroke-dasharray:6,6\"/>\n",
       "<path d=\"M 230.954,182.918 214.164,168.693\" style=\"fill:none;fill-rule:evenodd;stroke:#000000;stroke-width:2px;stroke-linecap:butt;stroke-linejoin:miter;stroke-opacity:1\"/>\n",
       "<path d=\"M 234.634,173.467 222.881,163.51\" style=\"fill:none;fill-rule:evenodd;stroke:#000000;stroke-width:2px;stroke-linecap:butt;stroke-linejoin:miter;stroke-opacity:1;stroke-dasharray:6,6\"/>\n",
       "<path d=\"M 184.47,167.139 182.738,167.689\" style=\"fill:none;fill-rule:evenodd;stroke:#000000;stroke-width:2px;stroke-linecap:butt;stroke-linejoin:miter;stroke-opacity:1\"/>\n",
       "<path d=\"M 181.306,158.082 180.094,158.467\" style=\"fill:none;fill-rule:evenodd;stroke:#000000;stroke-width:2px;stroke-linecap:butt;stroke-linejoin:miter;stroke-opacity:1;stroke-dasharray:6,6\"/>\n",
       "<path d=\"M 206.377,152.71 212.528,122.844\" style=\"fill:none;fill-rule:evenodd;stroke:#000000;stroke-width:2px;stroke-linecap:butt;stroke-linejoin:miter;stroke-opacity:1\"/>\n",
       "<path d=\"M 216.693,150.165 220.998,129.259\" style=\"fill:none;fill-rule:evenodd;stroke:#000000;stroke-width:2px;stroke-linecap:butt;stroke-linejoin:miter;stroke-opacity:1;stroke-dasharray:6,6\"/>\n",
       "<path d=\"M 153.613,166.136 137.941,152.004\" style=\"fill:none;fill-rule:evenodd;stroke:#000000;stroke-width:2px;stroke-linecap:butt;stroke-linejoin:miter;stroke-opacity:1\"/>\n",
       "<path d=\"M 157.684,156.894 146.713,147.001\" style=\"fill:none;fill-rule:evenodd;stroke:#000000;stroke-width:2px;stroke-linecap:butt;stroke-linejoin:miter;stroke-opacity:1;stroke-dasharray:6,6\"/>\n",
       "<path d=\"M 130.689,136.021 136.421,107.587\" style=\"fill:none;fill-rule:evenodd;stroke:#000000;stroke-width:2px;stroke-linecap:butt;stroke-linejoin:miter;stroke-opacity:1\"/>\n",
       "<path d=\"M 140.949,133.651 144.962,113.747\" style=\"fill:none;fill-rule:evenodd;stroke:#000000;stroke-width:2px;stroke-linecap:butt;stroke-linejoin:miter;stroke-opacity:1;stroke-dasharray:6,6\"/>\n",
       "<path d=\"M 158.293,92.706 160.233,92.0463\" style=\"fill:none;fill-rule:evenodd;stroke:#000000;stroke-width:2px;stroke-linecap:butt;stroke-linejoin:miter;stroke-opacity:1\"/>\n",
       "<path d=\"M 161.672,101.686 163.03,101.224\" style=\"fill:none;fill-rule:evenodd;stroke:#000000;stroke-width:2px;stroke-linecap:butt;stroke-linejoin:miter;stroke-opacity:1;stroke-dasharray:6,6\"/>\n",
       "<path d=\"M 189.558,93.1481 205.111,106.861\" style=\"fill:none;fill-rule:evenodd;stroke:#000000;stroke-width:2px;stroke-linecap:butt;stroke-linejoin:miter;stroke-opacity:1\"/>\n",
       "<path d=\"M 185.549,102.398 196.436,111.997\" style=\"fill:none;fill-rule:evenodd;stroke:#000000;stroke-width:2px;stroke-linecap:butt;stroke-linejoin:miter;stroke-opacity:1;stroke-dasharray:6,6\"/>\n",
       "<path d=\"M 334.038,107.756 339.373,80.2883\" style=\"fill:none;fill-rule:evenodd;stroke:#000000;stroke-width:2px;stroke-linecap:butt;stroke-linejoin:miter;stroke-opacity:1\"/>\n",
       "<path d=\"M 325.424,101.808 329.159,82.5802\" style=\"fill:none;fill-rule:evenodd;stroke:#000000;stroke-width:2px;stroke-linecap:butt;stroke-linejoin:miter;stroke-opacity:1;stroke-dasharray:6,6\"/>\n",
       "<path d=\"M 332.202,64.3054 317.212,50.5729\" style=\"fill:none;fill-rule:evenodd;stroke:#000000;stroke-width:2px;stroke-linecap:butt;stroke-linejoin:miter;stroke-opacity:1\"/>\n",
       "<path d=\"M 323.475,69.3165 312.983,59.7038\" style=\"fill:none;fill-rule:evenodd;stroke:#000000;stroke-width:2px;stroke-linecap:butt;stroke-linejoin:miter;stroke-opacity:1;stroke-dasharray:6,6\"/>\n",
       "<text style=\"font-size:15px;font-style:normal;font-weight:normal;fill-opacity:1;stroke:none;font-family:sans-serif;text-anchor:start;fill:#000000\" x=\"71.2428\" y=\"165.4\"><tspan>C:0</tspan></text>\n",
       "<text style=\"font-size:15px;font-style:normal;font-weight:normal;fill-opacity:1;stroke:none;font-family:sans-serif;text-anchor:start;fill:#000000\" x=\"38.8135\" y=\"135.675\"><tspan>C:1</tspan></text>\n",
       "<text style=\"font-size:15px;font-style:normal;font-weight:normal;fill-opacity:1;stroke:none;font-family:sans-serif;text-anchor:start;fill:#000000\" x=\"47.2588\" y=\"92.2275\"><tspan>C:2</tspan></text>\n",
       "<text style=\"font-size:15px;font-style:normal;font-weight:normal;fill-opacity:1;stroke:none;font-family:sans-serif;text-anchor:start;fill:#000000\" x=\"89.3578\" y=\"77.4593\"><tspan>C:3</tspan></text>\n",
       "<text style=\"font-size:15px;font-style:normal;font-weight:normal;fill-opacity:1;stroke:none;font-family:sans-serif;text-anchor:start;fill:#000000\" x=\"98.7238\" y=\"31.7195\"><tspan>C:4</tspan></text>\n",
       "<text style=\"font-size:15px;font-style:normal;font-weight:normal;fill-opacity:1;stroke:none;font-family:sans-serif;text-anchor:start;fill:#000000\" x=\"139.362\" y=\"17.0824\"><tspan>C:5</tspan></text>\n",
       "<text style=\"font-size:15px;font-style:normal;font-weight:normal;fill-opacity:1;stroke:none;font-family:sans-serif;text-anchor:start;fill:#000000\" x=\"175.01\" y=\"47.2996\"><tspan>C:6</tspan></text>\n",
       "<text style=\"font-size:15px;font-style:normal;font-weight:normal;fill-opacity:1;stroke:none;font-family:sans-serif;text-anchor:start;fill:#000000\" x=\"217.262\" y=\"33.8676\"><tspan>C:7</tspan></text>\n",
       "<text style=\"font-size:15px;font-style:normal;font-weight:normal;fill-opacity:1;stroke:none;font-family:sans-serif;text-anchor:start;fill:#000000\" x=\"250.66\" y=\"63.9826\"><tspan>C:8</tspan></text>\n",
       "<text style=\"font-size:15px;font-style:normal;font-weight:normal;fill-opacity:1;stroke:none;font-family:sans-serif;text-anchor:start;fill:#000000\" x=\"241.71\" y=\"108.399\"><tspan>C:9</tspan></text>\n",
       "<text style=\"font-size:15px;font-style:normal;font-weight:normal;fill-opacity:1;stroke:none;font-family:sans-serif;text-anchor:start;fill:#000000\" x=\"270.129\" y=\"138.517\"><tspan>C:10</tspan></text>\n",
       "<text style=\"font-size:15px;font-style:normal;font-weight:normal;fill-opacity:1;stroke:none;font-family:sans-serif;text-anchor:start;fill:#000000\" x=\"260.763\" y=\"184.257\"><tspan>C:11</tspan></text>\n",
       "<text style=\"font-size:15px;font-style:normal;font-weight:normal;fill-opacity:1;stroke:none;font-family:sans-serif;text-anchor:start;fill:#000000\" x=\"220.124\" y=\"198.901\"><tspan>C:12</tspan></text>\n",
       "<text style=\"font-size:15px;font-style:normal;font-weight:normal;fill-opacity:1;stroke:none;font-family:sans-serif;text-anchor:start;fill:#000000\" x=\"184.47\" y=\"168.693\"><tspan>C:13</tspan></text>\n",
       "<text style=\"font-size:15px;font-style:normal;font-weight:normal;fill-opacity:1;stroke:none;font-family:sans-serif;text-anchor:start;fill:#000000\" x=\"142.214\" y=\"182.119\"><tspan>C:14</tspan></text>\n",
       "<text style=\"font-size:15px;font-style:normal;font-weight:normal;fill-opacity:1;stroke:none;font-family:sans-serif;text-anchor:start;fill:#000000\" x=\"108.816\" y=\"152.004\"><tspan>C:15</tspan></text>\n",
       "<text style=\"font-size:15px;font-style:normal;font-weight:normal;fill-opacity:1;stroke:none;font-family:sans-serif;text-anchor:start;fill:#000000\" x=\"117.77\" y=\"107.587\"><tspan>C:16</tspan></text>\n",
       "<text style=\"font-size:15px;font-style:normal;font-weight:normal;fill-opacity:1;stroke:none;font-family:sans-serif;text-anchor:start;fill:#000000\" x=\"160.233\" y=\"93.1481\"><tspan>C:17</tspan></text>\n",
       "<text style=\"font-size:15px;font-style:normal;font-weight:normal;fill-opacity:1;stroke:none;font-family:sans-serif;text-anchor:start;fill:#000000\" x=\"193.913\" y=\"122.844\"><tspan>C:18</tspan></text>\n",
       "<text style=\"font-size:15px;font-style:normal;font-weight:normal;fill-opacity:1;stroke:none;font-family:sans-serif;text-anchor:start;fill:#000000\" x=\"312.224\" y=\"123.739\"><tspan>C:19</tspan></text>\n",
       "<text style=\"font-size:15px;font-style:normal;font-weight:normal;fill-opacity:1;stroke:none;font-family:sans-serif;text-anchor:start;fill:#000000\" x=\"320.663\" y=\"80.2883\"><tspan>C:20</tspan></text>\n",
       "<text style=\"font-size:15px;font-style:normal;font-weight:normal;fill-opacity:1;stroke:none;font-family:sans-serif;text-anchor:start;fill:#000000\" x=\"288.228\" y=\"50.5729\"><tspan>C:21</tspan></text>\n",
       "</svg>"
      ],
      "text/plain": [
       "<IPython.core.display.SVG object>"
      ]
     },
     "metadata": {},
     "output_type": "display_data"
    }
   ],
   "source": [
    "#1st molecule\n",
    "i=0\n",
    "solver = shmo.HuckelSolver(data=conmats[i])\n",
    "print(solver.energies)\n",
    "print(solver.charge_densities)\n",
    "print(solver.net_charges)\n",
    "print(np.diag(solver.aa_polar))\n",
    "eigenvecs = solver.eigen_vectors\n",
    "draw_MO(rdkit_objects[i], solver.net_charges*10.)\n",
    "\n",
    "#3rd molecule\n",
    "i=2\n",
    "solver = shmo.HuckelSolver(data=conmats[i])\n",
    "print(solver.energies)\n",
    "print(solver.charge_densities)\n",
    "print(solver.net_charges)\n",
    "print(np.diag(solver.aa_polar))\n",
    "eigenvecs = solver.eigen_vectors\n",
    "draw_MO(molecules[i], solver.net_charges*10.)\n",
    "\n",
    "#2nd molecule\n",
    "i=1\n",
    "solver = shmo.HuckelSolver(data=conmats[i])\n",
    "print(solver.energies)\n",
    "print(solver.charge_densities)\n",
    "print(solver.net_charges)\n",
    "print(np.diag(solver.aa_polar))\n",
    "eigenvecs = solver.eigen_vectors\n",
    "draw_MO(molecules[i], np.diag(solver.aa_polar))"
   ]
  },
  {
   "cell_type": "markdown",
   "metadata": {
    "collapsed": true
   },
   "source": [
    "An electrophile will attack at the carbon atoms with increased charge as compared to the blank atom, whereas a nucleophile will attack at a carbon atom where charge has been depleted. In the case of molecules[1] we have to have a look at the polarizability, which, when increased, will facilitate attacks at these positions.\n",
    "\n",
    "Indeno[1,2,3-cd]fluoranthene <br>\n",
    "The most likely attack point for a nucleophile are carbon atoms C7, C8, C17 and C18, whereas an electrophile would attack C20 and C21.\n",
    "\n",
    "\n",
    "Indeno[1,2,3-cd]pyrene <br>\n",
    "The most likely attack point for a nucleophile is carbon atom C7. An electrophile would attack C9 (or any other one in the 5-membered ring).\n",
    "\n",
    "\n",
    "Dibenzo[cd,jk]pyrene<br>\n",
    "The most likely attack points for either nucleophiles or electrophiles are C7, C21, C19, C14, C2, etc. - all due to their higher polarizability and accessibility."
   ]
  },
  {
   "cell_type": "code",
   "execution_count": null,
   "metadata": {
    "collapsed": true
   },
   "outputs": [],
   "source": []
  }
 ],
 "metadata": {
  "kernelspec": {
   "display_name": "Python 3",
   "language": "python",
   "name": "python3"
  },
  "language_info": {
   "codemirror_mode": {
    "name": "ipython",
    "version": 3
   },
   "file_extension": ".py",
   "mimetype": "text/x-python",
   "name": "python",
   "nbconvert_exporter": "python",
   "pygments_lexer": "ipython3",
   "version": "3.6.3"
  }
 },
 "nbformat": 4,
 "nbformat_minor": 2
}
